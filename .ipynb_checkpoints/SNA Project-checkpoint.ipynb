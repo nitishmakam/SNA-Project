{
 "cells": [
  {
   "cell_type": "code",
   "execution_count": 1,
   "metadata": {},
   "outputs": [],
   "source": [
    "#SNA Project Part2"
   ]
  },
  {
   "cell_type": "code",
   "execution_count": 1,
   "metadata": {},
   "outputs": [],
   "source": [
    "import numpy as np\n",
    "import pandas as pd\n",
    "import networkx as nx\n",
    "import matplotlib.pyplot as plt\n",
    "from networkx.algorithms import community\n",
    "from sklearn.metrics.pairwise import cosine_similarity\n",
    "from sklearn.metrics import pairwise_distances\n",
    "from scipy.spatial.distance import cosine, correlation, hamming"
   ]
  },
  {
   "cell_type": "code",
   "execution_count": 2,
   "metadata": {},
   "outputs": [],
   "source": [
    "u_cols=[\"user_id\",\"age\",\"sex\",\"occupation\",\"zip_code\"]\n",
    "r_cols=[\"user_id\",\"movie_id\",\"rating\",\"timestamp\"]\n",
    "m_cols=[\"movie_id\",\"title\",\"release_date\",\"video_release_date\",\"imdb_url\",\"unknown\",\"Action\",\"Adventure\",\n",
    "       \"Animation\",\"Children\\'s\",\"Comedy\",\"Crime\",\"Documentary\",\"Drama\",\"Fantasy\",\"Film-Noir\",\"Horror\",\"Musical\",\n",
    "       \"Mystery\",\"Romance\",\"Sci-Fi\",\"Thriller\",\"War\",\"Western\"]\n",
    "# 1.Users Dataset\n",
    "users=pd.read_csv(\"u.user\",sep='|',names=u_cols,parse_dates=True)\n",
    "#2. Rating dataset\n",
    "ratings=pd.read_csv(\"u.data\",sep='\\t',names=r_cols)\n",
    "#3. Movies Dataset\n",
    "movies=pd.read_csv(\"u.item\",sep='|',names=m_cols,encoding=\"latin-1\")\n",
    "# ratings=ratings.drop('timestamp',1)\n",
    "# movies=movies.drop(['imdb_url','release_date','video_release_date'],1)"
   ]
  },
  {
   "cell_type": "code",
   "execution_count": 3,
   "metadata": {},
   "outputs": [
    {
     "data": {
      "text/html": [
       "<div>\n",
       "<style scoped>\n",
       "    .dataframe tbody tr th:only-of-type {\n",
       "        vertical-align: middle;\n",
       "    }\n",
       "\n",
       "    .dataframe tbody tr th {\n",
       "        vertical-align: top;\n",
       "    }\n",
       "\n",
       "    .dataframe thead th {\n",
       "        text-align: right;\n",
       "    }\n",
       "</style>\n",
       "<table border=\"1\" class=\"dataframe\">\n",
       "  <thead>\n",
       "    <tr style=\"text-align: right;\">\n",
       "      <th>user_id</th>\n",
       "      <th>1</th>\n",
       "      <th>2</th>\n",
       "      <th>3</th>\n",
       "      <th>4</th>\n",
       "      <th>5</th>\n",
       "      <th>6</th>\n",
       "      <th>7</th>\n",
       "      <th>8</th>\n",
       "      <th>9</th>\n",
       "      <th>10</th>\n",
       "      <th>...</th>\n",
       "      <th>934</th>\n",
       "      <th>935</th>\n",
       "      <th>936</th>\n",
       "      <th>937</th>\n",
       "      <th>938</th>\n",
       "      <th>939</th>\n",
       "      <th>940</th>\n",
       "      <th>941</th>\n",
       "      <th>942</th>\n",
       "      <th>943</th>\n",
       "    </tr>\n",
       "  </thead>\n",
       "  <tbody>\n",
       "    <tr>\n",
       "      <th>0</th>\n",
       "      <td>5.0</td>\n",
       "      <td>4.0</td>\n",
       "      <td>0.0</td>\n",
       "      <td>0.0</td>\n",
       "      <td>4.0</td>\n",
       "      <td>4.0</td>\n",
       "      <td>0.0</td>\n",
       "      <td>0.0</td>\n",
       "      <td>0.0</td>\n",
       "      <td>4.0</td>\n",
       "      <td>...</td>\n",
       "      <td>2.0</td>\n",
       "      <td>3.0</td>\n",
       "      <td>4.0</td>\n",
       "      <td>0.0</td>\n",
       "      <td>4.0</td>\n",
       "      <td>0.0</td>\n",
       "      <td>0.0</td>\n",
       "      <td>5.0</td>\n",
       "      <td>0.0</td>\n",
       "      <td>0.0</td>\n",
       "    </tr>\n",
       "    <tr>\n",
       "      <th>1</th>\n",
       "      <td>3.0</td>\n",
       "      <td>0.0</td>\n",
       "      <td>0.0</td>\n",
       "      <td>0.0</td>\n",
       "      <td>3.0</td>\n",
       "      <td>0.0</td>\n",
       "      <td>0.0</td>\n",
       "      <td>0.0</td>\n",
       "      <td>0.0</td>\n",
       "      <td>0.0</td>\n",
       "      <td>...</td>\n",
       "      <td>4.0</td>\n",
       "      <td>0.0</td>\n",
       "      <td>0.0</td>\n",
       "      <td>0.0</td>\n",
       "      <td>0.0</td>\n",
       "      <td>0.0</td>\n",
       "      <td>0.0</td>\n",
       "      <td>0.0</td>\n",
       "      <td>0.0</td>\n",
       "      <td>5.0</td>\n",
       "    </tr>\n",
       "    <tr>\n",
       "      <th>2</th>\n",
       "      <td>4.0</td>\n",
       "      <td>0.0</td>\n",
       "      <td>0.0</td>\n",
       "      <td>0.0</td>\n",
       "      <td>0.0</td>\n",
       "      <td>0.0</td>\n",
       "      <td>0.0</td>\n",
       "      <td>0.0</td>\n",
       "      <td>0.0</td>\n",
       "      <td>0.0</td>\n",
       "      <td>...</td>\n",
       "      <td>0.0</td>\n",
       "      <td>0.0</td>\n",
       "      <td>4.0</td>\n",
       "      <td>0.0</td>\n",
       "      <td>0.0</td>\n",
       "      <td>0.0</td>\n",
       "      <td>0.0</td>\n",
       "      <td>0.0</td>\n",
       "      <td>0.0</td>\n",
       "      <td>0.0</td>\n",
       "    </tr>\n",
       "    <tr>\n",
       "      <th>3</th>\n",
       "      <td>3.0</td>\n",
       "      <td>0.0</td>\n",
       "      <td>0.0</td>\n",
       "      <td>0.0</td>\n",
       "      <td>0.0</td>\n",
       "      <td>0.0</td>\n",
       "      <td>5.0</td>\n",
       "      <td>0.0</td>\n",
       "      <td>0.0</td>\n",
       "      <td>4.0</td>\n",
       "      <td>...</td>\n",
       "      <td>5.0</td>\n",
       "      <td>0.0</td>\n",
       "      <td>0.0</td>\n",
       "      <td>0.0</td>\n",
       "      <td>0.0</td>\n",
       "      <td>0.0</td>\n",
       "      <td>2.0</td>\n",
       "      <td>0.0</td>\n",
       "      <td>0.0</td>\n",
       "      <td>0.0</td>\n",
       "    </tr>\n",
       "    <tr>\n",
       "      <th>4</th>\n",
       "      <td>3.0</td>\n",
       "      <td>0.0</td>\n",
       "      <td>0.0</td>\n",
       "      <td>0.0</td>\n",
       "      <td>0.0</td>\n",
       "      <td>0.0</td>\n",
       "      <td>0.0</td>\n",
       "      <td>0.0</td>\n",
       "      <td>0.0</td>\n",
       "      <td>0.0</td>\n",
       "      <td>...</td>\n",
       "      <td>0.0</td>\n",
       "      <td>0.0</td>\n",
       "      <td>0.0</td>\n",
       "      <td>0.0</td>\n",
       "      <td>0.0</td>\n",
       "      <td>0.0</td>\n",
       "      <td>0.0</td>\n",
       "      <td>0.0</td>\n",
       "      <td>0.0</td>\n",
       "      <td>0.0</td>\n",
       "    </tr>\n",
       "  </tbody>\n",
       "</table>\n",
       "<p>5 rows × 943 columns</p>\n",
       "</div>"
      ],
      "text/plain": [
       "user_id  1    2    3    4    5    6    7    8    9    10  ...   934  935  936  \\\n",
       "0        5.0  4.0  0.0  0.0  4.0  4.0  0.0  0.0  0.0  4.0 ...   2.0  3.0  4.0   \n",
       "1        3.0  0.0  0.0  0.0  3.0  0.0  0.0  0.0  0.0  0.0 ...   4.0  0.0  0.0   \n",
       "2        4.0  0.0  0.0  0.0  0.0  0.0  0.0  0.0  0.0  0.0 ...   0.0  0.0  4.0   \n",
       "3        3.0  0.0  0.0  0.0  0.0  0.0  5.0  0.0  0.0  4.0 ...   5.0  0.0  0.0   \n",
       "4        3.0  0.0  0.0  0.0  0.0  0.0  0.0  0.0  0.0  0.0 ...   0.0  0.0  0.0   \n",
       "\n",
       "user_id  937  938  939  940  941  942  943  \n",
       "0        0.0  4.0  0.0  0.0  5.0  0.0  0.0  \n",
       "1        0.0  0.0  0.0  0.0  0.0  0.0  5.0  \n",
       "2        0.0  0.0  0.0  0.0  0.0  0.0  0.0  \n",
       "3        0.0  0.0  0.0  2.0  0.0  0.0  0.0  \n",
       "4        0.0  0.0  0.0  0.0  0.0  0.0  0.0  \n",
       "\n",
       "[5 rows x 943 columns]"
      ]
     },
     "execution_count": 3,
     "metadata": {},
     "output_type": "execute_result"
    }
   ],
   "source": [
    "ratings_matrix = ratings.pivot_table(index=['movie_id'],columns=['user_id'],values='rating').reset_index(drop=True)\n",
    "ratings_matrix.fillna( 0, inplace = True )\n",
    "ratings_matrix.head()"
   ]
  },
  {
   "cell_type": "code",
   "execution_count": 4,
   "metadata": {
    "scrolled": true
   },
   "outputs": [
    {
     "name": "stderr",
     "output_type": "stream",
     "text": [
      "/Library/Frameworks/Python.framework/Versions/3.7/lib/python3.7/site-packages/ipykernel_launcher.py:1: FutureWarning: Method .as_matrix will be removed in a future version. Use .values instead.\n",
      "  \"\"\"Entry point for launching an IPython kernel.\n"
     ]
    },
    {
     "data": {
      "text/html": [
       "<div>\n",
       "<style scoped>\n",
       "    .dataframe tbody tr th:only-of-type {\n",
       "        vertical-align: middle;\n",
       "    }\n",
       "\n",
       "    .dataframe tbody tr th {\n",
       "        vertical-align: top;\n",
       "    }\n",
       "\n",
       "    .dataframe thead th {\n",
       "        text-align: right;\n",
       "    }\n",
       "</style>\n",
       "<table border=\"1\" class=\"dataframe\">\n",
       "  <thead>\n",
       "    <tr style=\"text-align: right;\">\n",
       "      <th></th>\n",
       "      <th>0</th>\n",
       "      <th>1</th>\n",
       "      <th>2</th>\n",
       "      <th>3</th>\n",
       "      <th>4</th>\n",
       "      <th>5</th>\n",
       "      <th>6</th>\n",
       "      <th>7</th>\n",
       "      <th>8</th>\n",
       "      <th>9</th>\n",
       "      <th>...</th>\n",
       "      <th>1672</th>\n",
       "      <th>1673</th>\n",
       "      <th>1674</th>\n",
       "      <th>1675</th>\n",
       "      <th>1676</th>\n",
       "      <th>1677</th>\n",
       "      <th>1678</th>\n",
       "      <th>1679</th>\n",
       "      <th>1680</th>\n",
       "      <th>1681</th>\n",
       "    </tr>\n",
       "  </thead>\n",
       "  <tbody>\n",
       "    <tr>\n",
       "      <th>0</th>\n",
       "      <td>0.000000</td>\n",
       "      <td>0.402382</td>\n",
       "      <td>0.330245</td>\n",
       "      <td>0.454938</td>\n",
       "      <td>0.286714</td>\n",
       "      <td>0.116344</td>\n",
       "      <td>0.620979</td>\n",
       "      <td>0.481114</td>\n",
       "      <td>0.496288</td>\n",
       "      <td>0.273935</td>\n",
       "      <td>...</td>\n",
       "      <td>0.035387</td>\n",
       "      <td>0.0</td>\n",
       "      <td>0.000000</td>\n",
       "      <td>0.000000</td>\n",
       "      <td>0.035387</td>\n",
       "      <td>0.0</td>\n",
       "      <td>0.0</td>\n",
       "      <td>0.0</td>\n",
       "      <td>0.047183</td>\n",
       "      <td>0.047183</td>\n",
       "    </tr>\n",
       "    <tr>\n",
       "      <th>1</th>\n",
       "      <td>0.402382</td>\n",
       "      <td>0.000000</td>\n",
       "      <td>0.273069</td>\n",
       "      <td>0.502571</td>\n",
       "      <td>0.318836</td>\n",
       "      <td>0.083563</td>\n",
       "      <td>0.383403</td>\n",
       "      <td>0.337002</td>\n",
       "      <td>0.255252</td>\n",
       "      <td>0.171082</td>\n",
       "      <td>...</td>\n",
       "      <td>0.000000</td>\n",
       "      <td>0.0</td>\n",
       "      <td>0.000000</td>\n",
       "      <td>0.000000</td>\n",
       "      <td>0.000000</td>\n",
       "      <td>0.0</td>\n",
       "      <td>0.0</td>\n",
       "      <td>0.0</td>\n",
       "      <td>0.078299</td>\n",
       "      <td>0.078299</td>\n",
       "    </tr>\n",
       "    <tr>\n",
       "      <th>2</th>\n",
       "      <td>0.330245</td>\n",
       "      <td>0.273069</td>\n",
       "      <td>0.000000</td>\n",
       "      <td>0.324866</td>\n",
       "      <td>0.212957</td>\n",
       "      <td>0.106722</td>\n",
       "      <td>0.372921</td>\n",
       "      <td>0.200794</td>\n",
       "      <td>0.273669</td>\n",
       "      <td>0.158104</td>\n",
       "      <td>...</td>\n",
       "      <td>0.000000</td>\n",
       "      <td>0.0</td>\n",
       "      <td>0.000000</td>\n",
       "      <td>0.000000</td>\n",
       "      <td>0.032292</td>\n",
       "      <td>0.0</td>\n",
       "      <td>0.0</td>\n",
       "      <td>0.0</td>\n",
       "      <td>0.000000</td>\n",
       "      <td>0.096875</td>\n",
       "    </tr>\n",
       "    <tr>\n",
       "      <th>3</th>\n",
       "      <td>0.454938</td>\n",
       "      <td>0.502571</td>\n",
       "      <td>0.324866</td>\n",
       "      <td>0.000000</td>\n",
       "      <td>0.334239</td>\n",
       "      <td>0.090308</td>\n",
       "      <td>0.489283</td>\n",
       "      <td>0.490236</td>\n",
       "      <td>0.419044</td>\n",
       "      <td>0.252561</td>\n",
       "      <td>...</td>\n",
       "      <td>0.000000</td>\n",
       "      <td>0.0</td>\n",
       "      <td>0.094022</td>\n",
       "      <td>0.094022</td>\n",
       "      <td>0.037609</td>\n",
       "      <td>0.0</td>\n",
       "      <td>0.0</td>\n",
       "      <td>0.0</td>\n",
       "      <td>0.056413</td>\n",
       "      <td>0.075218</td>\n",
       "    </tr>\n",
       "    <tr>\n",
       "      <th>4</th>\n",
       "      <td>0.286714</td>\n",
       "      <td>0.318836</td>\n",
       "      <td>0.212957</td>\n",
       "      <td>0.334239</td>\n",
       "      <td>0.000000</td>\n",
       "      <td>0.037299</td>\n",
       "      <td>0.334769</td>\n",
       "      <td>0.259161</td>\n",
       "      <td>0.272448</td>\n",
       "      <td>0.055453</td>\n",
       "      <td>...</td>\n",
       "      <td>0.000000</td>\n",
       "      <td>0.0</td>\n",
       "      <td>0.000000</td>\n",
       "      <td>0.000000</td>\n",
       "      <td>0.000000</td>\n",
       "      <td>0.0</td>\n",
       "      <td>0.0</td>\n",
       "      <td>0.0</td>\n",
       "      <td>0.000000</td>\n",
       "      <td>0.094211</td>\n",
       "    </tr>\n",
       "  </tbody>\n",
       "</table>\n",
       "<p>5 rows × 1682 columns</p>\n",
       "</div>"
      ],
      "text/plain": [
       "       0         1         2         3         4         5         6     \\\n",
       "0  0.000000  0.402382  0.330245  0.454938  0.286714  0.116344  0.620979   \n",
       "1  0.402382  0.000000  0.273069  0.502571  0.318836  0.083563  0.383403   \n",
       "2  0.330245  0.273069  0.000000  0.324866  0.212957  0.106722  0.372921   \n",
       "3  0.454938  0.502571  0.324866  0.000000  0.334239  0.090308  0.489283   \n",
       "4  0.286714  0.318836  0.212957  0.334239  0.000000  0.037299  0.334769   \n",
       "\n",
       "       7         8         9       ...         1672  1673      1674      1675  \\\n",
       "0  0.481114  0.496288  0.273935    ...     0.035387   0.0  0.000000  0.000000   \n",
       "1  0.337002  0.255252  0.171082    ...     0.000000   0.0  0.000000  0.000000   \n",
       "2  0.200794  0.273669  0.158104    ...     0.000000   0.0  0.000000  0.000000   \n",
       "3  0.490236  0.419044  0.252561    ...     0.000000   0.0  0.094022  0.094022   \n",
       "4  0.259161  0.272448  0.055453    ...     0.000000   0.0  0.000000  0.000000   \n",
       "\n",
       "       1676  1677  1678  1679      1680      1681  \n",
       "0  0.035387   0.0   0.0   0.0  0.047183  0.047183  \n",
       "1  0.000000   0.0   0.0   0.0  0.078299  0.078299  \n",
       "2  0.032292   0.0   0.0   0.0  0.000000  0.096875  \n",
       "3  0.037609   0.0   0.0   0.0  0.056413  0.075218  \n",
       "4  0.000000   0.0   0.0   0.0  0.000000  0.094211  \n",
       "\n",
       "[5 rows x 1682 columns]"
      ]
     },
     "execution_count": 4,
     "metadata": {},
     "output_type": "execute_result"
    }
   ],
   "source": [
    "movie_similarity = 1 - pairwise_distances( ratings_matrix.as_matrix(), metric=\"cosine\" )\n",
    "np.fill_diagonal( movie_similarity, 0 ) #Filling diagonals with 0s for future use when sorting is done\n",
    "ratings_matrix = pd.DataFrame( movie_similarity )\n",
    "ratings_matrix.head(5)"
   ]
  },
  {
   "cell_type": "code",
   "execution_count": 5,
   "metadata": {},
   "outputs": [],
   "source": [
    "G=nx.Graph()\n",
    "for i in range(len(ratings_matrix.columns)):\n",
    "    for j in range(len(ratings_matrix.index)):\n",
    "        if(ratings_matrix.loc[i,j]>=0.30):\n",
    "            G.add_edge(i,j,weight=ratings_matrix.loc[i,j])\n"
   ]
  },
  {
   "cell_type": "code",
   "execution_count": 6,
   "metadata": {},
   "outputs": [
    {
     "name": "stderr",
     "output_type": "stream",
     "text": [
      "/Library/Frameworks/Python.framework/Versions/3.7/lib/python3.7/site-packages/networkx/drawing/nx_pylab.py:611: MatplotlibDeprecationWarning: isinstance(..., numbers.Number)\n",
      "  if cb.is_numlike(alpha):\n"
     ]
    },
    {
     "data": {
      "image/png": "[encoded data removed]",
      "text/plain": [
       "<Figure size 432x288 with 1 Axes>"
      ]
     },
     "metadata": {},
     "output_type": "display_data"
    }
   ],
   "source": [
    "nx.draw_circular(G)\n",
    "plt.show()"
   ]
  },
  {
   "cell_type": "code",
   "execution_count": 7,
   "metadata": {},
   "outputs": [
    {
     "data": {
      "text/plain": [
       "0.04786309553565154"
      ]
     },
     "execution_count": 7,
     "metadata": {},
     "output_type": "execute_result"
    }
   ],
   "source": [
    "nx.density(G)"
   ]
  },
  {
   "cell_type": "code",
   "execution_count": 8,
   "metadata": {},
   "outputs": [],
   "source": [
    "communities_generator = community.girvan_newman(G)\n",
    "top_level_communities = next(communities_generator)\n",
    "next_level_communities = next(communities_generator)\n",
    "j=sorted(map(sorted, next_level_communities))"
   ]
  },
  {
   "cell_type": "code",
   "execution_count": 9,
   "metadata": {},
   "outputs": [],
   "source": [
    "m_cols = ['movie_id', 'title', 'release_date', 'video_release_date', 'imdb_url']\n",
    "movies = pd.read_csv('u.item', sep='|', names=m_cols, usecols=range(5),\n",
    "                     encoding='latin-1')"
   ]
  },
  {
   "cell_type": "code",
   "execution_count": 10,
   "metadata": {},
   "outputs": [
    {
     "name": "stdout",
     "output_type": "stream",
     "text": [
      "[['Toy Story (1995)', 'GoldenEye (1995)', 'Four Rooms (1995)', 'Get Shorty (1995)', 'Copycat (1995)', 'Shanghai Triad (Yao a yao yao dao waipo qiao) (1995)', 'Twelve Monkeys (1995)', 'Babe (1995)', 'Dead Man Walking (1995)', 'Richard III (1995)', 'Seven (Se7en) (1995)', 'Usual Suspects, The (1995)', 'Mighty Aphrodite (1995)', 'Postino, Il (1994)', \"Mr. Holland's Opus (1995)\", 'French Twist (Gazon maudit) (1995)', 'From Dusk Till Dawn (1996)', 'White Balloon, The (1995)', \"Antonia's Line (1995)\", 'Angels and Insects (1995)', 'Muppet Treasure Island (1996)', 'Braveheart (1995)', 'Taxi Driver (1976)', 'Rumble in the Bronx (1995)', 'Birdcage, The (1996)', 'Brothers McMullen, The (1995)', 'Bad Boys (1995)', 'Apollo 13 (1995)', 'Batman Forever (1995)', 'Belle de jour (1967)', 'Crimson Tide (1995)', 'Crumb (1994)', 'Desperado (1995)', 'Doom Generation, The (1995)', 'Free Willy 2: The Adventure Home (1995)', 'Mad Love (1995)', 'Nadja (1994)', 'Net, The (1995)', 'Strange Days (1995)', 'To Wong Foo, Thanks for Everything! Julie Newmar (1995)', 'Billy Madison (1995)', 'Clerks (1994)', 'Disclosure (1994)', 'Dolores Claiborne (1994)', 'Eat Drink Man Woman (1994)', 'Exotica (1994)', 'Ed Wood (1994)', 'Hoop Dreams (1994)', 'I.Q. (1994)', 'Star Wars (1977)', 'Legends of the Fall (1994)', 'Madness of King George, The (1994)', 'Natural Born Killers (1994)', 'Outbreak (1995)', 'Professional, The (1994)', 'Pulp Fiction (1994)', 'Priest (1994)', 'Quiz Show (1994)', 'Three Colors: Red (1994)', 'Three Colors: Blue (1993)', 'Three Colors: White (1994)', 'Stargate (1994)', 'Santa Clause, The (1994)', 'Shawshank Redemption, The (1994)', \"What's Eating Gilbert Grape (1993)\", 'While You Were Sleeping (1995)', 'Ace Ventura: Pet Detective (1994)', 'Crow, The (1994)', 'Forrest Gump (1994)', 'Four Weddings and a Funeral (1994)', 'Lion King, The (1994)', 'Mask, The (1994)', 'Maverick (1994)', 'Faster Pussycat! Kill! Kill! (1965)', 'Brother Minister: The Assassination of Malcolm X (1994)', \"Carlito's Way (1993)\", 'Firm, The (1993)', 'Free Willy (1993)', 'Fugitive, The (1993)', 'Hot Shots! Part Deux (1993)', 'Hudsucker Proxy, The (1994)', 'Jurassic Park (1993)', 'Much Ado About Nothing (1993)', \"Robert A. Heinlein's The Puppet Masters (1994)\", 'Ref, The (1994)', 'Remains of the Day, The (1993)', 'Searching for Bobby Fischer (1993)', 'Sleepless in Seattle (1993)', 'Blade Runner (1982)', 'So I Married an Axe Murderer (1993)', 'Nightmare Before Christmas, The (1993)', 'True Romance (1993)', 'Welcome to the Dollhouse (1995)', 'Home Alone (1990)', 'Aladdin (1992)', 'Terminator 2: Judgment Day (1991)', 'Dances with Wolves (1990)', 'Silence of the Lambs, The (1991)', 'Snow White and the Seven Dwarfs (1937)', 'Fargo (1996)', 'Heavy Metal (1981)', 'Aristocats, The (1970)', 'Theodore Rex (1995)', 'Sgt. Bilko (1996)', 'Diabolique (1996)', 'Moll Flanders (1996)', 'Kids in the Hall: Brain Candy (1996)', 'Mystery Science Theater 3000: The Movie (1996)', 'Operation Dumbo Drop (1995)', 'Truth About Cats & Dogs, The (1996)', 'Flipper (1996)', 'Horseman on the Roof, The (Hussard sur le toit, Le) (1995)', 'Wallace & Gromit: The Best of Aardman Animation (1996)', 'Haunted World of Edward D. Wood Jr., The (1995)', 'Cold Comfort Farm (1995)', 'Rock, The (1996)', 'Twister (1996)', 'Maya Lin: A Strong Clear Vision (1994)', 'Striptease (1996)', 'Independence Day (ID4) (1996)', 'Cable Guy, The (1996)', 'Frighteners, The (1996)', 'Lone Star (1996)', 'Phenomenon (1996)', 'Spitfire Grill, The (1996)', 'Godfather, The (1972)', 'Supercop (1992)', 'Bound (1996)', 'Kansas City (1996)', \"Breakfast at Tiffany's (1961)\", 'Wizard of Oz, The (1939)', 'Gone with the Wind (1939)', 'Citizen Kane (1941)', '2001: A Space Odyssey (1968)', 'Mr. Smith Goes to Washington (1939)', 'Big Night (1996)', 'D3: The Mighty Ducks (1996)', 'Love Bug, The (1969)', 'Homeward Bound: The Incredible Journey (1993)', '20,000 Leagues Under the Sea (1954)', 'Bedknobs and Broomsticks (1971)', 'Sound of Music, The (1965)', 'Die Hard (1988)', 'Lawnmower Man, The (1992)', 'Unhook the Stars (1996)', 'Long Kiss Goodnight, The (1996)', 'Ghost and the Darkness, The (1996)', 'Jude (1996)', 'Swingers (1996)', 'Willy Wonka and the Chocolate Factory (1971)', 'Sleeper (1973)', 'Fish Called Wanda, A (1988)', \"Monty Python's Life of Brian (1979)\", 'Dirty Dancing (1987)', 'Reservoir Dogs (1992)', 'Platoon (1986)', \"Weekend at Bernie's (1989)\", 'Basic Instinct (1992)', 'Glengarry Glen Ross (1992)', 'Top Gun (1986)', 'On Golden Pond (1981)', 'Return of the Pink Panther, The (1974)', 'Abyss, The (1989)', 'Jean de Florette (1986)', 'Manon of the Spring (Manon des sources) (1986)', 'Private Benjamin (1980)', 'Monty Python and the Holy Grail (1974)', 'Wrong Trousers, The (1993)', 'Cinema Paradiso (1988)', 'Delicatessen (1991)', 'Empire Strikes Back, The (1980)', 'Princess Bride, The (1987)', 'Raiders of the Lost Ark (1981)', 'Brazil (1985)', 'Aliens (1986)', 'Good, The Bad and The Ugly, The (1966)', '12 Angry Men (1957)', 'Clockwork Orange, A (1971)', 'Apocalypse Now (1979)', 'Return of the Jedi (1983)', 'GoodFellas (1990)', 'Alien (1979)', 'Army of Darkness (1993)', 'Psycho (1960)', 'Blues Brothers, The (1980)', 'Godfather: Part II, The (1974)', 'Full Metal Jacket (1987)', 'Grand Day Out, A (1992)', 'Henry V (1989)', 'Amadeus (1984)', 'Raging Bull (1980)', 'Right Stuff, The (1983)', 'Sting, The (1973)', 'Terminator, The (1984)', 'Dead Poets Society (1989)', 'Graduate, The (1967)', 'Nikita (La Femme Nikita) (1990)', 'Bridge on the River Kwai, The (1957)', 'Shining, The (1980)', 'Evil Dead II (1987)', 'Groundhog Day (1993)', 'Unforgiven (1992)', 'Back to the Future (1985)', 'Patton (1970)', 'Akira (1988)', 'Cyrano de Bergerac (1990)', 'Young Frankenstein (1974)', 'This Is Spinal Tap (1984)', 'Indiana Jones and the Last Crusade (1989)', 'M*A*S*H (1970)', 'Unbearable Lightness of Being, The (1988)', 'Room with a View, A (1986)', 'Pink Floyd - The Wall (1982)', 'Field of Dreams (1989)', 'When Harry Met Sally... (1989)', \"Bram Stoker's Dracula (1992)\", 'Cape Fear (1991)', 'Nightmare on Elm Street, A (1984)', 'Mirror Has Two Faces, The (1996)', 'Breaking the Waves (1996)', 'Star Trek: First Contact (1996)', 'Sling Blade (1996)', 'Ridicule (1996)', '101 Dalmatians (1996)', 'Die Hard 2 (1990)', 'Star Trek VI: The Undiscovered Country (1991)', 'Star Trek: The Wrath of Khan (1982)', 'Star Trek III: The Search for Spock (1984)', 'Star Trek IV: The Voyage Home (1986)', 'Batman Returns (1992)', 'Young Guns (1988)', 'Under Siege (1992)', 'Jaws (1975)', 'Mars Attacks! (1996)', 'Citizen Ruth (1996)', 'Jerry Maguire (1996)', 'Raising Arizona (1987)', 'Sneakers (1992)', 'Beavis and Butt-head Do America (1996)', 'Last of the Mohicans, The (1992)', 'Kolya (1996)', 'Jungle2Jungle (1997)', \"Smilla's Sense of Snow (1997)\", \"Devil's Own, The (1997)\", 'Chasing Amy (1997)', 'Turbo: A Power Rangers Movie (1997)', 'Grosse Pointe Blank (1997)', 'Austin Powers: International Man of Mystery (1997)', 'Fifth Element, The (1997)', 'Shall We Dance? (1996)', 'Lost World: Jurassic Park, The (1997)', 'Pillow Book, The (1995)', 'Batman & Robin (1997)', \"My Best Friend's Wedding (1997)\", 'When the Cats Away (Chacun cherche son chat) (1996)', 'Men in Black (1997)', 'Contact (1997)', 'George of the Jungle (1997)', 'Event Horizon (1997)', 'Air Bud (1997)', 'In the Company of Men (1997)', 'Steel (1997)', 'Mimic (1997)', 'Hunt for Red October, The (1990)', 'Kull the Conqueror (1997)', 'unknown', 'Chasing Amy (1997)', 'Full Monty, The (1997)', 'Gattaca (1997)', 'Starship Troopers (1997)', 'Good Will Hunting (1997)', 'Heat (1995)', 'Sabrina (1995)', 'Sense and Sensibility (1995)', 'Leaving Las Vegas (1995)', 'Restoration (1995)', 'Bed of Roses (1996)', 'Once Upon a Time... When We Were Colored (1995)', 'Up Close and Personal (1996)', 'River Wild, The (1994)', 'Time to Kill, A (1996)', 'Emma (1996)', 'Tin Cup (1996)', 'Secrets & Lies (1996)', 'English Patient, The (1996)', \"Marvin's Room (1996)\", 'Scream (1996)', 'Evita (1996)', 'Fierce Creatures (1997)', 'Absolute Power (1997)', 'Rosewood (1997)', 'Donnie Brasco (1997)', 'Liar Liar (1997)', 'Breakdown (1997)', 'Promesse, La (1996)', \"Ulee's Gold (1997)\", 'Face/Off (1997)', 'Hoodlum (1997)', 'Air Force One (1997)', 'In & Out (1997)', 'L.A. Confidential (1997)', \"Ulee's Gold (1997)\", 'Fly Away Home (1996)', 'Ice Storm, The (1997)', 'Mrs. Brown (Her Majesty, Mrs. Brown) (1997)', \"Devil's Advocate, The (1997)\", 'Deceiver (1997)', 'Rainmaker, The (1997)', 'Wings of the Dove, The (1997)', 'Midnight in the Garden of Good and Evil (1997)', 'Titanic (1997)', '3 Ninjas: High Noon At Mega Mountain (1998)', 'Apt Pupil (1998)', 'As Good As It Gets (1997)', 'In the Name of the Father (1993)', \"Schindler's List (1993)\", 'Everyone Says I Love You (1996)', 'Paradise Lost: The Child Murders at Robin Hood Hills (1996)', 'Mother (1996)', 'Murder at 1600 (1997)', \"Dante's Peak (1997)\", 'Lost Highway (1997)', 'Crash (1996)', 'G.I. Jane (1997)', 'Cop Land (1997)', 'Conspiracy Theory (1997)', 'Desperate Measures (1998)', '187 (1997)', 'Edge, The (1997)', 'Kiss the Girls (1997)', 'Game, The (1997)', 'U Turn (1997)', 'How to Be a Player (1997)', 'Playing God (1997)', 'House of Yes, The (1997)', 'Bean (1997)', 'Mad City (1997)', 'Boogie Nights (1997)', 'Critical Care (1997)', 'Man Who Knew Too Little, The (1997)', 'Alien: Resurrection (1997)', 'Apostle, The (1997)', 'Deconstructing Harry (1997)', 'Jackie Brown (1997)', 'Wag the Dog (1997)', 'Desperate Measures (1998)', 'Hard Rain (1998)', 'Fallen (1998)', 'Prophecy II, The (1998)', 'Spice World (1997)', 'Deep Rising (1998)', 'Wedding Singer, The (1998)', 'Sphere (1998)', 'Client, The (1994)', \"One Flew Over the Cuckoo's Nest (1975)\", 'Spawn (1997)', 'Assignment, The (1997)', 'Wonderland (1997)', 'Incognito (1997)', 'Sudden Death (1995)', 'Ace Ventura: When Nature Calls (1995)', 'Powder (1995)', 'Dangerous Minds (1995)', 'Clueless (1995)', 'Bio-Dome (1996)', 'Black Sheep (1996)', 'Mary Reilly (1996)', 'Bridges of Madison County, The (1995)', 'Jeffrey (1995)', 'Judge Dredd (1995)', 'Mighty Morphin Power Rangers: The Movie (1995)', 'Showgirls (1995)', 'Houseguest (1994)', 'Heavyweights (1994)', 'Miracle on 34th Street (1994)', 'Tales From the Crypt Presents: Demon Knight (1995)', 'Star Trek: Generations (1994)', \"Muriel's Wedding (1994)\", 'Adventures of Priscilla, Queen of the Desert, The (1994)', 'Flintstones, The (1994)', 'Naked Gun 33 1/3: The Final Insult (1994)', 'True Lies (1994)', 'Addams Family Values (1993)', 'Age of Innocence, The (1993)', 'Beverly Hills Cop III (1994)', 'Black Beauty (1994)', 'Fear of a Black Hat (1993)', 'Last Action Hero (1993)', 'Man Without a Face, The (1993)', 'Mrs. Doubtfire (1993)', 'Radioland Murders (1994)', 'Robin Hood: Men in Tights (1993)', 'Serial Mom (1994)', 'Striking Distance (1993)', 'Super Mario Bros. (1993)', 'Three Musketeers, The (1993)', 'Little Rascals, The (1994)', 'Brady Bunch Movie, The (1995)', 'Ghost (1990)', 'Batman (1989)', 'Pinocchio (1940)', 'Mission: Impossible (1996)', 'Thinner (1996)', 'Spy Hard (1996)', 'Close Shave, A (1995)', 'Jack (1996)', 'Kingpin (1996)', 'Nutty Professor, The (1996)', 'Very Brady Sequel, A (1996)', 'Tales from the Crypt Presents: Bordello of Blood (1996)', 'My Favorite Year (1982)', 'Apple Dumpling Gang, The (1975)', 'Old Yeller (1957)', 'Parent Trap, The (1961)', 'Cinderella (1950)', 'Mary Poppins (1964)', 'Alice in Wonderland (1951)', \"William Shakespeare's Romeo and Juliet (1996)\", 'Aladdin and the King of Thieves (1996)', 'E.T. the Extra-Terrestrial (1982)', 'Children of the Corn: The Gathering (1996)', 'Bob Roberts (1992)', 'Transformers: The Movie, The (1986)', 'To Kill a Mockingbird (1962)', 'Harold and Maude (1971)', 'Day the Earth Stood Still, The (1951)', 'Duck Soup (1933)', 'Highlander (1986)', 'Fantasia (1940)', 'Heathers (1989)', 'Forbidden Planet (1956)', 'Butch Cassidy and the Sundance Kid (1969)', 'American Werewolf in London, An (1981)', \"Amityville 1992: It's About Time (1992)\", 'Amityville 3-D (1983)', 'Amityville: A New Generation (1993)', 'Amityville II: The Possession (1982)', 'Amityville Horror, The (1979)', 'Amityville Curse, The (1990)', 'Birds, The (1963)', 'Blob, The (1958)', 'Body Snatcher, The (1945)', 'Burnt Offerings (1976)', 'Carrie (1976)', 'Omen, The (1976)', 'Star Trek: The Motion Picture (1979)', 'Star Trek V: The Final Frontier (1989)', 'Grease (1978)', 'Jaws 2 (1978)', 'Jaws 3-D (1983)', \"Jackie Chan's First Strike (1996)\", 'Beverly Hills Ninja (1997)', 'Free Willy 3: The Rescue (1997)', 'Nixon (1995)', 'Cry, the Beloved Country (1995)', 'Crossing Guard, The (1995)', 'Smoke (1995)', 'Like Water For Chocolate (Como agua para chocolate) (1992)', 'Secret of Roan Inish, The (1994)', 'Vanya on 42nd Street (1994)', 'Jungle Book, The (1994)', 'Red Rock West (1992)', 'Bronx Tale, A (1993)', 'Rudy (1993)', 'Short Cuts (1993)', 'Tombstone (1993)', 'Courage Under Fire (1996)', 'Dragonheart (1996)', 'James and the Giant Peach (1996)', 'Dr. Strangelove or: How I Learned to Stop Worrying and Love the Bomb (1963)', 'Trainspotting (1996)', 'First Wives Club, The (1996)', 'Matilda (1996)', 'Philadelphia Story, The (1940)', 'Vertigo (1958)', 'North by Northwest (1959)', 'Apartment, The (1960)', 'Some Like It Hot (1959)', 'Casablanca (1942)', 'Maltese Falcon, The (1941)', 'My Fair Lady (1964)', 'Sabrina (1954)', 'Roman Holiday (1953)', 'Sunset Blvd. (1950)', 'Notorious (1946)', 'To Catch a Thief (1955)', 'Adventures of Robin Hood, The (1938)', 'East of Eden (1955)', 'Thin Man, The (1934)', 'His Girl Friday (1940)', 'Around the World in 80 Days (1956)', \"It's a Wonderful Life (1946)\", 'Bringing Up Baby (1938)', 'African Queen, The (1951)', 'Cat on a Hot Tin Roof (1958)', 'Fly Away Home (1996)', 'Dumbo (1941)', 'Bananas (1971)', 'Candidate, The (1972)', 'Bonnie and Clyde (1967)', 'Dial M for Murder (1954)', 'Rebel Without a Cause (1955)', 'Streetcar Named Desire, A (1951)', 'People vs. Larry Flynt, The (1996)', 'My Left Foot (1989)', 'Magnificent Seven, The (1954)', 'Lawrence of Arabia (1962)', 'Wings of Desire (1987)', 'Third Man, The (1949)', 'Annie Hall (1977)', 'Boot, Das (1981)', 'Local Hero (1983)', 'Manhattan (1979)', \"Miller's Crossing (1990)\", 'Treasure of the Sierra Madre, The (1948)', 'Great Escape, The (1963)', 'Deer Hunter, The (1978)', 'Down by Law (1986)', 'Cool Hand Luke (1967)', 'Great Dictator, The (1940)', 'Big Sleep, The (1946)', 'Ben-Hur (1959)', 'Gandhi (1982)', 'Killing Fields, The (1984)', 'My Life as a Dog (Mitt liv som hund) (1985)', 'Man Who Would Be King, The (1975)', 'Shine (1996)', 'Daytrippers, The (1996)', 'Traveller (1997)', 'Addicted to Love (1997)', 'Ponette (1996)', 'My Own Private Idaho (1991)', 'Anastasia (1997)', 'Money Train (1995)', 'Mortal Kombat (1995)', 'Pocahontas (1995)', \"Things to Do in Denver when You're Dead (1995)\", 'Vampire in Brooklyn (1995)', 'Broken Arrow (1996)', \"Young Poisoner's Handbook, The (1995)\", 'NeverEnding Story III, The (1994)', 'Rob Roy (1995)', 'Die Hard: With a Vengeance (1995)', 'Lord of Illusions (1995)', 'Species (1995)', 'Walk in the Clouds, A (1995)', 'Waterworld (1995)', \"White Man's Burden (1995)\", 'Wild Bill (1995)', 'Farinelli: il castrato (1994)', 'Heavenly Creatures (1994)', 'Interview with the Vampire (1994)', \"Kid in King Arthur's Court, A (1995)\", \"Mary Shelley's Frankenstein (1994)\", 'Quick and the Dead, The (1995)', \"Stephen King's The Langoliers (1995)\", 'Tales from the Hood (1995)', 'Village of the Damned (1995)', 'Clear and Present Danger (1994)', \"Wes Craven's New Nightmare (1994)\", 'Speed (1994)', 'Wolf (1994)', 'Wyatt Earp (1994)', 'Another Stakeout (1993)', 'Blown Away (1994)', 'Body Snatchers (1993)', 'Boxing Helena (1993)', \"City Slickers II: The Legend of Curly's Gold (1994)\", 'Cliffhanger (1993)', 'Coneheads (1993)', 'Demolition Man (1993)', 'Fatal Instinct (1993)', 'Englishman Who Went Up a Hill, But Came Down a Mountain, The (1995)', 'Kalifornia (1993)', 'Piano, The (1993)', 'Romeo Is Bleeding (1993)', 'Secret Garden, The (1993)', 'Son in Law (1993)', 'Terminal Velocity (1994)', 'Hour of the Pig, The (1993)', 'Beauty and the Beast (1991)', 'Wild Bunch, The (1969)', 'Hellraiser: Bloodline (1996)', 'Primal Fear (1996)', 'True Crime (1995)', 'Stalingrad (1993)', 'Heavy (1995)', 'Fan, The (1996)', 'Hunchback of Notre Dame, The (1996)', 'Eraser (1996)', 'Big Squeeze, The (1996)', 'Police Story 4: Project S (Chao ji ji hua) (1993)', \"Daniel Defoe's Robinson Crusoe (1996)\", 'For Whom the Bell Tolls (1943)', 'American in Paris, An (1951)', 'Rear Window (1954)', 'It Happened One Night (1934)', 'Meet Me in St. Louis (1944)', 'All About Eve (1950)', 'Rebecca (1940)', 'Spellbound (1945)', 'Father of the Bride (1950)', 'Gigi (1958)', 'Laura (1944)', 'Lost Horizon (1937)', 'My Man Godfrey (1936)', 'Giant (1956)', '39 Steps, The (1935)', 'Night of the Living Dead (1968)', 'Blue Angel, The (Blaue Engel, Der) (1930)', 'Picnic (1955)', 'Extreme Measures (1996)', 'Chamber, The (1996)', 'Davy Crockett, King of the Wild Frontier (1955)', 'Swiss Family Robinson (1960)', 'Angels in the Outfield (1994)', 'Three Caballeros, The (1945)', 'Sword in the Stone, The (1963)', 'So Dear to My Heart (1949)', 'Robin Hood: Prince of Thieves (1991)', 'Sleepers (1996)', 'Victor/Victoria (1982)', 'Great Race, The (1965)', 'Crying Game, The (1992)', \"Sophie's Choice (1982)\", 'Christmas Carol, A (1938)', \"Microcosmos: Le peuple de l'herbe (1996)\", 'Fog, The (1980)', 'Escape from New York (1981)', 'Howling, The (1981)', 'Return of Martin Guerre, The (Retour de Martin Guerre, Le) (1982)', 'Tin Drum, The (Blechtrommel, Die) (1979)', 'Cook the Thief His Wife & Her Lover, The (1989)', 'Paths of Glory (1957)', 'Grifters, The (1990)', 'The Innocent (1994)', 'Thin Blue Line, The (1988)', 'Paris Is Burning (1990)', 'Once Upon a Time in the West (1969)', 'Ran (1985)', 'Quiet Man, The (1952)', 'Once Upon a Time in America (1984)', 'Seventh Seal, The (Sjunde inseglet, Det) (1957)', 'Glory (1989)', 'Rosencrantz and Guildenstern Are Dead (1990)', 'Touch of Evil (1958)', 'Chinatown (1974)', 'Stand by Me (1986)', 'M (1931)', 'Manchurian Candidate, The (1962)', 'Pump Up the Volume (1990)', 'Arsenic and Old Lace (1944)', 'Fried Green Tomatoes (1991)', 'High Noon (1952)', 'Somewhere in Time (1980)', 'Being There (1979)', 'Paris, Texas (1984)', 'Alien 3 (1992)', \"Blood For Dracula (Andy Warhol's Dracula) (1974)\", 'Audrey Rose (1977)', 'Blood Beach (1981)', 'Body Parts (1991)', 'Body Snatchers (1993)', 'Bride of Frankenstein (1935)', 'Candyman (1992)', 'Cape Fear (1962)', 'Cat People (1982)', 'Nosferatu (Nosferatu, eine Symphonie des Grauens) (1922)', 'Crucible, The (1996)', 'Fire on the Mountain (1996)', 'Volcano (1997)', 'Conan the Barbarian (1981)', 'Kull the Conqueror (1997)', 'Wishmaster (1997)', 'I Know What You Did Last Summer (1997)', 'In the Line of Fire (1993)', 'Executive Decision (1996)', 'Perfect World, A (1993)', \"McHale's Navy (1997)\", 'Leave It to Beaver (1997)', 'Jackal, The (1997)', 'Seven Years in Tibet (1997)', 'Dark City (1998)', 'American President, The (1995)', 'Casino (1995)', 'Persuasion (1995)', 'Kicking and Screaming (1995)', 'City Hall (1996)', 'Basketball Diaries, The (1995)', 'Browning Version, The (1994)', 'Little Women (1994)', 'Miami Rhapsody (1995)', 'Wonderful, Horrible Life of Leni Riefenstahl, The (1993)', 'Barcelona (1994)', \"Widows' Peak (1994)\", 'House of the Spirits, The (1993)', \"Singin' in the Rain (1952)\", 'Bad Moon (1996)', 'Enchanted April (1991)', 'Sex, Lies, and Videotape (1989)', 'Strictly Ballroom (1992)', 'Better Off Dead... (1985)', 'Substance of Fire, The (1996)', 'Tin Men (1987)', 'Othello (1995)', 'Carrington (1995)', 'To Die For (1995)', 'Home for the Holidays (1995)', 'Juror, The (1996)', 'Canadian Bacon (1994)', 'First Knight (1995)', 'Mallrats (1995)', 'Nine Months (1995)', 'Boys on the Side (1995)', 'Circle of Friends (1995)', 'Exit to Eden (1994)', 'Fluke (1995)', 'Immortal Beloved (1994)', 'Junior (1994)', 'Nell (1994)', 'Queen Margot (Reine Margot, La) (1994)', 'Corrina, Corrina (1994)', 'Dave (1993)', 'Go Fish (1994)', 'Made in America (1993)', 'Philadelphia (1993)', 'Shadowlands (1993)', 'Sirens (1994)', 'Threesome (1994)', 'Pretty Woman (1990)', 'Jane Eyre (1996)', 'Last Supper, The (1995)', 'Ransom (1996)', 'Crow: City of Angels, The (1996)', 'Michael Collins (1996)', 'Ruling Class, The (1972)', 'Real Genius (1985)', 'Benny & Joon (1993)', 'Saint, The (1997)', 'MatchMaker, The (1997)', 'Amistad (1997)', 'Tomorrow Never Dies (1997)', 'Replacement Killers, The (1998)', 'Burnt By the Sun (1994)', 'Red Corner (1997)', 'Jumanji (1995)', 'Father of the Bride Part II (1995)', 'Across the Sea of Time (1995)', 'Lawnmower Man 2: Beyond Cyberspace (1996)', 'Fair Game (1995)', 'Screamers (1995)', 'Nick of Time (1995)', 'Beautiful Girls (1996)', 'Happy Gilmore (1996)', 'If Lucy Fell (1996)', 'Boomerang (1992)', 'Man of the Year (1995)', 'Addiction, The (1995)', 'Casper (1995)', 'Congo (1995)', 'Devil in a Blue Dress (1995)', 'Johnny Mnemonic (1995)', 'Kids (1995)', 'Mute Witness (1994)', 'Prophecy, The (1995)', 'Something to Talk About (1995)', 'Three Wishes (1995)', 'Castle Freak (1995)', 'Don Juan DeMarco (1995)', 'Drop Zone (1994)', 'Dumb & Dumber (1994)', 'French Kiss (1995)', 'Little Odessa (1994)', 'Milk Money (1994)', 'Beyond Bedlam (1993)', 'Only You (1994)', 'Perez Family, The (1995)', 'Roommates (1995)', 'Relative Fear (1994)', 'Swimming with Sharks (1995)', 'Tommy Boy (1995)', 'Baby-Sitters Club, The (1995)', 'Bullets Over Broadway (1994)', 'Crooklyn (1994)', 'It Could Happen to You (1994)', 'Richie Rich (1994)', 'Speechless (1994)', 'Timecop (1994)', 'Bad Company (1995)', 'Boys Life (1995)', 'In the Mouth of Madness (1995)', 'Air Up There, The (1994)', 'Hard Target (1993)', 'Heaven & Earth (1993)', 'Jimmy Hollywood (1994)', 'Manhattan Murder Mystery (1993)', 'Menace II Society (1993)', 'Poetic Justice (1993)', 'Program, The (1993)', 'Rising Sun (1993)', 'Shadow, The (1994)', 'Thirty-Two Short Films About Glenn Gould (1993)', 'Andre (1994)', 'Celluloid Closet, The (1995)', 'Great Day in Harlem, A (1994)', 'One Fine Day (1996)', 'Candyman: Farewell to the Flesh (1995)', 'Frisk (1995)', 'Girl 6 (1996)', 'Eddie (1996)', 'Space Jam (1996)', 'Mrs. Winterbourne (1996)', 'Faces (1968)', 'Mulholland Falls (1996)', 'Great White Hype, The (1996)', 'Arrival, The (1996)', 'Phantom, The (1996)', 'Daylight (1996)', 'Alaska (1996)', 'Fled (1996)', 'Power 98 (1995)', 'Escape from L.A. (1996)', 'Bogus (1996)', 'Bulletproof (1996)', 'Halloween: The Curse of Michael Myers (1995)', 'Gay Divorcee, The (1934)', 'Ninotchka (1939)', 'Meet John Doe (1941)', 'In the Line of Duty 2 (1987)', 'Loch Ness (1995)', 'Last Man Standing (1996)', 'Glimmer Man, The (1996)', 'Pollyanna (1960)', 'Shaggy Dog, The (1959)', 'Freeway (1996)', 'That Thing You Do! (1996)', 'To Gillian on Her 37th Birthday (1996)', 'Looking for Richard (1996)', 'Murder, My Sweet (1944)', 'Days of Thunder (1990)', 'Perfect Candidate, A (1996)', 'Two or Three Things I Know About Her (1966)', 'Bloody Child, The (1996)', 'Braindead (1992)', 'Bad Taste (1987)', 'Diva (1981)', 'Night on Earth (1991)', 'Paris Was a Woman (1995)', 'Amityville: Dollhouse (1996)', \"April Fool's Day (1986)\", 'Believers, The (1987)', 'Nosferatu a Venezia (1986)', 'Jingle All the Way (1996)', 'Garden of Finzi-Contini, The (Giardino dei Finzi-Contini, Il) (1970)', 'My Fellow Americans (1996)', 'Ice Storm, The (1997)', 'Michael (1996)', 'Whole Wide World, The (1996)', 'Hearts and Minds (1996)', 'Fools Rush In (1997)', 'Touch (1997)', 'Vegas Vacation (1997)', 'Love Jones (1997)', 'Picture Perfect (1997)', 'Career Girls (1997)', \"She's So Lovely (1997)\", 'Money Talks (1997)', 'Excess Baggage (1997)', 'That Darn Cat! (1997)', 'Peacemaker, The (1997)', 'Soul Food (1997)', 'Money Talks (1997)', 'Washington Square (1997)', 'Telling Lies in America (1997)', 'Year of the Horse (1997)', 'Phantoms (1998)', 'Life Less Ordinary, A (1997)', \"Eve's Bayou (1997)\", 'One Night Stand (1997)', 'Tango Lesson, The (1997)', 'Mortal Kombat: Annihilation (1997)', 'Bent (1997)', 'For Richer or Poorer (1997)', 'Home Alone 3 (1997)', 'Scream 2 (1997)', 'Sweet Hereafter, The (1997)', 'Time Tracers (1995)', 'Postman, The (1997)', 'Winter Guest, The (1997)', 'Kundun (1997)', 'Mr. Magoo (1997)', 'Big Lebowski, The (1998)', 'Afterglow (1997)', 'Ma vie en rose (My Life in Pink) (1997)', 'Great Expectations (1998)', 'Oscar & Lucinda (1997)', 'Vermin (1998)', 'Half Baked (1998)', 'Dangerous Beauty (1998)', 'Nil By Mouth (1997)', 'Twilight (1998)', 'U.S. Marshalls (1998)', 'Love and Death on Long Island (1997)', 'Wild Things (1998)', 'Primary Colors (1998)', 'Lost in Space (1998)', 'Mercury Rising (1998)', 'City of Angels (1998)', 'City of Lost Children, The (1995)', 'Farewell My Concubine (1993)', 'Dead Man (1995)', 'Raise the Red Lantern (1991)', 'White Squall (1996)', 'Unforgettable (1996)', 'Down Periscope (1996)', 'Flower of My Secret, The (Flor de mi secreto, La) (1995)', 'Craft, The (1996)', 'Harriet the Spy (1996)', 'Chain Reaction (1996)', 'Island of Dr. Moreau, The (1996)', 'First Kid (1996)', 'Funeral, The (1996)', \"Preacher's Wife, The (1996)\", 'Paradise Road (1997)', 'Brassed Off (1996)', 'Thousand Acres, A (1997)', 'Smile Like Yours, A (1997)', 'Murder in the First (1995)', 'Airheads (1994)', 'With Honors (1994)', \"What's Love Got to Do with It (1993)\", 'Killing Zoe (1994)', 'Renaissance Man (1994)', 'Charade (1963)', 'Fox and the Hound, The (1981)', 'Booty Call (1997)', 'How to Make an American Quilt (1995)', 'Georgia (1995)', 'Indian in the Cupboard, The (1995)', 'Blue in the Face (1995)', 'Unstrung Heroes (1995)', 'Unzipped (1995)', 'Before Sunrise (1995)', \"Nobody's Fool (1994)\", 'Pushing Hands (1992)', 'To Live (Huozhe) (1994)', 'Dazed and Confused (1993)', 'Naked (1993)', 'Orlando (1993)', 'Ruby in Paradise (1993)', 'Some Folks Call It a Sling Blade (1993)', 'Month by the Lake, A (1995)', 'Funny Face (1957)', 'Affair to Remember, An (1957)', 'Little Lord Fauntleroy (1936)', 'Inspector General, The (1949)', 'Winnie the Pooh and the Blustery Day (1968)', 'Hear My Song (1991)', 'Mediterraneo (1991)', 'Passion Fish (1992)', 'Grateful Dead (1995)', 'Eye for an Eye (1996)', 'Fear (1996)', 'Solo (1996)', 'Substitute, The (1996)', 'Trigger Effect, The (1996)', 'Mother Night (1996)', 'Dangerous Ground (1997)', 'Maximum Risk (1996)', \"Rich Man's Wife, The (1996)\", 'Shadow Conspiracy (1997)', 'Turbulence (1997)', 'Underworld (1997)', 'Beautician and the Beast, The (1997)', \"Cats Don't Dance (1997)\", 'Anna Karenina (1997)', 'Keys to Tulsa (1997)', 'Head Above Water (1996)', 'Hercules (1997)', 'Last Time I Committed Suicide, The (1997)', 'Kiss Me, Guido (1997)', 'Big Green, The (1995)', 'Stuart Saves His Family (1995)', 'Cabin Boy (1994)', 'Clean Slate (1994)', 'Lightning Jack (1994)', 'Stupids, The (1996)', 'Pest, The (1997)', 'That Darn Cat! (1997)', 'Double vie de Véronique, La (Double Life of Veronique, The) (1991)', 'Until the End of the World (Bis ans Ende der Welt) (1991)', 'Waiting for Guffman (1996)', 'I Shot Andy Warhol (1996)', 'Stealing Beauty (1996)', 'Basquiat (1996)', '2 Days in the Valley (1996)', 'Private Parts (1997)', 'Anaconda (1997)', \"Romy and Michele's High School Reunion (1997)\", 'Shiloh (1997)', 'Con Air (1997)', 'Trees Lounge (1996)', 'Tie Me Up! Tie Me Down! (1990)', 'Die xue shuang xiong (Killer, The) (1989)', 'Gaslight (1944)', '8 1/2 (1963)', 'Fast, Cheap & Out of Control (1997)', \"Fathers' Day (1997)\", 'Mrs. Dalloway (1997)', 'Fire Down Below (1997)', 'Lay of the Land, The (1997)', 'Shooter, The (1995)', 'Grumpier Old Men (1995)', 'Jury Duty (1995)', 'Beverly Hillbillies, The (1993)', 'Lassie (1994)', 'Little Big League (1994)', 'Homeward Bound II: Lost in San Francisco (1996)', 'Quest, The (1996)', 'Cool Runnings (1993)', 'Drop Dead Fred (1991)', 'Grease 2 (1982)', 'Switchback (1997)', 'Hamlet (1996)', 'Two if by Sea (1996)', 'Forget Paris (1995)', 'Just Cause (1995)', 'Rent-a-Kid (1995)', 'Paper, The (1994)', 'Fearless (1993)', 'Malice (1993)', 'Multiplicity (1996)', \"She's the One (1996)\", 'House Arrest (1996)', 'Ghost and Mrs. Muir, The (1947)', 'Associate, The (1996)', 'Dracula: Dead and Loving It (1995)', 'Now and Then (1995)', 'Simple Twist of Fate, A (1994)', 'Cronos (1992)', 'Pallbearer, The (1996)', 'War, The (1994)', \"Don't Be a Menace to South Central While Drinking Your Juice in the Hood (1996)\", 'Adventures of Pinocchio, The (1996)', 'Evening Star, The (1996)', 'Four Days in September (1997)', 'Crossfire (1947)', 'Koyaanisqatsi (1983)', 'Balto (1995)', 'Bottle Rocket (1996)', \"Star Maker, The (Uomo delle stelle, L') (1995)\", 'Amateur (1994)', 'Living in Oblivion (1995)', 'Party Girl (1995)', \"Pyromaniac's Love Story, A (1995)\", 'Shallow Grave (1994)', 'Reality Bites (1994)', 'Man of No Importance, A (1994)', 'Pagemaster, The (1994)', 'Love and a .45 (1994)', 'Oliver & Company (1988)', \"Joe's Apartment (1996)\", 'Celestial Clockwork (1994)', 'Curdled (1996)', 'Female Perversions (1996)', 'Albino Alligator (1996)', 'Carried Away (1996)', \"It's My Party (1995)\", 'Bloodsport 2 (1995)', 'Double Team (1997)', 'Speed 2: Cruise Control (1997)', 'Sliver (1993)', \"Pete's Dragon (1977)\", 'Dear God (1996)', 'Thin Line Between Love and Hate, A (1996)', 'High School High (1996)', 'Commandments (1997)', 'Hate (Haine, La) (1995)', 'Flirting With Disaster (1996)', 'Red Firecracker, Green Firecracker (1994)', 'What Happened Was... (1994)', 'Six Degrees of Separation (1993)', 'Two Much (1996)', 'Trust (1990)', \"C'est arrivé près de chez vous (1992)\", 'Firestorm (1998)', 'Newton Boys, The (1998)', 'Beyond Rangoon (1995)', 'Feast of July (1995)', 'Death and the Maiden (1994)', 'Tank Girl (1995)', 'Double Happiness (1994)', 'Cobb (1994)', 'Mrs. Parker and the Vicious Circle (1994)', 'Faithful (1996)', 'Twelfth Night (1996)', 'Mark of Zorro, The (1940)', 'Up in Smoke (1978)', 'Some Kind of Wonderful (1987)', \"I'm Not Rappaport (1996)\", 'Umbrellas of Cherbourg, The (Parapluies de Cherbourg, Les) (1964)', 'They Made Me a Criminal (1939)', 'Last Time I Saw Paris, The (1954)', 'Farewell to Arms, A (1932)', 'Innocents, The (1961)', 'Old Man and the Sea, The (1958)', 'Truman Show, The (1998)', 'Heidi Fleiss: Hollywood Madam (1995) ', 'Chungking Express (1994)', \"Jupiter's Wife (1994)\", 'Safe (1995)', 'Escape to Witch Mountain (1975)', 'Get on the Bus (1996)', 'Doors, The (1991)', 'Ghosts of Mississippi (1996)', 'Beautiful Thing (1996)', 'Best Men (1997)', 'Hackers (1995)', 'Road to Wellville, The (1994)', 'War Room, The (1993)', 'When We Were Kings (1996)', 'Hard Eight (1996)', 'Quiet Room, The (1996)', 'Blue Chips (1994)', 'Calendar Girl (1993)', 'My Family (1995)', 'Tom & Viv (1994)', 'Last Dance (1996)', 'Original Gangstas (1996)', 'In Love and War (1996)', 'Backbeat (1993)', 'Alphaville (1965)', 'Rendezvous in Paris (Rendez-vous de Paris, Les) (1995)', 'Cyclo (1995)', 'Relic, The (1997)', 'Fille seule, La (A Single Girl) (1995)', 'Stalker (1979)', 'Love! Valour! Compassion! (1997)', 'Palookaville (1996)', 'Phat Beach (1996)', 'Portrait of a Lady, The (1996)', 'Zeus and Roxanne (1997)', 'Big Bully (1996)', 'Love & Human Remains (1993)', 'Sum of Us, The (1994)', 'Little Buddha (1993)', 'Fresh (1994)', 'Spanking the Monkey (1994)', 'Wild Reeds (1994)', 'Women, The (1939)', 'Bliss (1997)', 'Caught (1996)', 'Hugo Pool (1997)', 'Welcome To Sarajevo (1997)', 'Major Payne (1994)', 'Man of the House (1995)', 'I Love Trouble (1994)', 'Low Down Dirty Shame, A (1994)', 'Cops and Robbersons (1994)', 'Cowboy Way, The (1994)', 'Endless Summer 2, The (1994)', 'In the Army Now (1994)', 'Inkwell, The (1994)', 'Switchblade Sisters (1975)', 'Young Guns II (1990)', 'Prefontaine (1997)', 'Letter From Death Row, A (1998)', 'Boys of St. Vincent, The (1993)', 'Before the Rain (Pred dozhdot) (1994)', 'Once Were Warriors (1994)', 'Strawberry and Chocolate (Fresa y chocolate) (1993)', 'Savage Nights (Nuits fauves, Les) (1992)', 'Family Thing, A (1996)', 'Purple Noon (1960)', 'Cemetery Man (Dellamorte Dellamore) (1994)', 'Kim (1950)', 'Marlene Dietrich: Shadow and Light (1996) ', 'Maybe, Maybe Not (Bewegte Mann, Der) (1994)', 'Top Hat (1935)', 'To Be or Not to Be (1942)', 'Secret Agent, The (1996)', 'Amos & Andrew (1993)', 'Jade (1995)', 'Kiss of Death (1995)', 'Mixed Nuts (1994)', 'Virtuosity (1995)', 'Blue Sky (1994)', 'Flesh and Bone (1993)', 'Guilty as Sin (1993)', 'In the Realm of the Senses (Ai no corrida) (1976)', 'Barb Wire (1996)', 'Kissed (1996)', 'Assassins (1995)', 'Friday (1995)', 'Goofy Movie, A (1995)', 'Higher Learning (1995)', 'When a Man Loves a Woman (1994)', 'Judgment Night (1993)', 'King of the Hill (1993)', 'Scout, The (1994)', 'Angus (1995)', 'Night Falls on Manhattan (1997)', 'Awfully Big Adventure, An (1995)', 'Under Siege 2: Dark Territory (1995)', 'Poison Ivy II (1995)', 'Ready to Wear (Pret-A-Porter) (1994)', 'Marked for Death (1990)', 'Madonna: Truth or Dare (1991)', 'Nénette et Boni (1996)', 'Chairman of the Board (1998)', 'Big Bang Theory, The (1994)', 'Other Voices, Other Rooms (1997)', 'Twisted (1996)', 'Full Speed (1996)', 'Cutthroat Island (1995)', 'Ghost in the Shell (Kokaku kidotai) (1995)', 'Van, The (1996)', 'Old Lady Who Walked in the Sea, The (Vieille qui marchait dans la mer, La) (1991)', 'Night Flier (1997)', 'Metro (1997)', \"Gridlock'd (1997)\", 'Bushwhacked (1995)', 'Bad Girls (1994)', 'Blink (1994)', 'For Love or Money (1993)', 'Best of the Best 3: No Turning Back (1995)', 'A Chef in Love (1996)', 'Contempt (Mépris, Le) (1963)', 'Tie That Binds, The (1995)', \"Gone Fishin' (1997)\", 'Broken English (1996)', 'Designated Mourner, The (1997)', 'Designated Mourner, The (1997)', 'Trial and Error (1997)', 'Pie in the Sky (1995)', 'Total Eclipse (1995)', 'Run of the Country, The (1995)', 'Walking and Talking (1996)', 'Foxfire (1996)', 'Nothing to Lose (1994)', 'Star Maps (1997)', 'Bread and Chocolate (Pane e cioccolata) (1973)', 'Clockers (1995)', 'Bitter Moon (1992)', 'Love in the Afternoon (1957)', 'Life with Mikey (1993)', 'North (1994)', 'Talking About Sex (1994)', 'Color of Night (1994)', 'Robocop 3 (1993)', 'Killer (Bulletproof Heart) (1994)', 'Sunset Park (1996)', 'Set It Off (1996)', 'Selena (1997)', 'Wild America (1997)', 'Gang Related (1997)', 'Manny & Lo (1996)', 'Grass Harp, The (1995)', 'Out to Sea (1997)', 'Before and After (1996)', 'Princess Caraboo (1994)', 'Shall We Dance? (1937)', 'Ed (1996)', 'Denise Calls Up (1995)', 'Jack and Sarah (1995)', 'Country Life (1994)', 'Celtic Pride (1996)', 'Simple Wish, A (1997)', 'Star Kid (1997)', 'Ayn Rand: A Sense of Life (1997)', 'Kicked in the Head (1997)', 'Indian Summer (1996)', 'Love Affair (1994)', 'Band Wagon, The (1953)', 'Penny Serenade (1941)', \"'Til There Was You (1997)\", 'Stripes (1981)', 'Late Bloomers (1996)', 'Getaway, The (1994)', 'New York Cop (1996)', \"National Lampoon's Senior Trip (1995)\", 'Delta of Venus (1994)', 'Carmen Miranda: Bananas Is My Business (1994)', 'Babyfever (1994)', 'Very Natural Thing, A (1974)', 'Walk in the Sun, A (1945)', 'Waiting to Exhale (1995)', 'Pompatus of Love, The (1996)', 'Palmetto (1998)', 'Surviving the Game (1994)', 'Inventing the Abbotts (1997)', 'Horse Whisperer, The (1998)', 'Journey of August King, The (1995)', 'Catwalk (1995)', 'Neon Bible, The (1995)', 'Homage (1995)', 'Open Season (1996)', 'Metisse (Café au Lait) (1993)', \"Wooden Man's Bride, The (Wu Kui) (1994)\", 'Loaded (1994)', 'August (1996)', 'Boys (1996)', 'Of Love and Shadows (1994)', 'Low Life, The (1994)', 'An Unforgettable Summer (1994)', 'Last Klezmer: Leopold Kozlowski, His Life and Music, The (1995)', \"My Life and Times With Antonin Artaud (En compagnie d'Antonin Artaud) (1993)\", 'Midnight Dancers (Sibak) (1994)', 'Somebody to Love (1994)', 'American Buffalo (1996)', 'Kazaam (1996)', 'Larger Than Life (1996)', 'Two Deaths (1995)', 'Stefano Quantestorie (1993)', 'Crude Oasis, The (1995)', 'Hedd Wyn (1992)', 'Convent, The (Convento, O) (1995)', 'Lotto Land (1995)', 'Story of Xinghua, The (1993)', 'Day the Sun Turned Cold, The (Tianguo niezi) (1994)', 'Dingo (1992)', 'Every Other Weekend (1990)', 'Mille bolle blu (1993)', 'Crows and Sparrows (1949)', \"Lover's Knot (1996)\", 'Shadow of Angels (Schatten der Engel) (1976)', '1-900 (1994)', 'Venice/Venice (1992)', 'Infinity (1996)', \"Ed's Next Move (1996)\", 'For the Moment (1994)', 'Boys in Venice (1996)', 'Sexual Life of the Belgians, The (1994)', 'Search for One-eye Jimmy, The (1996)', 'American Strays (1996)', 'Leopard Son, The (1996)', 'Bird of Prey (1996)', 'Johnny 100 Pesos (1993)', 'JLG/JLG - autoportrait de décembre (1994)', 'Faust (1994)', 'Mina Tannenbaum (1994)', 'Forbidden Christ, The (Cristo proibito, Il) (1950)', \"I Can't Sleep (J'ai pas sommeil) (1994)\", 'Machine, The (1994)', 'Stranger, The (1994)', 'Good Morning (1971)', 'Falling in Love Again (1980)', 'Cement Garden, The (1993)', 'Meet Wally Sparks (1997)', 'Hotel de Love (1996)', 'Rhyme & Reason (1997)', 'Love and Other Catastrophes (1996)', 'Hollow Reed (1996)', 'Losing Chase (1996)', 'Bonheur, Le (1965)', 'Second Jungle Book: Mowgli & Baloo, The (1997)', 'Squeeze (1996)', \"Roseanna's Grave (For Roseanna) (1997)\", 'Tetsuo II: Body Hammer (1992)', 'Fall (1997)', 'Gabbeh (1996)', 'Mondo (1996)', 'Innocent Sleep, The (1995)', 'For Ever Mozart (1996)', 'Locusts, The (1997)', 'Stag (1997)', 'Swept from the Sea (1997)', 'Hurricane Streets (1998)', 'Stonewall (1995)', 'Of Human Bondage (1934)', 'Anna (1996)', 'Stranger in the House (1997)', 'Picture Bride (1995)', 'M. Butterfly (1993)', 'Ciao, Professore! (1993)', 'Caro Diario (Dear Diary) (1994)', 'Withnail and I (1987)', \"Boy's Life 2 (1997)\", 'When Night Is Falling (1995)', 'Specialist, The (1994)', 'Gordy (1995)', 'Swan Princess, The (1994)', 'Harlem (1993)', 'Barbarella (1968)', 'Land Before Time III: The Time of the Great Giving (1995) (V)', 'Street Fighter (1994)', 'Coldblooded (1995)', 'Next Karate Kid, The (1994)', 'No Escape (1994)', 'Turning, The (1992)', 'Joy Luck Club, The (1993)', 'Highlander III: The Sorcerer (1994)', 'My Crazy Life (Mi vida loca) (1993)', 'Suture (1993)', 'Walking Dead, The (1995)', 'I Like It Like That (1994)', \"I'll Do Anything (1994)\", 'Grace of My Heart (1996)', 'Drunks (1995)', 'SubUrbia (1997)', 'Sliding Doors (1998)', 'Ill Gotten Gains (1997)', 'Legal Deceit (1997)', 'Mighty, The (1998)', 'Shooting Fish (1997)', 'Steal Big, Steal Little (1995)', 'Mr. Jones (1993)', 'House Party 3 (1994)', 'Panther (1995)', \"Jason's Lyric (1994)\", 'Above the Rim (1994)', 'Moonlight and Valentino (1995)', 'Scarlet Letter, The (1995)', '8 Seconds (1994)', 'That Darn Cat! (1965)', 'Ladybird Ladybird (1994)', 'Bye Bye, Love (1995)', 'Century (1993)', 'My Favorite Season (1993)', 'Pather Panchali (1955)', 'Golden Earrings (1947)', 'Foreign Correspondent (1940)', 'Lady of Burlesque (1943)', 'Angel on My Shoulder (1946)', 'Angel and the Badman (1947)', 'Outlaw, The (1943)', 'Beat the Devil (1954)', 'Love Is All There Is (1996)', 'Damsel in Distress, A (1937)', 'Madame Butterfly (1995)', 'Sleepover (1995)', 'Here Comes Cookie (1935)', 'Thieves (Voleurs, Les) (1996)', 'Boys, Les (1997)', 'Stars Fell on Henrietta, The (1995)', 'Last Summer in the Hamptons (1995)', \"Margaret's Museum (1995)\", 'Saint of Fort Washington, The (1993)', 'Cure, The (1995)', 'Tom and Huck (1995)', 'Gumby: The Movie (1995)', 'Hideaway (1995)', 'Visitors, The (Visiteurs, Les) (1993)', 'Little Princess, The (1939)', 'Nina Takes a Lover (1994)', 'Bhaji on the Beach (1993)', 'Raw Deal (1948)', 'Nightwatch (1997)', 'Dead Presidents (1995)', 'Reckless (1995)', 'Herbie Rides Again (1974)', 'S.F.W. (1994)', 'Gate of Heavenly Peace, The (1995)', 'Man in the Iron Mask, The (1998)', 'Jerky Boys, The (1994)', 'Colonel Chabert, Le (1994)', 'Girl in the Cadillac (1995)', 'Even Cowgirls Get the Blues (1993)', 'Germinal (1993)', 'Chasers (1994)', 'Fausto (1993)', 'Tough and Deadly (1995)', 'Window to Paris (1994)', 'Modern Affair, A (1995)', 'Mostro, Il (1994)', 'Flirt (1995)', 'Carpool (1996)', 'Line King: Al Hirschfeld, The (1996)', 'Farmer & Chase (1995)', 'Grosse Fatigue (1994)', 'Santa with Muscles (1996)', 'Prisoner of the Mountains (Kavkazsky Plennik) (1996)', 'Naked in New York (1994)', 'Gold Diggers: The Secret of Bear Mountain (1995)', 'Bewegte Mann, Der (1994)', 'Killer: A Journal of Murder (1995)', 'Nelly & Monsieur Arnaud (1995)', 'Three Lives and Only One Death (1996)', 'Babysitter, The (1995)', 'Getting Even with Dad (1994)', 'Mad Dog Time (1996)', 'Children of the Revolution (1996)', 'World of Apu, The (Apur Sansar) (1959)', 'Sprung (1997)', 'Dream With the Fishes (1997)', 'Wings of Courage (1995)', 'Wedding Gift, The (1994)', 'Race the Sun (1996)', 'Losing Isaiah (1995)', 'New Jersey Drive (1995)', 'Fear, The (1995)', 'Mr. Wonderful (1993)', 'Trial by Jury (1994)', 'Good Man in Africa, A (1994)', 'Kaspar Hauser (1993)', 'Object of My Affection, The (1998)', 'Witness (1985)', 'Senseless (1998)', 'Nowhere (1997)', 'Underground (1995)', 'Jefferson in Paris (1995)', 'Far From Home: The Adventures of Yellow Dog (1995)', 'Foreign Student (1994)', \"I Don't Want to Talk About It (De eso no se habla) (1993)\", 'Twin Town (1997)', \"Enfer, L' (1994)\", 'Aiqing wansui (1994)', 'Cosi (1996)', 'All Over Me (1997)', 'Being Human (1993)', 'Amazing Panda Adventure, The (1995)', 'Beans of Egypt, Maine, The (1994)', 'Scarlet Letter, The (1926)', 'Johns (1996)', 'It Takes Two (1995)', 'Frankie Starlight (1995)', 'Shadows (Cienie) (1988)', 'Show, The (1995)', 'The Courtyard (1995)', 'Dream Man (1995)', 'Destiny Turns on the Radio (1995)', 'Glass Shield, The (1994)', 'Hunted, The (1995)', 'Underneath, The (1995)', 'Safe Passage (1994)', 'Secret Adventures of Tom Thumb, The (1993)', 'Condition Red (1995)', 'Yankee Zulu (1994)', 'Aparajito (1956)', 'Hostile Intentions (1994)', 'Clean Slate (Coup de Torchon) (1981)', 'Tigrero: A Film That Was Never Made (1994)', \"Eye of Vichy, The (Oeil de Vichy, L') (1993)\", 'Promise, The (Versprechen, Das) (1994)', 'To Cross the Rubicon (1991)', 'Daens (1992)', 'Man from Down Under, The (1943)', 'Careful (1992)', 'Vermont Is For Lovers (1992)', 'Vie est belle, La (Life is Rosey) (1987)', 'Quartier Mozart (1992)', 'Touki Bouki (Journey of the Hyena) (1973)', \"Wend Kuuni (God's Gift) (1982)\", 'Spirits of the Dead (Tre passi nel delirio) (1968)', \"Pharaoh's Army (1995)\", 'I, Worst of All (Yo, la peor de todas) (1990)', 'Hungarian Fairy Tale, A (1987)', 'Death in the Garden (Mort en ce jardin, La) (1956)', 'Collectionneuse, La (1967)', 'Baton Rouge (1988)', 'Liebelei (1933)', 'Woman in Question, The (1950)', 'T-Men (1947)', 'Invitation, The (Zaproszenie) (1986)', 'Symphonie pastorale, La (1946)', 'American Dream (1990)', 'Lashou shentan (1992)', 'Terror in a Texas Town (1958)', 'Salut cousin! (1996)', 'Schizopolis (1996)', 'To Have, or Not (1995)', 'Duoluo tianshi (1995)', 'Magic Hour, The (1998)', 'Death in Brunswick (1991)', 'Everest (1998)', 'Shopping (1994)', 'Nemesis 2: Nebula (1995)', 'Romper Stomper (1992)', 'City of Industry (1997)', \"Someone Else's America (1995)\", 'Guantanamera (1994)', 'Office Killer (1997)', 'Price Above Rubies, A (1998)', 'Angela (1995)', 'He Walked by Night (1948)', 'Love Serenade (1996)', 'Deceiver (1997)', 'Hurricane Streets (1998)', 'Buddy (1997)', 'B*A*P*S (1997)', 'Truth or Consequences, N.M. (1997)', 'Intimate Relations (1996)', 'Leading Man, The (1996)', 'Tokyo Fist (1995)', 'Warriors of Virtue (1997)', 'Desert Winds (1995)', 'Hugo Pool (1997)', 'King of New York (1990)', 'All Things Fair (1996)', 'Sixth Man, The (1997)', 'Butterfly Kiss (1995)', 'Paris, France (1993)', 'Cérémonie, La (1995)', 'Hush (1998)', 'Nightwatch (1997)', 'Nobody Loves Me (Keiner liebt mich) (1994)', 'Wife, The (1995)', 'Lamerica (1994)', 'Nico Icon (1995)', 'Silence of the Palace, The (Saimt el Qusur) (1994)', 'Slingshot, The (1993)', 'Land and Freedom (Tierra y libertad) (1995)', 'Á köldum klaka (Cold Fever) (1994)', 'Etz Hadomim Tafus (Under the Domin Tree) (1994)', 'Two Friends (1986) ', 'Brothers in Trouble (1995)', 'Girls Town (1996)', 'Normal Life (1996)', 'Bitter Sugar (Azucar Amargo) (1996)', 'Eighth Day, The (1996)', 'Dadetown (1995)', \"Some Mother's Son (1996)\", 'Angel Baby (1995)', 'Sudden Manhattan (1996)', 'Butcher Boy, The (1998)', 'Men With Guns (1997)', 'Hana-bi (1997)', 'Niagara, Niagara (1997)', 'Big One, The (1997)', 'Butcher Boy, The (1998)', 'Spanish Prisoner, The (1997)', 'Temptress Moon (Feng Yue) (1996)', 'Entertaining Angels: The Dorothy Day Story (1996)', 'Chairman of the Board (1998)', 'Favor, The (1994)', 'Little City (1998)', 'Target (1995)', 'Substance of Fire, The (1996)', 'Getting Away With Murder (1996)', 'Small Faces (1995)', 'New Age, The (1994)', 'Rough Magic (1995)', 'Nothing Personal (1995)', '8 Heads in a Duffel Bag (1997)', \"Brother's Kiss, A (1997)\", 'Ripe (1996)', 'Next Step, The (1995)', 'Wedding Bell Blues (1996)', 'MURDER and murder (1996)', 'Tainted (1998)', 'Kika (1993)', 'Mirage (1995)', 'Mamma Roma (1962)', 'Sunchaser, The (1996)', 'War at Home, The (1996)', 'Sweet Nothing (1995)', \"Mat' i syn (1997)\", 'B. Monkey (1998)', 'Sliding Doors (1998)', 'You So Crazy (1994)', 'Scream of Stone (Schrei aus Stein) (1991)'], ['Bastard Out of Carolina (1996)', 'Geronimo: An American Legend (1993)'], ['Kama Sutra: A Tale of Love (1996)', 'Reluctant Debutante, The (1958)'], ['Mouse Hunt (1997)', 'Flubber (1997)'], [\"Heaven's Prisoners (1996)\", 'Blood & Wine (1997)', 'Captives (1994)'], ['Men of Means (1998)', 'Further Gesture, A (1996)']]\n"
     ]
    }
   ],
   "source": [
    "result=[]\n",
    "for l in j:\n",
    "    p=[]\n",
    "    for i in l:\n",
    "        p.append(movies.at[i,'title'])\n",
    "    result.append(p)\n",
    "print(result)        "
   ]
  },
  {
   "cell_type": "code",
   "execution_count": 12,
   "metadata": {},
   "outputs": [
    {
     "data": {
      "text/plain": [
       "66065"
      ]
     },
     "execution_count": 12,
     "metadata": {},
     "output_type": "execute_result"
    }
   ],
   "source": [
    "len(G.edges())"
   ]
  },
  {
   "cell_type": "code",
   "execution_count": 4,
   "metadata": {},
   "outputs": [
    {
     "name": "stderr",
     "output_type": "stream",
     "text": [
      "/Library/Frameworks/Python.framework/Versions/3.7/lib/python3.7/site-packages/ipykernel_launcher.py:1: FutureWarning: Method .as_matrix will be removed in a future version. Use .values instead.\n",
      "  \"\"\"Entry point for launching an IPython kernel.\n"
     ]
    },
    {
     "data": {
      "text/html": [
       "<div>\n",
       "<style scoped>\n",
       "    .dataframe tbody tr th:only-of-type {\n",
       "        vertical-align: middle;\n",
       "    }\n",
       "\n",
       "    .dataframe tbody tr th {\n",
       "        vertical-align: top;\n",
       "    }\n",
       "\n",
       "    .dataframe thead th {\n",
       "        text-align: right;\n",
       "    }\n",
       "</style>\n",
       "<table border=\"1\" class=\"dataframe\">\n",
       "  <thead>\n",
       "    <tr style=\"text-align: right;\">\n",
       "      <th></th>\n",
       "      <th>0</th>\n",
       "      <th>1</th>\n",
       "      <th>2</th>\n",
       "      <th>3</th>\n",
       "      <th>4</th>\n",
       "      <th>5</th>\n",
       "      <th>6</th>\n",
       "      <th>7</th>\n",
       "      <th>8</th>\n",
       "      <th>9</th>\n",
       "      <th>...</th>\n",
       "      <th>1672</th>\n",
       "      <th>1673</th>\n",
       "      <th>1674</th>\n",
       "      <th>1675</th>\n",
       "      <th>1676</th>\n",
       "      <th>1677</th>\n",
       "      <th>1678</th>\n",
       "      <th>1679</th>\n",
       "      <th>1680</th>\n",
       "      <th>1681</th>\n",
       "    </tr>\n",
       "  </thead>\n",
       "  <tbody>\n",
       "    <tr>\n",
       "      <th>0</th>\n",
       "      <td>0.000000</td>\n",
       "      <td>0.234595</td>\n",
       "      <td>0.193362</td>\n",
       "      <td>0.226213</td>\n",
       "      <td>0.128840</td>\n",
       "      <td>0.015113</td>\n",
       "      <td>0.347354</td>\n",
       "      <td>0.254490</td>\n",
       "      <td>0.209502</td>\n",
       "      <td>0.104655</td>\n",
       "      <td>...</td>\n",
       "      <td>0.018215</td>\n",
       "      <td>-0.029676</td>\n",
       "      <td>-0.029676</td>\n",
       "      <td>-0.029676</td>\n",
       "      <td>0.018215</td>\n",
       "      <td>-0.029676</td>\n",
       "      <td>-0.029676</td>\n",
       "      <td>-0.029676</td>\n",
       "      <td>0.034179</td>\n",
       "      <td>0.034179</td>\n",
       "    </tr>\n",
       "    <tr>\n",
       "      <th>1</th>\n",
       "      <td>0.234595</td>\n",
       "      <td>0.000000</td>\n",
       "      <td>0.190649</td>\n",
       "      <td>0.409044</td>\n",
       "      <td>0.240712</td>\n",
       "      <td>0.030062</td>\n",
       "      <td>0.220022</td>\n",
       "      <td>0.206020</td>\n",
       "      <td>0.077894</td>\n",
       "      <td>0.072906</td>\n",
       "      <td>...</td>\n",
       "      <td>-0.012451</td>\n",
       "      <td>-0.012451</td>\n",
       "      <td>-0.012451</td>\n",
       "      <td>-0.012451</td>\n",
       "      <td>-0.012451</td>\n",
       "      <td>-0.012451</td>\n",
       "      <td>-0.012451</td>\n",
       "      <td>-0.012451</td>\n",
       "      <td>0.071415</td>\n",
       "      <td>0.071415</td>\n",
       "    </tr>\n",
       "    <tr>\n",
       "      <th>2</th>\n",
       "      <td>0.193362</td>\n",
       "      <td>0.190649</td>\n",
       "      <td>0.000000</td>\n",
       "      <td>0.227849</td>\n",
       "      <td>0.141368</td>\n",
       "      <td>0.065347</td>\n",
       "      <td>0.258855</td>\n",
       "      <td>0.078636</td>\n",
       "      <td>0.146181</td>\n",
       "      <td>0.079608</td>\n",
       "      <td>...</td>\n",
       "      <td>-0.009764</td>\n",
       "      <td>-0.009764</td>\n",
       "      <td>-0.009764</td>\n",
       "      <td>-0.009764</td>\n",
       "      <td>0.023964</td>\n",
       "      <td>-0.009764</td>\n",
       "      <td>-0.009764</td>\n",
       "      <td>-0.009764</td>\n",
       "      <td>-0.009764</td>\n",
       "      <td>0.091421</td>\n",
       "    </tr>\n",
       "    <tr>\n",
       "      <th>3</th>\n",
       "      <td>0.226213</td>\n",
       "      <td>0.409044</td>\n",
       "      <td>0.227849</td>\n",
       "      <td>0.000000</td>\n",
       "      <td>0.237298</td>\n",
       "      <td>0.021878</td>\n",
       "      <td>0.295489</td>\n",
       "      <td>0.352800</td>\n",
       "      <td>0.229922</td>\n",
       "      <td>0.138220</td>\n",
       "      <td>...</td>\n",
       "      <td>-0.016619</td>\n",
       "      <td>-0.016619</td>\n",
       "      <td>0.088984</td>\n",
       "      <td>0.088984</td>\n",
       "      <td>0.025622</td>\n",
       "      <td>-0.016619</td>\n",
       "      <td>-0.016619</td>\n",
       "      <td>-0.016619</td>\n",
       "      <td>0.046743</td>\n",
       "      <td>0.067863</td>\n",
       "    </tr>\n",
       "    <tr>\n",
       "      <th>4</th>\n",
       "      <td>0.128840</td>\n",
       "      <td>0.240712</td>\n",
       "      <td>0.141368</td>\n",
       "      <td>0.237298</td>\n",
       "      <td>0.000000</td>\n",
       "      <td>-0.008594</td>\n",
       "      <td>0.205289</td>\n",
       "      <td>0.145866</td>\n",
       "      <td>0.142541</td>\n",
       "      <td>-0.033746</td>\n",
       "      <td>...</td>\n",
       "      <td>-0.009889</td>\n",
       "      <td>-0.009889</td>\n",
       "      <td>-0.009889</td>\n",
       "      <td>-0.009889</td>\n",
       "      <td>-0.009889</td>\n",
       "      <td>-0.009889</td>\n",
       "      <td>-0.009889</td>\n",
       "      <td>-0.009889</td>\n",
       "      <td>-0.009889</td>\n",
       "      <td>0.088618</td>\n",
       "    </tr>\n",
       "  </tbody>\n",
       "</table>\n",
       "<p>5 rows × 1682 columns</p>\n",
       "</div>"
      ],
      "text/plain": [
       "       0         1         2         3         4         5         6     \\\n",
       "0  0.000000  0.234595  0.193362  0.226213  0.128840  0.015113  0.347354   \n",
       "1  0.234595  0.000000  0.190649  0.409044  0.240712  0.030062  0.220022   \n",
       "2  0.193362  0.190649  0.000000  0.227849  0.141368  0.065347  0.258855   \n",
       "3  0.226213  0.409044  0.227849  0.000000  0.237298  0.021878  0.295489   \n",
       "4  0.128840  0.240712  0.141368  0.237298  0.000000 -0.008594  0.205289   \n",
       "\n",
       "       7         8         9       ...         1672      1673      1674  \\\n",
       "0  0.254490  0.209502  0.104655    ...     0.018215 -0.029676 -0.029676   \n",
       "1  0.206020  0.077894  0.072906    ...    -0.012451 -0.012451 -0.012451   \n",
       "2  0.078636  0.146181  0.079608    ...    -0.009764 -0.009764 -0.009764   \n",
       "3  0.352800  0.229922  0.138220    ...    -0.016619 -0.016619  0.088984   \n",
       "4  0.145866  0.142541 -0.033746    ...    -0.009889 -0.009889 -0.009889   \n",
       "\n",
       "       1675      1676      1677      1678      1679      1680      1681  \n",
       "0 -0.029676  0.018215 -0.029676 -0.029676 -0.029676  0.034179  0.034179  \n",
       "1 -0.012451 -0.012451 -0.012451 -0.012451 -0.012451  0.071415  0.071415  \n",
       "2 -0.009764  0.023964 -0.009764 -0.009764 -0.009764 -0.009764  0.091421  \n",
       "3  0.088984  0.025622 -0.016619 -0.016619 -0.016619  0.046743  0.067863  \n",
       "4 -0.009889 -0.009889 -0.009889 -0.009889 -0.009889 -0.009889  0.088618  \n",
       "\n",
       "[5 rows x 1682 columns]"
      ]
     },
     "execution_count": 4,
     "metadata": {},
     "output_type": "execute_result"
    }
   ],
   "source": [
    "movie_similarity = 1 - pairwise_distances( ratings_matrix.as_matrix(), metric=\"correlation\" )\n",
    "np.fill_diagonal( movie_similarity, 0 ) #Filling diagonals with 0s for future use when sorting is done\n",
    "ratings_matrix = pd.DataFrame( movie_similarity )\n",
    "ratings_matrix.head(5)"
   ]
  },
  {
   "cell_type": "code",
   "execution_count": 9,
   "metadata": {},
   "outputs": [],
   "source": [
    "G=nx.Graph()\n",
    "for i in range(len(ratings_matrix.columns)):\n",
    "    for j in range(len(ratings_matrix.index)):\n",
    "        if(ratings_matrix.loc[i,j]>=0.50):\n",
    "            G.add_edge(i,j,weight=ratings_matrix.loc[i,j])"
   ]
  },
  {
   "cell_type": "code",
   "execution_count": 10,
   "metadata": {},
   "outputs": [
    {
     "name": "stderr",
     "output_type": "stream",
     "text": [
      "/Library/Frameworks/Python.framework/Versions/3.7/lib/python3.7/site-packages/networkx/drawing/nx_pylab.py:611: MatplotlibDeprecationWarning: isinstance(..., numbers.Number)\n",
      "  if cb.is_numlike(alpha):\n"
     ]
    },
    {
     "data": {
      "image/png": "[encoded data removed]",
      "text/plain": [
       "<Figure size 432x288 with 1 Axes>"
      ]
     },
     "metadata": {},
     "output_type": "display_data"
    }
   ],
   "source": [
    "nx.draw_circular(G)\n",
    "plt.show()"
   ]
  },
  {
   "cell_type": "code",
   "execution_count": 11,
   "metadata": {},
   "outputs": [
    {
     "data": {
      "text/plain": [
       "0.014548829427066312"
      ]
     },
     "execution_count": 11,
     "metadata": {},
     "output_type": "execute_result"
    }
   ],
   "source": [
    "nx.density(G)"
   ]
  },
  {
   "cell_type": "code",
   "execution_count": 12,
   "metadata": {},
   "outputs": [],
   "source": [
    "communities_generator = community.girvan_newman(G)\n",
    "top_level_communities = next(communities_generator)\n",
    "next_level_communities = next(communities_generator)\n",
    "j=sorted(map(sorted, next_level_communities))"
   ]
  },
  {
   "cell_type": "code",
   "execution_count": 13,
   "metadata": {},
   "outputs": [],
   "source": [
    "m_cols = ['movie_id', 'title', 'release_date', 'video_release_date', 'imdb_url']\n",
    "movies = pd.read_csv('u.item', sep='|', names=m_cols, usecols=range(5),\n",
    "                     encoding='latin-1')"
   ]
  },
  {
   "cell_type": "code",
   "execution_count": 14,
   "metadata": {},
   "outputs": [
    {
     "name": "stdout",
     "output_type": "stream",
     "text": [
      "[['GoldenEye (1995)', 'Get Shorty (1995)', 'Seven (Se7en) (1995)', 'Usual Suspects, The (1995)', 'Braveheart (1995)', 'Apollo 13 (1995)', 'Batman Forever (1995)', 'Desperado (1995)', 'Net, The (1995)', 'Star Wars (1977)', 'Natural Born Killers (1994)', 'Outbreak (1995)', 'Pulp Fiction (1994)', 'Stargate (1994)', 'Santa Clause, The (1994)', 'Shawshank Redemption, The (1994)', 'While You Were Sleeping (1995)', 'Ace Ventura: Pet Detective (1994)', 'Crow, The (1994)', 'Forrest Gump (1994)', 'Four Weddings and a Funeral (1994)', 'Lion King, The (1994)', 'Mask, The (1994)', 'Firm, The (1993)', 'Fugitive, The (1993)', 'Hot Shots! Part Deux (1993)', 'Jurassic Park (1993)', 'Sleepless in Seattle (1993)', 'Blade Runner (1982)', 'So I Married an Axe Murderer (1993)', 'Home Alone (1990)', 'Aladdin (1992)', 'Terminator 2: Judgment Day (1991)', 'Dances with Wolves (1990)', 'Silence of the Lambs, The (1991)', 'Snow White and the Seven Dwarfs (1937)', 'Godfather, The (1972)', 'Wizard of Oz, The (1939)', 'Gone with the Wind (1939)', 'Citizen Kane (1941)', '2001: A Space Odyssey (1968)', 'Sound of Music, The (1965)', 'Die Hard (1988)', 'Fish Called Wanda, A (1988)', \"Monty Python's Life of Brian (1979)\", 'Dirty Dancing (1987)', 'Top Gun (1986)', 'Monty Python and the Holy Grail (1974)', 'Empire Strikes Back, The (1980)', 'Princess Bride, The (1987)', 'Raiders of the Lost Ark (1981)', 'Brazil (1985)', 'Aliens (1986)', 'Clockwork Orange, A (1971)', 'Apocalypse Now (1979)', 'Return of the Jedi (1983)', 'GoodFellas (1990)', 'Alien (1979)', 'Army of Darkness (1993)', 'Psycho (1960)', 'Blues Brothers, The (1980)', 'Godfather: Part II, The (1974)', 'Full Metal Jacket (1987)', 'Amadeus (1984)', 'Sting, The (1973)', 'Terminator, The (1984)', 'Dead Poets Society (1989)', 'Graduate, The (1967)', 'Shining, The (1980)', 'Evil Dead II (1987)', 'Groundhog Day (1993)', 'Back to the Future (1985)', 'Young Frankenstein (1974)', 'This Is Spinal Tap (1984)', 'Indiana Jones and the Last Crusade (1989)', 'M*A*S*H (1970)', 'Field of Dreams (1989)', 'When Harry Met Sally... (1989)', \"Bram Stoker's Dracula (1992)\", 'Cape Fear (1991)', 'Nightmare on Elm Street, A (1984)', 'Die Hard 2 (1990)', 'Star Trek VI: The Undiscovered Country (1991)', 'Star Trek: The Wrath of Khan (1982)', 'Star Trek III: The Search for Spock (1984)', 'Star Trek IV: The Voyage Home (1986)', 'Batman Returns (1992)', 'Young Guns (1988)', 'Under Siege (1992)', 'Jaws (1975)', 'Raising Arizona (1987)', 'Sneakers (1992)', 'Last of the Mohicans, The (1992)', 'Hunt for Red October, The (1990)', \"Schindler's List (1993)\", 'Client, The (1994)', \"One Flew Over the Cuckoo's Nest (1975)\", 'Ace Ventura: When Nature Calls (1995)', 'Judge Dredd (1995)', 'Star Trek: Generations (1994)', 'Naked Gun 33 1/3: The Final Insult (1994)', 'True Lies (1994)', 'Addams Family Values (1993)', 'Last Action Hero (1993)', 'Mrs. Doubtfire (1993)', 'Robin Hood: Men in Tights (1993)', 'Ghost (1990)', 'Batman (1989)', 'Pinocchio (1940)', 'Cinderella (1950)', 'Mary Poppins (1964)', 'Alice in Wonderland (1951)', 'E.T. the Extra-Terrestrial (1982)', 'Highlander (1986)', 'Fantasia (1940)', 'Heathers (1989)', 'Butch Cassidy and the Sundance Kid (1969)', 'American Werewolf in London, An (1981)', 'Birds, The (1963)', 'Carrie (1976)', 'Omen, The (1976)', 'Star Trek: The Motion Picture (1979)', 'Star Trek V: The Final Frontier (1989)', 'Grease (1978)', 'Tombstone (1993)', 'Dr. Strangelove or: How I Learned to Stop Worrying and Love the Bomb (1963)', 'Vertigo (1958)', 'North by Northwest (1959)', 'Casablanca (1942)', 'Maltese Falcon, The (1941)', \"It's a Wonderful Life (1946)\", 'Dumbo (1941)', 'Bonnie and Clyde (1967)', 'Die Hard: With a Vengeance (1995)', 'Waterworld (1995)', 'Interview with the Vampire (1994)', \"Mary Shelley's Frankenstein (1994)\", 'Clear and Present Danger (1994)', 'Speed (1994)', 'Cliffhanger (1993)', 'Coneheads (1993)', 'Demolition Man (1993)', 'Beauty and the Beast (1991)', 'Rear Window (1954)', 'Chinatown (1974)', 'Stand by Me (1986)', 'Fried Green Tomatoes (1991)', 'Candyman (1992)', 'Conan the Barbarian (1981)', 'In the Line of Fire (1993)', 'American President, The (1995)', 'Casino (1995)', 'Dave (1993)', 'Pretty Woman (1990)', 'Drop Zone (1994)', 'Dumb & Dumber (1994)', 'French Kiss (1995)', 'Tommy Boy (1995)', 'Hard Target (1993)', 'Shadow, The (1994)', 'Candyman: Farewell to the Flesh (1995)', 'Days of Thunder (1990)', 'Airheads (1994)', 'Young Guns II (1990)', 'Under Siege 2: Dark Territory (1995)'], ['White Balloon, The (1995)', 'Nadja (1994)', 'Maya Lin: A Strong Clear Vision (1994)', 'Promesse, La (1996)', \"Amityville 1992: It's About Time (1992)\", 'Amityville 3-D (1983)', 'Amityville: A New Generation (1993)', 'Amityville II: The Possession (1982)', 'Amityville Curse, The (1990)', 'Ponette (1996)', 'NeverEnding Story III, The (1994)', \"White Man's Burden (1995)\", 'Boxing Helena (1993)', 'Heavy (1995)', 'Big Squeeze, The (1996)', 'Police Story 4: Project S (Chao ji ji hua) (1993)', \"Daniel Defoe's Robinson Crusoe (1996)\", 'So Dear to My Heart (1949)', 'The Innocent (1994)', \"Blood For Dracula (Andy Warhol's Dracula) (1974)\", 'Audrey Rose (1977)', 'Blood Beach (1981)', 'Fire on the Mountain (1996)', 'Miami Rhapsody (1995)', 'Across the Sea of Time (1995)', 'Castle Freak (1995)', 'Little Odessa (1994)', 'Beyond Bedlam (1993)', 'Baby-Sitters Club, The (1995)', 'Boys Life (1995)', 'Great Day in Harlem, A (1994)', 'Frisk (1995)', 'Power 98 (1995)', 'Two or Three Things I Know About Her (1966)', 'Bloody Child, The (1996)', 'Paris Was a Woman (1995)', 'Amityville: Dollhouse (1996)', 'Nosferatu a Venezia (1986)', 'Whole Wide World, The (1996)', 'Hearts and Minds (1996)', 'Year of the Horse (1997)', 'Nil By Mouth (1997)', 'Love and Death on Long Island (1997)', 'Flower of My Secret, The (Flor de mi secreto, La) (1995)', 'Paradise Road (1997)', 'Underworld (1997)', 'Last Time I Committed Suicide, The (1997)', 'Celestial Clockwork (1994)', 'Female Perversions (1996)', 'Feast of July (1995)', 'They Made Me a Criminal (1939)', 'Last Time I Saw Paris, The (1954)', 'Innocents, The (1961)', 'Quiet Room, The (1996)', 'Calendar Girl (1993)', 'Rendezvous in Paris (Rendez-vous de Paris, Les) (1995)', 'Fille seule, La (A Single Girl) (1995)', 'Zeus and Roxanne (1997)', 'Caught (1996)', 'Inkwell, The (1994)', 'Savage Nights (Nuits fauves, Les) (1992)', 'Purple Noon (1960)', 'Marlene Dietrich: Shadow and Light (1996) ', 'Secret Agent, The (1996)', 'Old Lady Who Walked in the Sea, The (Vieille qui marchait dans la mer, La) (1991)', 'Bad Girls (1994)', 'Contempt (Mépris, Le) (1963)', 'Broken English (1996)', 'Designated Mourner, The (1997)', 'Designated Mourner, The (1997)', 'Bread and Chocolate (Pane e cioccolata) (1973)', 'Life with Mikey (1993)', 'Talking About Sex (1994)', 'Denise Calls Up (1995)', 'Country Life (1994)', 'Simple Wish, A (1997)', 'Love Affair (1994)', 'Late Bloomers (1996)', 'New York Cop (1996)', 'Delta of Venus (1994)', 'Carmen Miranda: Bananas Is My Business (1994)', 'Babyfever (1994)', 'Very Natural Thing, A (1974)', 'Walk in the Sun, A (1945)', 'Catwalk (1995)', 'Neon Bible, The (1995)', 'Homage (1995)', 'Metisse (Café au Lait) (1993)', \"Wooden Man's Bride, The (Wu Kui) (1994)\", 'August (1996)', 'Low Life, The (1994)', 'An Unforgettable Summer (1994)', 'Somebody to Love (1994)', 'Stefano Quantestorie (1993)', 'Crude Oasis, The (1995)', 'Hedd Wyn (1992)', 'Lotto Land (1995)', 'Story of Xinghua, The (1993)', 'Dingo (1992)', 'Every Other Weekend (1990)', 'Mille bolle blu (1993)', 'Crows and Sparrows (1949)', \"Lover's Knot (1996)\", 'Shadow of Angels (Schatten der Engel) (1976)', '1-900 (1994)', 'Venice/Venice (1992)', \"Ed's Next Move (1996)\", 'Boys in Venice (1996)', 'Sexual Life of the Belgians, The (1994)', 'Leopard Son, The (1996)', 'Bird of Prey (1996)', 'JLG/JLG - autoportrait de décembre (1994)', 'Faust (1994)', 'Mina Tannenbaum (1994)', 'Forbidden Christ, The (Cristo proibito, Il) (1950)', \"I Can't Sleep (J'ai pas sommeil) (1994)\", 'Stranger, The (1994)', 'Good Morning (1971)', 'Falling in Love Again (1980)', 'Hotel de Love (1996)', 'Rhyme & Reason (1997)', 'Love and Other Catastrophes (1996)', 'Hollow Reed (1996)', 'Bonheur, Le (1965)', 'Second Jungle Book: Mowgli & Baloo, The (1997)', 'Squeeze (1996)', \"Roseanna's Grave (For Roseanna) (1997)\", 'Tetsuo II: Body Hammer (1992)', 'Fall (1997)', 'Gabbeh (1996)', 'Mondo (1996)', 'Innocent Sleep, The (1995)', 'For Ever Mozart (1996)', 'Swept from the Sea (1997)', 'Hurricane Streets (1998)', 'Of Human Bondage (1934)', 'Caro Diario (Dear Diary) (1994)', 'Withnail and I (1987)', \"Boy's Life 2 (1997)\", 'When Night Is Falling (1995)', 'Gordy (1995)', 'Coldblooded (1995)', 'Turning, The (1992)', 'Joy Luck Club, The (1993)', 'Mighty, The (1998)', 'Mr. Jones (1993)', 'Ladybird Ladybird (1994)', 'Bye Bye, Love (1995)', 'Century (1993)', 'My Favorite Season (1993)', 'Golden Earrings (1947)', 'Lady of Burlesque (1943)', 'Angel on My Shoulder (1946)', 'Angel and the Badman (1947)', 'Outlaw, The (1943)', 'Love Is All There Is (1996)', 'Damsel in Distress, A (1937)', 'Sleepover (1995)', 'Here Comes Cookie (1935)', 'Thieves (Voleurs, Les) (1996)', 'Boys, Les (1997)', 'Visitors, The (Visiteurs, Les) (1993)', 'Raw Deal (1948)', 'Nightwatch (1997)', 'Reckless (1995)', 'Line King: Al Hirschfeld, The (1996)', 'Prisoner of the Mountains (Kavkazsky Plennik) (1996)', 'Nelly & Monsieur Arnaud (1995)', 'Three Lives and Only One Death (1996)', 'Sprung (1997)', 'Dream With the Fishes (1997)', 'Object of My Affection, The (1998)', 'Jefferson in Paris (1995)', 'Foreign Student (1994)', \"I Don't Want to Talk About It (De eso no se habla) (1993)\", \"Enfer, L' (1994)\", 'Aiqing wansui (1994)', 'All Over Me (1997)', 'Being Human (1993)', 'Beans of Egypt, Maine, The (1994)', 'Johns (1996)', 'Shadows (Cienie) (1988)', 'The Courtyard (1995)', 'Dream Man (1995)', 'Destiny Turns on the Radio (1995)', 'Underneath, The (1995)', 'Safe Passage (1994)', 'Yankee Zulu (1994)', 'Hostile Intentions (1994)', 'Clean Slate (Coup de Torchon) (1981)', 'Tigrero: A Film That Was Never Made (1994)', \"Eye of Vichy, The (Oeil de Vichy, L') (1993)\", 'Promise, The (Versprechen, Das) (1994)', 'To Cross the Rubicon (1991)', 'Daens (1992)', 'Man from Down Under, The (1943)', 'Careful (1992)', 'Vermont Is For Lovers (1992)', 'Vie est belle, La (Life is Rosey) (1987)', 'Quartier Mozart (1992)', 'Touki Bouki (Journey of the Hyena) (1973)', \"Wend Kuuni (God's Gift) (1982)\", 'Spirits of the Dead (Tre passi nel delirio) (1968)', \"Pharaoh's Army (1995)\", 'I, Worst of All (Yo, la peor de todas) (1990)', 'Hungarian Fairy Tale, A (1987)', 'Death in the Garden (Mort en ce jardin, La) (1956)', 'Collectionneuse, La (1967)', 'Baton Rouge (1988)', 'Liebelei (1933)', 'Woman in Question, The (1950)', 'T-Men (1947)', 'Invitation, The (Zaproszenie) (1986)', 'Symphonie pastorale, La (1946)', 'American Dream (1990)', 'Lashou shentan (1992)', 'Terror in a Texas Town (1958)', 'Salut cousin! (1996)', 'Schizopolis (1996)', 'To Have, or Not (1995)', 'Death in Brunswick (1991)', 'City of Industry (1997)', 'Guantanamera (1994)', 'Price Above Rubies, A (1998)', 'Love Serenade (1996)', 'Deceiver (1997)', 'Buddy (1997)', 'B*A*P*S (1997)', 'Truth or Consequences, N.M. (1997)', 'Intimate Relations (1996)', 'Desert Winds (1995)', 'Sixth Man, The (1997)', 'Cérémonie, La (1995)', 'Lamerica (1994)', 'Nico Icon (1995)', 'Silence of the Palace, The (Saimt el Qusur) (1994)', 'Slingshot, The (1993)', 'Land and Freedom (Tierra y libertad) (1995)', 'Á köldum klaka (Cold Fever) (1994)', 'Etz Hadomim Tafus (Under the Domin Tree) (1994)', 'Two Friends (1986) ', 'Brothers in Trouble (1995)', 'Girls Town (1996)', 'Normal Life (1996)', 'Bitter Sugar (Azucar Amargo) (1996)', 'Eighth Day, The (1996)', 'Dadetown (1995)', \"Some Mother's Son (1996)\", 'Angel Baby (1995)', 'Sudden Manhattan (1996)', 'Butcher Boy, The (1998)', 'Men With Guns (1997)', 'Hana-bi (1997)', 'Niagara, Niagara (1997)', 'Big One, The (1997)', 'Butcher Boy, The (1998)', 'Spanish Prisoner, The (1997)', 'Entertaining Angels: The Dorothy Day Story (1996)', 'Substance of Fire, The (1996)', 'Getting Away With Murder (1996)', 'Small Faces (1995)', 'Rough Magic (1995)', 'Nothing Personal (1995)', '8 Heads in a Duffel Bag (1997)', \"Brother's Kiss, A (1997)\", 'Ripe (1996)', 'Next Step, The (1995)', 'Wedding Bell Blues (1996)', 'MURDER and murder (1996)', 'Tainted (1998)', 'Kika (1993)', 'Mamma Roma (1962)', 'Sweet Nothing (1995)', \"Mat' i syn (1997)\", 'B. Monkey (1998)', 'Sliding Doors (1998)', 'You So Crazy (1994)'], ['Taxi Driver (1976)', 'Raging Bull (1980)'], ['Rumble in the Bronx (1995)', \"Jackie Chan's First Strike (1996)\"], ['Doom Generation, The (1995)', 'Horse Whisperer, The (1998)', \"Jason's Lyric (1994)\", '8 Seconds (1994)', 'Naked in New York (1994)', 'Bewegte Mann, Der (1994)', 'Butterfly Kiss (1995)'], ['Free Willy 2: The Adventure Home (1995)', 'Free Willy (1993)', 'Turbo: A Power Rangers Movie (1997)', 'Casper (1995)', 'Lassie (1994)'], ['Quiz Show (1994)', 'Philadelphia (1993)'], ['Three Colors: Red (1994)', 'Three Colors: Blue (1993)', 'Three Colors: White (1994)'], ['Brother Minister: The Assassination of Malcolm X (1994)', 'Favor, The (1994)'], ['Rock, The (1996)', 'Twister (1996)', 'Independence Day (ID4) (1996)', 'Mission: Impossible (1996)', 'Broken Arrow (1996)', 'Eraser (1996)', 'Executive Decision (1996)', 'Ransom (1996)'], ['Sleeper (1973)', 'Bananas (1971)'], ['Jean de Florette (1986)', 'Manon of the Spring (Manon des sources) (1986)'], ['Wrong Trousers, The (1993)', 'Grand Day Out, A (1992)', 'Close Shave, A (1995)'], ['Bridge on the River Kwai, The (1957)', 'African Queen, The (1951)'], ['Chasing Amy (1997)', 'Chasing Amy (1997)'], ['Kull the Conqueror (1997)', 'Kull the Conqueror (1997)'], ['Good Will Hunting (1997)', 'Apt Pupil (1998)', 'As Good As It Gets (1997)'], ['Sense and Sensibility (1995)', 'Emma (1996)'], [\"Ulee's Gold (1997)\", \"Ulee's Gold (1997)\"], ['Desperate Measures (1998)', 'Desperate Measures (1998)'], ['Deep Rising (1998)', 'Wonderland (1997)', 'Time Tracers (1995)', 'Full Speed (1996)', 'Star Kid (1997)', 'Kicked in the Head (1997)', 'Shooting Fish (1997)', 'Duoluo tianshi (1995)', 'Magic Hour, The (1998)', 'Leading Man, The (1996)', 'Tokyo Fist (1995)', 'Hugo Pool (1997)', 'Little City (1998)'], ['Dangerous Minds (1995)', 'With Honors (1994)', 'Higher Learning (1995)'], ['Bio-Dome (1996)', 'Jury Duty (1995)', 'Cutthroat Island (1995)'], ['Heavyweights (1994)', 'Rent-a-Kid (1995)', 'It Takes Two (1995)'], ['Tales From the Crypt Presents: Demon Knight (1995)', 'Tales from the Crypt Presents: Bordello of Blood (1996)'], ['Super Mario Bros. (1993)', 'Robocop 3 (1993)'], ['Blob, The (1958)', \"Stephen King's The Langoliers (1995)\", 'Village of the Damned (1995)'], ['Apartment, The (1960)', 'Some Like It Hot (1959)', \"Singin' in the Rain (1952)\"], ['Sunset Blvd. (1950)', 'All About Eve (1950)'], ['Notorious (1946)', 'Cat on a Hot Tin Roof (1958)', 'Dial M for Murder (1954)', 'Streetcar Named Desire, A (1951)'], ['To Catch a Thief (1955)', 'His Girl Friday (1940)', 'Bringing Up Baby (1938)'], ['East of Eden (1955)', 'Rebel Without a Cause (1955)'], ['Annie Hall (1977)', 'Manhattan (1979)'], ['Traveller (1997)', 'Body Parts (1991)', 'Bushwhacked (1995)', 'Killer (Bulletproof Heart) (1994)'], ['Lord of Illusions (1995)', 'In the Mouth of Madness (1995)'], ['Species (1995)', 'Johnny Mnemonic (1995)'], ['For Whom the Bell Tolls (1943)', 'Farewell to Arms, A (1932)'], ['American in Paris, An (1951)', 'Gigi (1958)'], ['Angels in the Outfield (1994)', 'Richie Rich (1994)', 'Bad Company (1995)', 'Big Green, The (1995)', 'Guilty as Sin (1993)', 'Tie That Binds, The (1995)', 'Sunset Park (1996)', 'Tom and Huck (1995)', 'Hideaway (1995)', 'Killer: A Journal of Murder (1995)', 'Race the Sun (1996)', 'New Jersey Drive (1995)', 'Fear, The (1995)'], ['Bride of Frankenstein (1935)', 'Nosferatu (Nosferatu, eine Symphonie des Grauens) (1922)'], ['Bad Moon (1996)', 'Substance of Fire, The (1996)'], ['Exit to Eden (1994)', 'Fair Game (1995)', 'Head Above Water (1996)', 'Cabin Boy (1994)', 'Clean Slate (1994)', 'Lightning Jack (1994)', 'That Darn Cat! (1997)', 'Shooter, The (1995)', 'Simple Twist of Fate, A (1994)', \"Pyromaniac's Love Story, A (1995)\", 'Original Gangstas (1996)', 'Phat Beach (1996)', 'Major Payne (1994)', 'Man of the House (1995)', 'I Love Trouble (1994)', 'Low Down Dirty Shame, A (1994)', 'Cops and Robbersons (1994)', 'Flesh and Bone (1993)', 'Run of the Country, The (1995)', 'North (1994)', \"National Lampoon's Senior Trip (1995)\", 'Pompatus of Love, The (1996)', 'Open Season (1996)', 'Search for One-eye Jimmy, The (1996)', 'Machine, The (1994)', 'Meet Wally Sparks (1997)', 'Street Fighter (1994)', 'Steal Big, Steal Little (1995)', 'S.F.W. (1994)', 'Jerky Boys, The (1994)', 'Colonel Chabert, Le (1994)', 'Girl in the Cadillac (1995)', 'Germinal (1993)', 'Chasers (1994)', 'Fausto (1993)', 'Tough and Deadly (1995)', 'Window to Paris (1994)', 'Modern Affair, A (1995)', 'Mostro, Il (1994)', 'Flirt (1995)', 'Carpool (1996)', 'Farmer & Chase (1995)', 'Grosse Fatigue (1994)', 'Santa with Muscles (1996)', 'Angela (1995)', 'Nobody Loves Me (Keiner liebt mich) (1994)'], ['Something to Talk About (1995)', 'Milk Money (1994)'], ['Three Wishes (1995)', 'Grease 2 (1982)'], ['Heaven & Earth (1993)', 'Mercury Rising (1998)', 'City of Angels (1998)', 'Prefontaine (1997)', \"'Til There Was You (1997)\", 'Grace of My Heart (1996)', 'Wedding Gift, The (1994)', 'Everest (1998)'], ['Faces (1968)', 'Wings of Courage (1995)'], ['Gay Divorcee, The (1934)', 'Top Hat (1935)'], ['Loch Ness (1995)', 'Getting Even with Dad (1994)', 'Amazing Panda Adventure, The (1995)'], ['Money Talks (1997)', 'Money Talks (1997)'], ['Vermin (1998)', 'Day the Sun Turned Cold, The (Tianguo niezi) (1994)', 'Ill Gotten Gains (1997)'], ['Just Cause (1995)', 'Malice (1993)'], ['Amateur (1994)', 'Trust (1990)'], ['Jade (1995)', 'Scarlet Letter, The (1926)'], ['Big Bang Theory, The (1994)', 'Other Voices, Other Rooms (1997)'], ['Pie in the Sky (1995)', 'Total Eclipse (1995)'], ['Journey of August King, The (1995)', 'Bhaji on the Beach (1993)'], ['Loaded (1994)', 'Show, The (1995)', 'Glass Shield, The (1994)', 'He Walked by Night (1948)'], ['Convent, The (Convento, O) (1995)', 'Losing Chase (1996)', 'Children of the Revolution (1996)', 'Temptress Moon (Feng Yue) (1996)'], ['Infinity (1996)', 'For the Moment (1994)'], ['Harlem (1993)', 'Above the Rim (1994)'], ['No Escape (1994)', 'Gate of Heavenly Peace, The (1995)', 'Shopping (1994)', 'Nemesis 2: Nebula (1995)'], ['Men of Means (1998)', 'Further Gesture, A (1996)'], ['Pather Panchali (1955)', 'World of Apu, The (Apur Sansar) (1959)', 'Aparajito (1956)'], ['Even Cowgirls Get the Blues (1993)', 'Good Man in Africa, A (1994)'], ['Hush (1998)', 'Nightwatch (1997)'], ['Sunchaser, The (1996)', 'War at Home, The (1996)']]\n"
     ]
    }
   ],
   "source": [
    "result=[]\n",
    "for l in j:\n",
    "    p=[]\n",
    "    for i in l:\n",
    "        p.append(movies.at[i,'title'])\n",
    "    result.append(p)\n",
    "print(result)        "
   ]
  },
  {
   "cell_type": "code",
   "execution_count": 16,
   "metadata": {},
   "outputs": [
    {
     "data": {
      "text/plain": [
       "3339"
      ]
     },
     "execution_count": 16,
     "metadata": {},
     "output_type": "execute_result"
    }
   ],
   "source": [
    "len(G.edges())"
   ]
  },
  {
   "cell_type": "code",
   "execution_count": 13,
   "metadata": {},
   "outputs": [
    {
     "name": "stderr",
     "output_type": "stream",
     "text": [
      "/Library/Frameworks/Python.framework/Versions/3.7/lib/python3.7/site-packages/ipykernel_launcher.py:1: FutureWarning: Method .as_matrix will be removed in a future version. Use .values instead.\n",
      "  \"\"\"Entry point for launching an IPython kernel.\n"
     ]
    },
    {
     "data": {
      "text/html": [
       "<div>\n",
       "<style scoped>\n",
       "    .dataframe tbody tr th:only-of-type {\n",
       "        vertical-align: middle;\n",
       "    }\n",
       "\n",
       "    .dataframe tbody tr th {\n",
       "        vertical-align: top;\n",
       "    }\n",
       "\n",
       "    .dataframe thead th {\n",
       "        text-align: right;\n",
       "    }\n",
       "</style>\n",
       "<table border=\"1\" class=\"dataframe\">\n",
       "  <thead>\n",
       "    <tr style=\"text-align: right;\">\n",
       "      <th></th>\n",
       "      <th>0</th>\n",
       "      <th>1</th>\n",
       "      <th>2</th>\n",
       "      <th>3</th>\n",
       "      <th>4</th>\n",
       "      <th>5</th>\n",
       "      <th>6</th>\n",
       "      <th>7</th>\n",
       "      <th>8</th>\n",
       "      <th>9</th>\n",
       "      <th>...</th>\n",
       "      <th>1672</th>\n",
       "      <th>1673</th>\n",
       "      <th>1674</th>\n",
       "      <th>1675</th>\n",
       "      <th>1676</th>\n",
       "      <th>1677</th>\n",
       "      <th>1678</th>\n",
       "      <th>1679</th>\n",
       "      <th>1680</th>\n",
       "      <th>1681</th>\n",
       "    </tr>\n",
       "  </thead>\n",
       "  <tbody>\n",
       "    <tr>\n",
       "      <th>0</th>\n",
       "      <td>0.0</td>\n",
       "      <td>0.0</td>\n",
       "      <td>0.0</td>\n",
       "      <td>0.0</td>\n",
       "      <td>0.0</td>\n",
       "      <td>0.0</td>\n",
       "      <td>0.0</td>\n",
       "      <td>0.0</td>\n",
       "      <td>0.0</td>\n",
       "      <td>0.0</td>\n",
       "      <td>...</td>\n",
       "      <td>0.0</td>\n",
       "      <td>0.0</td>\n",
       "      <td>0.0</td>\n",
       "      <td>0.0</td>\n",
       "      <td>0.0</td>\n",
       "      <td>0.0</td>\n",
       "      <td>0.0</td>\n",
       "      <td>0.0</td>\n",
       "      <td>0.0</td>\n",
       "      <td>0.0</td>\n",
       "    </tr>\n",
       "    <tr>\n",
       "      <th>1</th>\n",
       "      <td>0.0</td>\n",
       "      <td>0.0</td>\n",
       "      <td>0.0</td>\n",
       "      <td>0.0</td>\n",
       "      <td>0.0</td>\n",
       "      <td>0.0</td>\n",
       "      <td>0.0</td>\n",
       "      <td>0.0</td>\n",
       "      <td>0.0</td>\n",
       "      <td>0.0</td>\n",
       "      <td>...</td>\n",
       "      <td>0.0</td>\n",
       "      <td>0.0</td>\n",
       "      <td>0.0</td>\n",
       "      <td>0.0</td>\n",
       "      <td>0.0</td>\n",
       "      <td>0.0</td>\n",
       "      <td>0.0</td>\n",
       "      <td>0.0</td>\n",
       "      <td>0.0</td>\n",
       "      <td>0.0</td>\n",
       "    </tr>\n",
       "    <tr>\n",
       "      <th>2</th>\n",
       "      <td>0.0</td>\n",
       "      <td>0.0</td>\n",
       "      <td>0.0</td>\n",
       "      <td>0.0</td>\n",
       "      <td>0.0</td>\n",
       "      <td>0.0</td>\n",
       "      <td>0.0</td>\n",
       "      <td>0.0</td>\n",
       "      <td>0.0</td>\n",
       "      <td>0.0</td>\n",
       "      <td>...</td>\n",
       "      <td>0.0</td>\n",
       "      <td>0.0</td>\n",
       "      <td>0.0</td>\n",
       "      <td>0.0</td>\n",
       "      <td>0.0</td>\n",
       "      <td>0.0</td>\n",
       "      <td>0.0</td>\n",
       "      <td>0.0</td>\n",
       "      <td>0.0</td>\n",
       "      <td>0.0</td>\n",
       "    </tr>\n",
       "    <tr>\n",
       "      <th>3</th>\n",
       "      <td>0.0</td>\n",
       "      <td>0.0</td>\n",
       "      <td>0.0</td>\n",
       "      <td>0.0</td>\n",
       "      <td>0.0</td>\n",
       "      <td>0.0</td>\n",
       "      <td>0.0</td>\n",
       "      <td>0.0</td>\n",
       "      <td>0.0</td>\n",
       "      <td>0.0</td>\n",
       "      <td>...</td>\n",
       "      <td>0.0</td>\n",
       "      <td>0.0</td>\n",
       "      <td>0.0</td>\n",
       "      <td>0.0</td>\n",
       "      <td>0.0</td>\n",
       "      <td>0.0</td>\n",
       "      <td>0.0</td>\n",
       "      <td>0.0</td>\n",
       "      <td>0.0</td>\n",
       "      <td>0.0</td>\n",
       "    </tr>\n",
       "    <tr>\n",
       "      <th>4</th>\n",
       "      <td>0.0</td>\n",
       "      <td>0.0</td>\n",
       "      <td>0.0</td>\n",
       "      <td>0.0</td>\n",
       "      <td>0.0</td>\n",
       "      <td>0.0</td>\n",
       "      <td>0.0</td>\n",
       "      <td>0.0</td>\n",
       "      <td>0.0</td>\n",
       "      <td>0.0</td>\n",
       "      <td>...</td>\n",
       "      <td>0.0</td>\n",
       "      <td>0.0</td>\n",
       "      <td>0.0</td>\n",
       "      <td>0.0</td>\n",
       "      <td>0.0</td>\n",
       "      <td>0.0</td>\n",
       "      <td>0.0</td>\n",
       "      <td>0.0</td>\n",
       "      <td>0.0</td>\n",
       "      <td>0.0</td>\n",
       "    </tr>\n",
       "  </tbody>\n",
       "</table>\n",
       "<p>5 rows × 1682 columns</p>\n",
       "</div>"
      ],
      "text/plain": [
       "   0     1     2     3     4     5     6     7     8     9     ...   1672  \\\n",
       "0   0.0   0.0   0.0   0.0   0.0   0.0   0.0   0.0   0.0   0.0  ...    0.0   \n",
       "1   0.0   0.0   0.0   0.0   0.0   0.0   0.0   0.0   0.0   0.0  ...    0.0   \n",
       "2   0.0   0.0   0.0   0.0   0.0   0.0   0.0   0.0   0.0   0.0  ...    0.0   \n",
       "3   0.0   0.0   0.0   0.0   0.0   0.0   0.0   0.0   0.0   0.0  ...    0.0   \n",
       "4   0.0   0.0   0.0   0.0   0.0   0.0   0.0   0.0   0.0   0.0  ...    0.0   \n",
       "\n",
       "   1673  1674  1675  1676  1677  1678  1679  1680  1681  \n",
       "0   0.0   0.0   0.0   0.0   0.0   0.0   0.0   0.0   0.0  \n",
       "1   0.0   0.0   0.0   0.0   0.0   0.0   0.0   0.0   0.0  \n",
       "2   0.0   0.0   0.0   0.0   0.0   0.0   0.0   0.0   0.0  \n",
       "3   0.0   0.0   0.0   0.0   0.0   0.0   0.0   0.0   0.0  \n",
       "4   0.0   0.0   0.0   0.0   0.0   0.0   0.0   0.0   0.0  \n",
       "\n",
       "[5 rows x 1682 columns]"
      ]
     },
     "execution_count": 13,
     "metadata": {},
     "output_type": "execute_result"
    }
   ],
   "source": [
    "movie_similarity = 1 - pairwise_distances( ratings_matrix.as_matrix(), metric=\"hamming\" )\n",
    "np.fill_diagonal( movie_similarity, 0 ) #Filling diagonals with 0s for future use when sorting is done\n",
    "ratings_matrix = pd.DataFrame( movie_similarity )\n",
    "ratings_matrix.head(5)"
   ]
  },
  {
   "cell_type": "code",
   "execution_count": 22,
   "metadata": {},
   "outputs": [],
   "source": [
    "G=nx.Graph()\n",
    "for i in range(len(ratings_matrix.columns)):\n",
    "    for j in range(len(ratings_matrix.index)):\n",
    "        if(ratings_matrix.loc[i,j]>=0.30):\n",
    "            G.add_edge(i,j,weight=ratings_matrix.loc[i,j])"
   ]
  },
  {
   "cell_type": "code",
   "execution_count": 23,
   "metadata": {},
   "outputs": [
    {
     "name": "stderr",
     "output_type": "stream",
     "text": [
      "/Library/Frameworks/Python.framework/Versions/3.7/lib/python3.7/site-packages/networkx/drawing/nx_pylab.py:611: MatplotlibDeprecationWarning: isinstance(..., numbers.Number)\n",
      "  if cb.is_numlike(alpha):\n"
     ]
    },
    {
     "data": {
      "image/png": "[encoded data removed]",
      "text/plain": [
       "<Figure size 432x288 with 1 Axes>"
      ]
     },
     "metadata": {},
     "output_type": "display_data"
    }
   ],
   "source": [
    "nx.draw_circular(G)\n",
    "plt.show()"
   ]
  },
  {
   "cell_type": "code",
   "execution_count": 24,
   "metadata": {},
   "outputs": [
    {
     "data": {
      "text/plain": [
       "0.18667896472692716"
      ]
     },
     "execution_count": 24,
     "metadata": {},
     "output_type": "execute_result"
    }
   ],
   "source": [
    "nx.density(G)"
   ]
  },
  {
   "cell_type": "code",
   "execution_count": 25,
   "metadata": {},
   "outputs": [],
   "source": [
    "communities_generator = community.girvan_newman(G)\n",
    "top_level_communities = next(communities_generator)\n",
    "next_level_communities = next(communities_generator)\n",
    "j=sorted(map(sorted, next_level_communities))"
   ]
  },
  {
   "cell_type": "code",
   "execution_count": 26,
   "metadata": {},
   "outputs": [],
   "source": [
    "m_cols = ['movie_id', 'title', 'release_date', 'video_release_date', 'imdb_url']\n",
    "movies = pd.read_csv('u.item', sep='|', names=m_cols, usecols=range(5),\n",
    "                     encoding='latin-1')"
   ]
  },
  {
   "cell_type": "code",
   "execution_count": 27,
   "metadata": {},
   "outputs": [
    {
     "name": "stdout",
     "output_type": "stream",
     "text": [
      "[[\"Amityville 1992: It's About Time (1992)\", 'Amityville: A New Generation (1993)'], ['Amityville Curse, The (1990)', 'Castle Freak (1995)'], ['Police Story 4: Project S (Chao ji ji hua) (1993)', 'Fire on the Mountain (1996)', 'Substance of Fire, The (1996)', 'Power 98 (1995)', 'Bloody Child, The (1996)', 'Paris Was a Woman (1995)', 'They Made Me a Criminal (1939)', \"Jupiter's Wife (1994)\", 'Cyclo (1995)', 'Marlene Dietrich: Shadow and Light (1996) ', 'Big Bang Theory, The (1994)', 'Other Voices, Other Rooms (1997)', 'Very Natural Thing, A (1974)', 'Walk in the Sun, A (1945)', 'Homage (1995)', 'August (1996)', 'Low Life, The (1994)', 'Stefano Quantestorie (1993)', 'Crude Oasis, The (1995)', 'Hedd Wyn (1992)', 'Lotto Land (1995)', 'Every Other Weekend (1990)', 'Mille bolle blu (1993)', 'Shadow of Angels (Schatten der Engel) (1976)', 'Leopard Son, The (1996)', 'Bird of Prey (1996)', 'JLG/JLG - autoportrait de décembre (1994)', 'Good Morning (1971)', 'Coldblooded (1995)', 'Century (1993)', 'Lady of Burlesque (1943)', 'Angel on My Shoulder (1946)', 'Love Is All There Is (1996)', 'Damsel in Distress, A (1937)', 'Sleepover (1995)', 'Here Comes Cookie (1935)', 'Raw Deal (1948)', 'Gate of Heavenly Peace, The (1995)', 'Girl in the Cadillac (1995)', 'Window to Paris (1994)', 'Modern Affair, A (1995)', 'Mostro, Il (1994)', 'Farmer & Chase (1995)', 'Killer: A Journal of Murder (1995)', 'Three Lives and Only One Death (1996)', 'Mad Dog Time (1996)', 'Wings of Courage (1995)', 'Fear, The (1995)', 'Object of My Affection, The (1998)', 'Witness (1985)', \"I Don't Want to Talk About It (De eso no se habla) (1993)\", 'Aiqing wansui (1994)', 'Johns (1996)', 'Shadows (Cienie) (1988)', 'The Courtyard (1995)', 'Yankee Zulu (1994)', 'Hostile Intentions (1994)', 'Tigrero: A Film That Was Never Made (1994)', \"Eye of Vichy, The (Oeil de Vichy, L') (1993)\", 'Promise, The (Versprechen, Das) (1994)', 'To Cross the Rubicon (1991)', 'Daens (1992)', 'Man from Down Under, The (1943)', 'Careful (1992)', 'Vermont Is For Lovers (1992)', 'Vie est belle, La (Life is Rosey) (1987)', 'Quartier Mozart (1992)', 'Touki Bouki (Journey of the Hyena) (1973)', \"Wend Kuuni (God's Gift) (1982)\", \"Pharaoh's Army (1995)\", 'I, Worst of All (Yo, la peor de todas) (1990)', 'Hungarian Fairy Tale, A (1987)', 'Death in the Garden (Mort en ce jardin, La) (1956)', 'Baton Rouge (1988)', 'Liebelei (1933)', 'Woman in Question, The (1950)', 'T-Men (1947)', 'Invitation, The (Zaproszenie) (1986)', 'Symphonie pastorale, La (1946)', 'Lashou shentan (1992)', 'Terror in a Texas Town (1958)', 'Death in Brunswick (1991)', 'Shopping (1994)', 'Nemesis 2: Nebula (1995)', \"Someone Else's America (1995)\", 'Office Killer (1997)', 'Angela (1995)', 'He Walked by Night (1948)', 'Deceiver (1997)', 'Tokyo Fist (1995)', 'Reluctant Debutante, The (1958)', 'Desert Winds (1995)', 'King of New York (1990)', 'All Things Fair (1996)', 'Butterfly Kiss (1995)', 'Hush (1998)', 'Nightwatch (1997)', 'Nobody Loves Me (Keiner liebt mich) (1994)', 'Wife, The (1995)', 'Silence of the Palace, The (Saimt el Qusur) (1994)', 'Land and Freedom (Tierra y libertad) (1995)', 'Á köldum klaka (Cold Fever) (1994)', 'Etz Hadomim Tafus (Under the Domin Tree) (1994)', 'Two Friends (1986) ', 'Brothers in Trouble (1995)', 'Girls Town (1996)', 'Normal Life (1996)', 'Eighth Day, The (1996)', 'Dadetown (1995)', 'Butcher Boy, The (1998)', 'Hana-bi (1997)', 'Niagara, Niagara (1997)', 'Big One, The (1997)', 'Butcher Boy, The (1998)', 'Spanish Prisoner, The (1997)', 'Entertaining Angels: The Dorothy Day Story (1996)', 'Chairman of the Board (1998)', 'Favor, The (1994)', 'Target (1995)', 'Getting Away With Murder (1996)', 'Small Faces (1995)', 'New Age, The (1994)', 'Nothing Personal (1995)', \"Brother's Kiss, A (1997)\", 'Ripe (1996)', 'Next Step, The (1995)', 'Wedding Bell Blues (1996)', 'MURDER and murder (1996)', 'Tainted (1998)', 'Further Gesture, A (1996)', 'Mirage (1995)', 'Mamma Roma (1962)', 'Sunchaser, The (1996)', 'War at Home, The (1996)', 'Sweet Nothing (1995)', \"Mat' i syn (1997)\", 'B. Monkey (1998)', 'Sliding Doors (1998)', 'You So Crazy (1994)', 'Scream of Stone (Schrei aus Stein) (1991)'], ['Beyond Bedlam (1993)', 'Babyfever (1994)', 'Somebody to Love (1994)', 'Boys in Venice (1996)'], ['Boys Life (1995)', 'Of Human Bondage (1934)'], ['Great Day in Harlem, A (1994)'], ['In the Line of Duty 2 (1987)', 'Ballad of Narayama, The (Narayama Bushiko) (1958)', 'Harlem (1993)'], ['Time Tracers (1995)', 'Country Life (1994)', 'Carmen Miranda: Bananas Is My Business (1994)', 'Crows and Sparrows (1949)', 'Sexual Life of the Belgians, The (1994)', 'Johnny 100 Pesos (1993)', 'Machine, The (1994)', 'S.F.W. (1994)', 'Line King: Al Hirschfeld, The (1996)', 'Naked in New York (1994)', 'New Jersey Drive (1995)', 'Good Man in Africa, A (1994)', 'Scarlet Letter, The (1926)', 'Show, The (1995)', 'Sudden Manhattan (1996)'], ['Vermin (1998)', 'Pushing Hands (1992)', \"My Life and Times With Antonin Artaud (En compagnie d'Antonin Artaud) (1993)\", 'Day the Sun Turned Cold, The (Tianguo niezi) (1994)', 'American Strays (1996)', 'Innocent Sleep, The (1995)', 'Men of Means (1998)', 'Glass Shield, The (1994)', 'Condition Red (1995)', 'Collectionneuse, La (1967)', 'Salut cousin! (1996)', 'To Have, or Not (1995)'], ['Love and Death on Long Island (1997)', 'New York Cop (1996)', 'Open Season (1996)', 'Convent, The (Convento, O) (1995)', 'Spirits of the Dead (Tre passi nel delirio) (1968)', 'Rough Magic (1995)'], ['Underworld (1997)', 'An Unforgettable Summer (1994)', 'Locusts, The (1997)'], ['Pest, The (1997)', 'Jack and Sarah (1995)', 'Meet Wally Sparks (1997)'], ['Shooter, The (1995)', 'Jerky Boys, The (1994)'], ['Rent-a-Kid (1995)', \"Jason's Lyric (1994)\"], ['Crossfire (1947)', 'Innocents, The (1961)'], [\"Pyromaniac's Love Story, A (1995)\", \"National Lampoon's Senior Trip (1995)\"], ['Celestial Clockwork (1994)', 'Venice/Venice (1992)', 'Falling in Love Again (1980)', 'Saint of Fort Washington, The (1993)', 'Santa with Muscles (1996)', 'Foreign Student (1994)', 'Intimate Relations (1996)', 'Kika (1993)'], ['Last Time I Saw Paris, The (1954)', 'Joy Luck Club, The (1993)', 'Bewegte Mann, Der (1994)', 'Nelly & Monsieur Arnaud (1995)'], ['Quiet Room, The (1996)', 'My Favorite Season (1993)'], ['Rendezvous in Paris (Rendez-vous de Paris, Les) (1995)', 'Hurricane Streets (1998)'], ['Dunston Checks In (1996)', 'Secret Adventures of Tom Thumb, The (1993)'], ['Prefontaine (1997)', 'Star Kid (1997)'], ['Savage Nights (Nuits fauves, Les) (1992)', 'Substance of Fire, The (1996)'], ['King of the Hill (1993)', 'Colonel Chabert, Le (1994)'], ['Designated Mourner, The (1997)', \"Lover's Knot (1996)\", 'Truth or Consequences, N.M. (1997)'], ['Designated Mourner, The (1997)', 'Neon Bible, The (1995)'], ['Simple Wish, A (1997)', 'B*A*P*S (1997)', 'Temptress Moon (Feng Yue) (1996)'], ['Delta of Venus (1994)', 'The Deadly Cure (1996)', 'Tough and Deadly (1995)', 'Hugo Pool (1997)'], [\"Wooden Man's Bride, The (Wu Kui) (1994)\", \"I Can't Sleep (J'ai pas sommeil) (1994)\"], ['Captives (1994)', 'Paris, France (1993)'], ['Anna (1996)', 'Everest (1998)', \"Some Mother's Son (1996)\"], ['Gordy (1995)', 'Mighty, The (1998)'], ['Turning, The (1992)', 'Mr. Jones (1993)', 'Outlaw, The (1943)', 'Nightwatch (1997)'], ['Suture (1993)', 'Walking Dead, The (1995)'], ['Drunks (1995)', 'Carpool (1996)'], ['Ill Gotten Gains (1997)', 'Babysitter, The (1995)'], ['Last Summer in the Hamptons (1995)', 'Nowhere (1997)'], ['Visitors, The (Visiteurs, Les) (1993)', 'Little City (1998)'], ['Germinal (1993)', \"Enfer, L' (1994)\"], ['Beans of Egypt, Maine, The (1994)', 'Slingshot, The (1993)', 'Men With Guns (1997)'], ['Dream Man (1995)'], ['Lamerica (1994)', 'Angel Baby (1995)']]\n"
     ]
    }
   ],
   "source": [
    "result=[]\n",
    "for l in j:\n",
    "    p=[]\n",
    "    for i in l:\n",
    "        p.append(movies.at[i,'title'])\n",
    "    result.append(p)\n",
    "print(result)        "
   ]
  },
  {
   "cell_type": "code",
   "execution_count": 29,
   "metadata": {},
   "outputs": [
    {
     "data": {
      "text/plain": [
       "6679"
      ]
     },
     "execution_count": 29,
     "metadata": {},
     "output_type": "execute_result"
    }
   ],
   "source": [
    "len(G.edges())"
   ]
  },
  {
   "cell_type": "markdown",
   "metadata": {},
   "source": [
    "# For Users"
   ]
  },
  {
   "cell_type": "code",
   "execution_count": 38,
   "metadata": {},
   "outputs": [
    {
     "data": {
      "text/html": [
       "<div>\n",
       "<style scoped>\n",
       "    .dataframe tbody tr th:only-of-type {\n",
       "        vertical-align: middle;\n",
       "    }\n",
       "\n",
       "    .dataframe tbody tr th {\n",
       "        vertical-align: top;\n",
       "    }\n",
       "\n",
       "    .dataframe thead th {\n",
       "        text-align: right;\n",
       "    }\n",
       "</style>\n",
       "<table border=\"1\" class=\"dataframe\">\n",
       "  <thead>\n",
       "    <tr style=\"text-align: right;\">\n",
       "      <th>movie_id</th>\n",
       "      <th>1</th>\n",
       "      <th>2</th>\n",
       "      <th>3</th>\n",
       "      <th>4</th>\n",
       "      <th>5</th>\n",
       "      <th>6</th>\n",
       "      <th>7</th>\n",
       "      <th>8</th>\n",
       "      <th>9</th>\n",
       "      <th>10</th>\n",
       "      <th>...</th>\n",
       "      <th>1673</th>\n",
       "      <th>1674</th>\n",
       "      <th>1675</th>\n",
       "      <th>1676</th>\n",
       "      <th>1677</th>\n",
       "      <th>1678</th>\n",
       "      <th>1679</th>\n",
       "      <th>1680</th>\n",
       "      <th>1681</th>\n",
       "      <th>1682</th>\n",
       "    </tr>\n",
       "  </thead>\n",
       "  <tbody>\n",
       "    <tr>\n",
       "      <th>0</th>\n",
       "      <td>5.0</td>\n",
       "      <td>3.0</td>\n",
       "      <td>4.0</td>\n",
       "      <td>3.0</td>\n",
       "      <td>3.0</td>\n",
       "      <td>5.0</td>\n",
       "      <td>4.0</td>\n",
       "      <td>1.0</td>\n",
       "      <td>5.0</td>\n",
       "      <td>3.0</td>\n",
       "      <td>...</td>\n",
       "      <td>0.0</td>\n",
       "      <td>0.0</td>\n",
       "      <td>0.0</td>\n",
       "      <td>0.0</td>\n",
       "      <td>0.0</td>\n",
       "      <td>0.0</td>\n",
       "      <td>0.0</td>\n",
       "      <td>0.0</td>\n",
       "      <td>0.0</td>\n",
       "      <td>0.0</td>\n",
       "    </tr>\n",
       "    <tr>\n",
       "      <th>1</th>\n",
       "      <td>4.0</td>\n",
       "      <td>0.0</td>\n",
       "      <td>0.0</td>\n",
       "      <td>0.0</td>\n",
       "      <td>0.0</td>\n",
       "      <td>0.0</td>\n",
       "      <td>0.0</td>\n",
       "      <td>0.0</td>\n",
       "      <td>0.0</td>\n",
       "      <td>2.0</td>\n",
       "      <td>...</td>\n",
       "      <td>0.0</td>\n",
       "      <td>0.0</td>\n",
       "      <td>0.0</td>\n",
       "      <td>0.0</td>\n",
       "      <td>0.0</td>\n",
       "      <td>0.0</td>\n",
       "      <td>0.0</td>\n",
       "      <td>0.0</td>\n",
       "      <td>0.0</td>\n",
       "      <td>0.0</td>\n",
       "    </tr>\n",
       "    <tr>\n",
       "      <th>2</th>\n",
       "      <td>0.0</td>\n",
       "      <td>0.0</td>\n",
       "      <td>0.0</td>\n",
       "      <td>0.0</td>\n",
       "      <td>0.0</td>\n",
       "      <td>0.0</td>\n",
       "      <td>0.0</td>\n",
       "      <td>0.0</td>\n",
       "      <td>0.0</td>\n",
       "      <td>0.0</td>\n",
       "      <td>...</td>\n",
       "      <td>0.0</td>\n",
       "      <td>0.0</td>\n",
       "      <td>0.0</td>\n",
       "      <td>0.0</td>\n",
       "      <td>0.0</td>\n",
       "      <td>0.0</td>\n",
       "      <td>0.0</td>\n",
       "      <td>0.0</td>\n",
       "      <td>0.0</td>\n",
       "      <td>0.0</td>\n",
       "    </tr>\n",
       "    <tr>\n",
       "      <th>3</th>\n",
       "      <td>0.0</td>\n",
       "      <td>0.0</td>\n",
       "      <td>0.0</td>\n",
       "      <td>0.0</td>\n",
       "      <td>0.0</td>\n",
       "      <td>0.0</td>\n",
       "      <td>0.0</td>\n",
       "      <td>0.0</td>\n",
       "      <td>0.0</td>\n",
       "      <td>0.0</td>\n",
       "      <td>...</td>\n",
       "      <td>0.0</td>\n",
       "      <td>0.0</td>\n",
       "      <td>0.0</td>\n",
       "      <td>0.0</td>\n",
       "      <td>0.0</td>\n",
       "      <td>0.0</td>\n",
       "      <td>0.0</td>\n",
       "      <td>0.0</td>\n",
       "      <td>0.0</td>\n",
       "      <td>0.0</td>\n",
       "    </tr>\n",
       "    <tr>\n",
       "      <th>4</th>\n",
       "      <td>4.0</td>\n",
       "      <td>3.0</td>\n",
       "      <td>0.0</td>\n",
       "      <td>0.0</td>\n",
       "      <td>0.0</td>\n",
       "      <td>0.0</td>\n",
       "      <td>0.0</td>\n",
       "      <td>0.0</td>\n",
       "      <td>0.0</td>\n",
       "      <td>0.0</td>\n",
       "      <td>...</td>\n",
       "      <td>0.0</td>\n",
       "      <td>0.0</td>\n",
       "      <td>0.0</td>\n",
       "      <td>0.0</td>\n",
       "      <td>0.0</td>\n",
       "      <td>0.0</td>\n",
       "      <td>0.0</td>\n",
       "      <td>0.0</td>\n",
       "      <td>0.0</td>\n",
       "      <td>0.0</td>\n",
       "    </tr>\n",
       "  </tbody>\n",
       "</table>\n",
       "<p>5 rows × 1682 columns</p>\n",
       "</div>"
      ],
      "text/plain": [
       "movie_id  1     2     3     4     5     6     7     8     9     10    ...   \\\n",
       "0          5.0   3.0   4.0   3.0   3.0   5.0   4.0   1.0   5.0   3.0  ...    \n",
       "1          4.0   0.0   0.0   0.0   0.0   0.0   0.0   0.0   0.0   2.0  ...    \n",
       "2          0.0   0.0   0.0   0.0   0.0   0.0   0.0   0.0   0.0   0.0  ...    \n",
       "3          0.0   0.0   0.0   0.0   0.0   0.0   0.0   0.0   0.0   0.0  ...    \n",
       "4          4.0   3.0   0.0   0.0   0.0   0.0   0.0   0.0   0.0   0.0  ...    \n",
       "\n",
       "movie_id  1673  1674  1675  1676  1677  1678  1679  1680  1681  1682  \n",
       "0          0.0   0.0   0.0   0.0   0.0   0.0   0.0   0.0   0.0   0.0  \n",
       "1          0.0   0.0   0.0   0.0   0.0   0.0   0.0   0.0   0.0   0.0  \n",
       "2          0.0   0.0   0.0   0.0   0.0   0.0   0.0   0.0   0.0   0.0  \n",
       "3          0.0   0.0   0.0   0.0   0.0   0.0   0.0   0.0   0.0   0.0  \n",
       "4          0.0   0.0   0.0   0.0   0.0   0.0   0.0   0.0   0.0   0.0  \n",
       "\n",
       "[5 rows x 1682 columns]"
      ]
     },
     "execution_count": 38,
     "metadata": {},
     "output_type": "execute_result"
    }
   ],
   "source": [
    "ratings_matrix = ratings.pivot_table(index=['user_id'],columns=['movie_id'],values='rating').reset_index(drop=True)\n",
    "ratings_matrix.fillna( 0, inplace = True )\n",
    "ratings_matrix.head()"
   ]
  },
  {
   "cell_type": "markdown",
   "metadata": {},
   "source": [
    "### Cosine Measure"
   ]
  },
  {
   "cell_type": "code",
   "execution_count": 39,
   "metadata": {},
   "outputs": [
    {
     "name": "stderr",
     "output_type": "stream",
     "text": [
      "/usr/lib/python3/dist-packages/ipykernel_launcher.py:1: FutureWarning: Method .as_matrix will be removed in a future version. Use .values instead.\n",
      "  \"\"\"Entry point for launching an IPython kernel.\n"
     ]
    },
    {
     "data": {
      "text/html": [
       "<div>\n",
       "<style scoped>\n",
       "    .dataframe tbody tr th:only-of-type {\n",
       "        vertical-align: middle;\n",
       "    }\n",
       "\n",
       "    .dataframe tbody tr th {\n",
       "        vertical-align: top;\n",
       "    }\n",
       "\n",
       "    .dataframe thead th {\n",
       "        text-align: right;\n",
       "    }\n",
       "</style>\n",
       "<table border=\"1\" class=\"dataframe\">\n",
       "  <thead>\n",
       "    <tr style=\"text-align: right;\">\n",
       "      <th></th>\n",
       "      <th>0</th>\n",
       "      <th>1</th>\n",
       "      <th>2</th>\n",
       "      <th>3</th>\n",
       "      <th>4</th>\n",
       "      <th>5</th>\n",
       "      <th>6</th>\n",
       "      <th>7</th>\n",
       "      <th>8</th>\n",
       "      <th>9</th>\n",
       "      <th>...</th>\n",
       "      <th>933</th>\n",
       "      <th>934</th>\n",
       "      <th>935</th>\n",
       "      <th>936</th>\n",
       "      <th>937</th>\n",
       "      <th>938</th>\n",
       "      <th>939</th>\n",
       "      <th>940</th>\n",
       "      <th>941</th>\n",
       "      <th>942</th>\n",
       "    </tr>\n",
       "  </thead>\n",
       "  <tbody>\n",
       "    <tr>\n",
       "      <th>0</th>\n",
       "      <td>0.000000</td>\n",
       "      <td>0.166931</td>\n",
       "      <td>0.047460</td>\n",
       "      <td>0.064358</td>\n",
       "      <td>0.378475</td>\n",
       "      <td>0.430239</td>\n",
       "      <td>0.440367</td>\n",
       "      <td>0.319072</td>\n",
       "      <td>0.078138</td>\n",
       "      <td>0.376544</td>\n",
       "      <td>...</td>\n",
       "      <td>0.369527</td>\n",
       "      <td>0.119482</td>\n",
       "      <td>0.274876</td>\n",
       "      <td>0.189705</td>\n",
       "      <td>0.197326</td>\n",
       "      <td>0.118095</td>\n",
       "      <td>0.314072</td>\n",
       "      <td>0.148617</td>\n",
       "      <td>0.179508</td>\n",
       "      <td>0.398175</td>\n",
       "    </tr>\n",
       "    <tr>\n",
       "      <th>1</th>\n",
       "      <td>0.166931</td>\n",
       "      <td>0.000000</td>\n",
       "      <td>0.110591</td>\n",
       "      <td>0.178121</td>\n",
       "      <td>0.072979</td>\n",
       "      <td>0.245843</td>\n",
       "      <td>0.107328</td>\n",
       "      <td>0.103344</td>\n",
       "      <td>0.161048</td>\n",
       "      <td>0.159862</td>\n",
       "      <td>...</td>\n",
       "      <td>0.156986</td>\n",
       "      <td>0.307942</td>\n",
       "      <td>0.358789</td>\n",
       "      <td>0.424046</td>\n",
       "      <td>0.319889</td>\n",
       "      <td>0.228583</td>\n",
       "      <td>0.226790</td>\n",
       "      <td>0.161485</td>\n",
       "      <td>0.172268</td>\n",
       "      <td>0.105798</td>\n",
       "    </tr>\n",
       "    <tr>\n",
       "      <th>2</th>\n",
       "      <td>0.047460</td>\n",
       "      <td>0.110591</td>\n",
       "      <td>0.000000</td>\n",
       "      <td>0.344151</td>\n",
       "      <td>0.021245</td>\n",
       "      <td>0.072415</td>\n",
       "      <td>0.066137</td>\n",
       "      <td>0.083060</td>\n",
       "      <td>0.061040</td>\n",
       "      <td>0.065151</td>\n",
       "      <td>...</td>\n",
       "      <td>0.031875</td>\n",
       "      <td>0.042753</td>\n",
       "      <td>0.163829</td>\n",
       "      <td>0.069038</td>\n",
       "      <td>0.124245</td>\n",
       "      <td>0.026271</td>\n",
       "      <td>0.161890</td>\n",
       "      <td>0.101243</td>\n",
       "      <td>0.133416</td>\n",
       "      <td>0.026556</td>\n",
       "    </tr>\n",
       "    <tr>\n",
       "      <th>3</th>\n",
       "      <td>0.064358</td>\n",
       "      <td>0.178121</td>\n",
       "      <td>0.344151</td>\n",
       "      <td>0.000000</td>\n",
       "      <td>0.031804</td>\n",
       "      <td>0.068044</td>\n",
       "      <td>0.091230</td>\n",
       "      <td>0.188060</td>\n",
       "      <td>0.101284</td>\n",
       "      <td>0.060859</td>\n",
       "      <td>...</td>\n",
       "      <td>0.052107</td>\n",
       "      <td>0.036784</td>\n",
       "      <td>0.133115</td>\n",
       "      <td>0.193471</td>\n",
       "      <td>0.146058</td>\n",
       "      <td>0.030138</td>\n",
       "      <td>0.196858</td>\n",
       "      <td>0.152041</td>\n",
       "      <td>0.170086</td>\n",
       "      <td>0.058752</td>\n",
       "    </tr>\n",
       "    <tr>\n",
       "      <th>4</th>\n",
       "      <td>0.378475</td>\n",
       "      <td>0.072979</td>\n",
       "      <td>0.021245</td>\n",
       "      <td>0.031804</td>\n",
       "      <td>0.000000</td>\n",
       "      <td>0.237286</td>\n",
       "      <td>0.373600</td>\n",
       "      <td>0.248930</td>\n",
       "      <td>0.056847</td>\n",
       "      <td>0.201427</td>\n",
       "      <td>...</td>\n",
       "      <td>0.338794</td>\n",
       "      <td>0.080580</td>\n",
       "      <td>0.094924</td>\n",
       "      <td>0.079779</td>\n",
       "      <td>0.148607</td>\n",
       "      <td>0.071459</td>\n",
       "      <td>0.239955</td>\n",
       "      <td>0.139595</td>\n",
       "      <td>0.152497</td>\n",
       "      <td>0.313941</td>\n",
       "    </tr>\n",
       "  </tbody>\n",
       "</table>\n",
       "<p>5 rows × 943 columns</p>\n",
       "</div>"
      ],
      "text/plain": [
       "        0         1         2         3         4         5         6    \\\n",
       "0  0.000000  0.166931  0.047460  0.064358  0.378475  0.430239  0.440367   \n",
       "1  0.166931  0.000000  0.110591  0.178121  0.072979  0.245843  0.107328   \n",
       "2  0.047460  0.110591  0.000000  0.344151  0.021245  0.072415  0.066137   \n",
       "3  0.064358  0.178121  0.344151  0.000000  0.031804  0.068044  0.091230   \n",
       "4  0.378475  0.072979  0.021245  0.031804  0.000000  0.237286  0.373600   \n",
       "\n",
       "        7         8         9      ...          933       934       935  \\\n",
       "0  0.319072  0.078138  0.376544    ...     0.369527  0.119482  0.274876   \n",
       "1  0.103344  0.161048  0.159862    ...     0.156986  0.307942  0.358789   \n",
       "2  0.083060  0.061040  0.065151    ...     0.031875  0.042753  0.163829   \n",
       "3  0.188060  0.101284  0.060859    ...     0.052107  0.036784  0.133115   \n",
       "4  0.248930  0.056847  0.201427    ...     0.338794  0.080580  0.094924   \n",
       "\n",
       "        936       937       938       939       940       941       942  \n",
       "0  0.189705  0.197326  0.118095  0.314072  0.148617  0.179508  0.398175  \n",
       "1  0.424046  0.319889  0.228583  0.226790  0.161485  0.172268  0.105798  \n",
       "2  0.069038  0.124245  0.026271  0.161890  0.101243  0.133416  0.026556  \n",
       "3  0.193471  0.146058  0.030138  0.196858  0.152041  0.170086  0.058752  \n",
       "4  0.079779  0.148607  0.071459  0.239955  0.139595  0.152497  0.313941  \n",
       "\n",
       "[5 rows x 943 columns]"
      ]
     },
     "execution_count": 39,
     "metadata": {},
     "output_type": "execute_result"
    }
   ],
   "source": [
    "user_similarity = 1 - pairwise_distances( ratings_matrix.as_matrix(), metric=\"cosine\" )\n",
    "np.fill_diagonal( user_similarity, 0 ) #Filling diagonals with 0s for future use when sorting is done\n",
    "ratings_matrix = pd.DataFrame( user_similarity )\n",
    "ratings_matrix.head(5)"
   ]
  },
  {
   "cell_type": "code",
   "execution_count": 40,
   "metadata": {},
   "outputs": [],
   "source": [
    "G=nx.Graph()\n",
    "for i in range(len(ratings_matrix.columns)):\n",
    "    for j in range(len(ratings_matrix.index)):\n",
    "        if(ratings_matrix.loc[i,j]>=0.30):\n",
    "            G.add_edge(i,j,weight=ratings_matrix.loc[i,j])"
   ]
  },
  {
   "cell_type": "code",
   "execution_count": 41,
   "metadata": {},
   "outputs": [
    {
     "name": "stderr",
     "output_type": "stream",
     "text": [
      "/home/dell/.local/lib/python3.6/site-packages/networkx/drawing/nx_pylab.py:611: MatplotlibDeprecationWarning: isinstance(..., numbers.Number)\n",
      "  if cb.is_numlike(alpha):\n"
     ]
    },
    {
     "data": {
      "image/png": "[encoded data removed]",
      "text/plain": [
       "<Figure size 432x288 with 1 Axes>"
      ]
     },
     "metadata": {},
     "output_type": "display_data"
    },
    {
     "data": {
      "text/plain": [
       "0.16009420451586504"
      ]
     },
     "execution_count": 41,
     "metadata": {},
     "output_type": "execute_result"
    }
   ],
   "source": [
    "nx.draw_circular(G)\n",
    "plt.show()\n",
    "nx.density(G)"
   ]
  },
  {
   "cell_type": "code",
   "execution_count": 42,
   "metadata": {},
   "outputs": [
    {
     "name": "stdout",
     "output_type": "stream",
     "text": [
      "[[0, 1, 2, 3, 4, 5, 6, 7, 9, 10, 11, 12, 13, 14, 15, 16, 17, 18, 19, 20, 21, 22, 23, 24, 25, 26, 27, 28, 29, 30, 31, 32, 33, 34, 35, 36, 37, 38, 39, 40, 41, 42, 43, 44, 45, 46, 47, 48, 49, 50, 51, 52, 53, 54, 55, 56, 57, 58, 59, 60, 61, 62, 63, 64, 65, 66, 67, 68, 69, 70, 71, 72, 73, 74, 75, 76, 77, 78, 79, 80, 81, 82, 83, 84, 85, 86, 87, 88, 89, 90, 91, 92, 93, 94, 95, 96, 97, 98, 99, 100, 101, 102, 103, 104, 105, 106, 107, 108, 109, 110, 111, 112, 113, 114, 115, 116, 117, 118, 119, 120, 121, 122, 123, 124, 125, 126, 127, 128, 129, 130, 131, 132, 133, 134, 135, 136, 137, 138, 139, 140, 142, 143, 144, 145, 146, 147, 148, 149, 150, 151, 152, 153, 154, 155, 156, 157, 158, 159, 160, 161, 162, 163, 164, 165, 167, 168, 169, 170, 172, 173, 174, 175, 176, 177, 178, 179, 180, 181, 182, 183, 184, 185, 186, 187, 188, 189, 190, 191, 192, 193, 195, 196, 197, 198, 199, 200, 202, 203, 204, 205, 206, 207, 208, 209, 211, 212, 213, 214, 215, 216, 217, 219, 220, 221, 222, 223, 224, 225, 226, 227, 228, 229, 230, 231, 232, 233, 234, 235, 236, 237, 238, 239, 240, 242, 243, 244, 245, 246, 247, 248, 249, 250, 251, 252, 253, 254, 255, 256, 257, 258, 259, 260, 261, 262, 263, 264, 265, 266, 267, 268, 269, 270, 271, 272, 273, 274, 275, 276, 277, 278, 279, 280, 281, 282, 283, 284, 285, 286, 287, 288, 289, 290, 291, 292, 293, 294, 295, 296, 297, 298, 299, 300, 301, 302, 303, 304, 305, 306, 307, 308, 309, 310, 311, 312, 313, 314, 315, 316, 317, 318, 319, 320, 321, 322, 323, 324, 325, 326, 327, 328, 329, 330, 331, 332, 333, 334, 335, 336, 337, 338, 339, 340, 341, 342, 343, 344, 345, 346, 347, 348, 349, 350, 351, 352, 353, 354, 355, 356, 358, 359, 360, 361, 362, 363, 364, 365, 366, 367, 369, 370, 371, 372, 373, 374, 376, 377, 378, 379, 380, 381, 382, 383, 384, 385, 386, 387, 388, 389, 390, 391, 392, 393, 394, 395, 396, 397, 398, 399, 400, 401, 402, 403, 404, 405, 406, 407, 408, 409, 410, 411, 412, 413, 415, 416, 417, 418, 419, 420, 421, 422, 423, 424, 425, 426, 427, 428, 429, 430, 431, 432, 433, 434, 435, 436, 437, 438, 439, 440, 441, 442, 443, 444, 445, 446, 447, 448, 449, 450, 451, 452, 453, 454, 455, 456, 457, 458, 459, 460, 461, 462, 463, 464, 465, 466, 467, 468, 469, 470, 471, 472, 473, 474, 475, 476, 477, 478, 479, 480, 481, 482, 483, 484, 485, 486, 487, 488, 489, 490, 491, 492, 493, 494, 495, 496, 497, 498, 499, 500, 501, 502, 503, 504, 505, 506, 507, 508, 509, 510, 511, 512, 513, 514, 516, 517, 518, 519, 520, 521, 522, 523, 524, 525, 526, 527, 528, 529, 530, 531, 532, 533, 534, 535, 536, 537, 538, 539, 540, 541, 542, 543, 544, 545, 546, 547, 548, 549, 550, 551, 552, 553, 554, 555, 556, 557, 558, 559, 560, 561, 562, 563, 564, 565, 566, 567, 568, 569, 570, 571, 572, 573, 574, 575, 576, 577, 578, 579, 580, 581, 583, 584, 585, 586, 587, 588, 589, 590, 591, 592, 593, 594, 595, 596, 597, 598, 599, 600, 601, 602, 603, 604, 605, 606, 607, 608, 609, 610, 611, 612, 613, 614, 615, 616, 617, 618, 619, 620, 621, 622, 623, 624, 625, 626, 627, 628, 629, 630, 631, 632, 633, 634, 635, 636, 637, 638, 639, 640, 641, 642, 643, 644, 645, 646, 647, 648, 649, 650, 651, 652, 653, 654, 655, 656, 657, 658, 659, 660, 661, 662, 663, 664, 665, 666, 667, 668, 669, 670, 671, 672, 673, 674, 675, 676, 677, 678, 679, 680, 681, 682, 683, 684, 685, 686, 687, 688, 689, 690, 691, 692, 693, 694, 695, 696, 697, 698, 699, 700, 701, 702, 703, 704, 705, 706, 707, 708, 709, 710, 711, 712, 713, 714, 715, 716, 717, 718, 719, 720, 721, 722, 723, 724, 725, 726, 727, 728, 729, 730, 731, 732, 733, 734, 735, 736, 737, 738, 739, 740, 741, 742, 743, 744, 745, 746, 747, 748, 749, 750, 751, 752, 753, 754, 755, 756, 757, 758, 759, 760, 762, 763, 764, 765, 766, 767, 768, 769, 770, 771, 772, 773, 774, 775, 777, 778, 779, 780, 781, 782, 783, 784, 785, 786, 787, 788, 789, 790, 791, 792, 793, 794, 795, 796, 797, 798, 799, 800, 801, 802, 803, 804, 805, 806, 807, 808, 809, 810, 811, 812, 813, 814, 815, 816, 817, 818, 819, 820, 821, 822, 823, 824, 825, 826, 827, 828, 829, 830, 831, 832, 833, 834, 835, 836, 837, 838, 839, 840, 841, 842, 843, 844, 845, 846, 847, 848, 849, 850, 851, 852, 853, 854, 855, 856, 857, 858, 859, 860, 861, 862, 863, 864, 865, 866, 867, 868, 869, 870, 871, 872, 873, 874, 875, 876, 877, 878, 879, 880, 881, 882, 883, 884, 885, 886, 888, 889, 890, 891, 892, 893, 894, 895, 896, 897, 898, 899, 900, 901, 902, 903, 904, 905, 906, 907, 908, 909, 910, 911, 912, 913, 914, 915, 916, 917, 918, 919, 920, 921, 922, 923, 924, 925, 926, 927, 928, 929, 930, 931, 932, 933, 934, 935, 936, 937, 938, 939, 940, 941, 942], [375, 887], [776]]\n"
     ]
    }
   ],
   "source": [
    "communities_generator = community.girvan_newman(G)\n",
    "top_level_communities = next(communities_generator)\n",
    "next_level_communities = next(communities_generator)\n",
    "j=sorted(map(sorted, next_level_communities))\n",
    "print(j)"
   ]
  },
  {
   "cell_type": "code",
   "execution_count": 43,
   "metadata": {},
   "outputs": [
    {
     "name": "stdout",
     "output_type": "stream",
     "text": [
      "No of communities : 3\n"
     ]
    }
   ],
   "source": [
    "print(\"No of communities : \" + str(len(j)))"
   ]
  },
  {
   "cell_type": "markdown",
   "metadata": {},
   "source": [
    "### Hamming Measure"
   ]
  },
  {
   "cell_type": "code",
   "execution_count": 44,
   "metadata": {},
   "outputs": [
    {
     "name": "stderr",
     "output_type": "stream",
     "text": [
      "/usr/lib/python3/dist-packages/ipykernel_launcher.py:1: FutureWarning: Method .as_matrix will be removed in a future version. Use .values instead.\n",
      "  \"\"\"Entry point for launching an IPython kernel.\n"
     ]
    },
    {
     "data": {
      "text/html": [
       "<div>\n",
       "<style scoped>\n",
       "    .dataframe tbody tr th:only-of-type {\n",
       "        vertical-align: middle;\n",
       "    }\n",
       "\n",
       "    .dataframe tbody tr th {\n",
       "        vertical-align: top;\n",
       "    }\n",
       "\n",
       "    .dataframe thead th {\n",
       "        text-align: right;\n",
       "    }\n",
       "</style>\n",
       "<table border=\"1\" class=\"dataframe\">\n",
       "  <thead>\n",
       "    <tr style=\"text-align: right;\">\n",
       "      <th></th>\n",
       "      <th>0</th>\n",
       "      <th>1</th>\n",
       "      <th>2</th>\n",
       "      <th>3</th>\n",
       "      <th>4</th>\n",
       "      <th>5</th>\n",
       "      <th>6</th>\n",
       "      <th>7</th>\n",
       "      <th>8</th>\n",
       "      <th>9</th>\n",
       "      <th>...</th>\n",
       "      <th>933</th>\n",
       "      <th>934</th>\n",
       "      <th>935</th>\n",
       "      <th>936</th>\n",
       "      <th>937</th>\n",
       "      <th>938</th>\n",
       "      <th>939</th>\n",
       "      <th>940</th>\n",
       "      <th>941</th>\n",
       "      <th>942</th>\n",
       "    </tr>\n",
       "  </thead>\n",
       "  <tbody>\n",
       "    <tr>\n",
       "      <th>0</th>\n",
       "      <td>0.000000</td>\n",
       "      <td>0.712956</td>\n",
       "      <td>0.511894</td>\n",
       "      <td>0.648313</td>\n",
       "      <td>0.963447</td>\n",
       "      <td>0.956434</td>\n",
       "      <td>0.971224</td>\n",
       "      <td>0.940080</td>\n",
       "      <td>0.853019</td>\n",
       "      <td>0.958295</td>\n",
       "      <td>...</td>\n",
       "      <td>0.970165</td>\n",
       "      <td>0.741863</td>\n",
       "      <td>0.776209</td>\n",
       "      <td>0.739243</td>\n",
       "      <td>0.775965</td>\n",
       "      <td>0.741457</td>\n",
       "      <td>0.935995</td>\n",
       "      <td>0.777066</td>\n",
       "      <td>0.902295</td>\n",
       "      <td>0.967940</td>\n",
       "    </tr>\n",
       "    <tr>\n",
       "      <th>1</th>\n",
       "      <td>0.712956</td>\n",
       "      <td>0.000000</td>\n",
       "      <td>0.812463</td>\n",
       "      <td>0.857373</td>\n",
       "      <td>0.608224</td>\n",
       "      <td>0.723608</td>\n",
       "      <td>0.637631</td>\n",
       "      <td>0.666461</td>\n",
       "      <td>0.873312</td>\n",
       "      <td>0.695742</td>\n",
       "      <td>...</td>\n",
       "      <td>0.663771</td>\n",
       "      <td>0.854503</td>\n",
       "      <td>0.945431</td>\n",
       "      <td>0.939334</td>\n",
       "      <td>0.883467</td>\n",
       "      <td>0.829272</td>\n",
       "      <td>0.838105</td>\n",
       "      <td>0.852614</td>\n",
       "      <td>0.772943</td>\n",
       "      <td>0.643165</td>\n",
       "    </tr>\n",
       "    <tr>\n",
       "      <th>2</th>\n",
       "      <td>0.511894</td>\n",
       "      <td>0.812463</td>\n",
       "      <td>0.000000</td>\n",
       "      <td>0.921039</td>\n",
       "      <td>0.422883</td>\n",
       "      <td>0.522765</td>\n",
       "      <td>0.476911</td>\n",
       "      <td>0.540055</td>\n",
       "      <td>0.701166</td>\n",
       "      <td>0.512696</td>\n",
       "      <td>...</td>\n",
       "      <td>0.487011</td>\n",
       "      <td>0.598616</td>\n",
       "      <td>0.733225</td>\n",
       "      <td>0.693133</td>\n",
       "      <td>0.676980</td>\n",
       "      <td>0.549755</td>\n",
       "      <td>0.716902</td>\n",
       "      <td>0.657308</td>\n",
       "      <td>0.688323</td>\n",
       "      <td>0.446680</td>\n",
       "    </tr>\n",
       "    <tr>\n",
       "      <th>3</th>\n",
       "      <td>0.648313</td>\n",
       "      <td>0.857373</td>\n",
       "      <td>0.921039</td>\n",
       "      <td>0.000000</td>\n",
       "      <td>0.578282</td>\n",
       "      <td>0.635800</td>\n",
       "      <td>0.605172</td>\n",
       "      <td>0.686609</td>\n",
       "      <td>0.800153</td>\n",
       "      <td>0.625144</td>\n",
       "      <td>...</td>\n",
       "      <td>0.612936</td>\n",
       "      <td>0.713709</td>\n",
       "      <td>0.812631</td>\n",
       "      <td>0.779417</td>\n",
       "      <td>0.790598</td>\n",
       "      <td>0.675380</td>\n",
       "      <td>0.810526</td>\n",
       "      <td>0.787181</td>\n",
       "      <td>0.771994</td>\n",
       "      <td>0.597273</td>\n",
       "    </tr>\n",
       "    <tr>\n",
       "      <th>4</th>\n",
       "      <td>0.963447</td>\n",
       "      <td>0.608224</td>\n",
       "      <td>0.422883</td>\n",
       "      <td>0.578282</td>\n",
       "      <td>0.000000</td>\n",
       "      <td>0.900393</td>\n",
       "      <td>0.954813</td>\n",
       "      <td>0.933303</td>\n",
       "      <td>0.780748</td>\n",
       "      <td>0.905269</td>\n",
       "      <td>...</td>\n",
       "      <td>0.955924</td>\n",
       "      <td>0.690698</td>\n",
       "      <td>0.684491</td>\n",
       "      <td>0.635480</td>\n",
       "      <td>0.725193</td>\n",
       "      <td>0.689659</td>\n",
       "      <td>0.879884</td>\n",
       "      <td>0.728923</td>\n",
       "      <td>0.861745</td>\n",
       "      <td>0.959772</td>\n",
       "    </tr>\n",
       "  </tbody>\n",
       "</table>\n",
       "<p>5 rows × 943 columns</p>\n",
       "</div>"
      ],
      "text/plain": [
       "        0         1         2         3         4         5         6    \\\n",
       "0  0.000000  0.712956  0.511894  0.648313  0.963447  0.956434  0.971224   \n",
       "1  0.712956  0.000000  0.812463  0.857373  0.608224  0.723608  0.637631   \n",
       "2  0.511894  0.812463  0.000000  0.921039  0.422883  0.522765  0.476911   \n",
       "3  0.648313  0.857373  0.921039  0.000000  0.578282  0.635800  0.605172   \n",
       "4  0.963447  0.608224  0.422883  0.578282  0.000000  0.900393  0.954813   \n",
       "\n",
       "        7         8         9      ...          933       934       935  \\\n",
       "0  0.940080  0.853019  0.958295    ...     0.970165  0.741863  0.776209   \n",
       "1  0.666461  0.873312  0.695742    ...     0.663771  0.854503  0.945431   \n",
       "2  0.540055  0.701166  0.512696    ...     0.487011  0.598616  0.733225   \n",
       "3  0.686609  0.800153  0.625144    ...     0.612936  0.713709  0.812631   \n",
       "4  0.933303  0.780748  0.905269    ...     0.955924  0.690698  0.684491   \n",
       "\n",
       "        936       937       938       939       940       941       942  \n",
       "0  0.739243  0.775965  0.741457  0.935995  0.777066  0.902295  0.967940  \n",
       "1  0.939334  0.883467  0.829272  0.838105  0.852614  0.772943  0.643165  \n",
       "2  0.693133  0.676980  0.549755  0.716902  0.657308  0.688323  0.446680  \n",
       "3  0.779417  0.790598  0.675380  0.810526  0.787181  0.771994  0.597273  \n",
       "4  0.635480  0.725193  0.689659  0.879884  0.728923  0.861745  0.959772  \n",
       "\n",
       "[5 rows x 943 columns]"
      ]
     },
     "execution_count": 44,
     "metadata": {},
     "output_type": "execute_result"
    }
   ],
   "source": [
    "user_similarity = 1 - pairwise_distances( ratings_matrix.as_matrix(), metric=\"cosine\" )\n",
    "np.fill_diagonal( user_similarity, 0 ) #Filling diagonals with 0s for future use when sorting is done\n",
    "ratings_matrix = pd.DataFrame( user_similarity )\n",
    "ratings_matrix.head(5)"
   ]
  },
  {
   "cell_type": "code",
   "execution_count": 45,
   "metadata": {},
   "outputs": [],
   "source": [
    "G=nx.Graph()\n",
    "for i in range(len(ratings_matrix.columns)):\n",
    "    for j in range(len(ratings_matrix.index)):\n",
    "        if(ratings_matrix.loc[i,j]>=0.95):\n",
    "            G.add_edge(i,j,weight=ratings_matrix.loc[i,j])"
   ]
  },
  {
   "cell_type": "code",
   "execution_count": 46,
   "metadata": {},
   "outputs": [
    {
     "name": "stderr",
     "output_type": "stream",
     "text": [
      "/home/dell/.local/lib/python3.6/site-packages/networkx/drawing/nx_pylab.py:611: MatplotlibDeprecationWarning: isinstance(..., numbers.Number)\n",
      "  if cb.is_numlike(alpha):\n"
     ]
    },
    {
     "data": {
      "image/png": "[encoded data removed]",
      "text/plain": [
       "<Figure size 432x288 with 1 Axes>"
      ]
     },
     "metadata": {},
     "output_type": "display_data"
    },
    {
     "data": {
      "text/plain": [
       "0.12501864791219497"
      ]
     },
     "execution_count": 46,
     "metadata": {},
     "output_type": "execute_result"
    }
   ],
   "source": [
    "nx.draw_circular(G)\n",
    "plt.show()\n",
    "nx.density(G)"
   ]
  },
  {
   "cell_type": "code",
   "execution_count": 47,
   "metadata": {},
   "outputs": [
    {
     "name": "stdout",
     "output_type": "stream",
     "text": [
      "[[0, 4, 5, 6, 7, 9, 10, 11, 12, 13, 15, 17, 19, 20, 21, 22, 23, 24, 27, 29, 36, 37, 40, 41, 42, 43, 47, 48, 50, 51, 52, 54, 55, 57, 58, 59, 61, 63, 64, 68, 69, 70, 71, 72, 75, 76, 79, 81, 82, 83, 84, 86, 88, 89, 90, 91, 93, 94, 95, 96, 98, 101, 102, 105, 108, 113, 114, 116, 117, 118, 120, 121, 122, 123, 124, 127, 129, 134, 136, 137, 143, 144, 147, 150, 151, 153, 155, 157, 159, 160, 161, 164, 166, 168, 173, 174, 176, 177, 179, 181, 182, 183, 184, 185, 186, 187, 188, 192, 193, 194, 196, 197, 199, 200, 206, 209, 212, 213, 214, 215, 216, 217, 220, 221, 222, 223, 225, 229, 231, 232, 233, 234, 235, 236, 238, 242, 243, 245, 246, 247, 248, 249, 250, 252, 253, 254, 255, 258, 261, 262, 263, 266, 267, 268, 269, 270, 271, 274, 275, 278, 279, 282, 284, 285, 286, 287, 289, 290, 291, 292, 294, 295, 296, 297, 298, 300, 302, 304, 306, 307, 310, 311, 312, 313, 314, 315, 317, 319, 320, 321, 322, 324, 325, 326, 327, 328, 329, 331, 332, 333, 335, 337, 338, 339, 341, 342, 343, 344, 345, 346, 349, 351, 353, 359, 360, 362, 369, 370, 372, 373, 377, 378, 379, 380, 381, 382, 384, 386, 388, 390, 391, 392, 393, 394, 396, 397, 398, 400, 401, 404, 405, 406, 408, 410, 411, 415, 416, 418, 420, 421, 424, 425, 428, 429, 432, 434, 435, 436, 441, 444, 446, 449, 451, 452, 453, 454, 455, 456, 457, 464, 465, 467, 468, 471, 473, 477, 478, 479, 480, 482, 483, 486, 487, 491, 492, 493, 494, 495, 496, 497, 498, 499, 502, 503, 504, 505, 507, 511, 512, 513, 520, 521, 522, 523, 526, 527, 529, 531, 532, 534, 535, 536, 537, 538, 540, 541, 542, 544, 545, 547, 550, 552, 553, 554, 555, 558, 559, 560, 561, 565, 566, 567, 572, 574, 576, 578, 582, 585, 587, 590, 591, 592, 599, 600, 602, 604, 605, 606, 607, 609, 612, 614, 617, 618, 619, 620, 621, 622, 624, 626, 628, 629, 631, 632, 637, 638, 639, 641, 642, 644, 646, 647, 649, 652, 653, 654, 657, 658, 659, 660, 662, 663, 664, 665, 666, 668, 669, 670, 675, 678, 679, 681, 683, 685, 689, 690, 692, 693, 697, 699, 703, 704, 706, 708, 709, 710, 711, 714, 715, 718, 720, 722, 726, 730, 733, 736, 737, 738, 740, 744, 745, 746, 747, 748, 750, 752, 755, 756, 757, 759, 762, 763, 765, 766, 770, 772, 773, 775, 776, 777, 779, 780, 784, 785, 787, 789, 794, 795, 797, 803, 804, 805, 806, 814, 820, 822, 825, 829, 830, 832, 834, 835, 837, 839, 842, 843, 845, 846, 847, 849, 850, 853, 861, 863, 866, 867, 869, 870, 874, 876, 877, 879, 880, 881, 882, 884, 885, 886, 888, 889, 891, 892, 895, 896, 898, 900, 901, 902, 906, 907, 909, 910, 911, 912, 915, 917, 918, 920, 921, 923, 926, 928, 929, 931, 932, 933, 939, 941, 942], [1, 14, 16, 25, 26, 31, 44, 45, 53, 56, 62, 65, 66, 67, 73, 74, 78, 80, 100, 103, 107, 112, 119, 130, 140, 149, 156, 158, 163, 167, 175, 180, 189, 191, 198, 202, 226, 230, 237, 244, 256, 264, 273, 276, 288, 293, 323, 347, 356, 358, 364, 385, 387, 389, 395, 402, 412, 422, 423, 431, 437, 438, 440, 443, 458, 459, 462, 466, 469, 481, 485, 489, 500, 516, 517, 524, 525, 533, 539, 548, 549, 551, 568, 575, 579, 581, 589, 594, 595, 596, 601, 611, 613, 623, 633, 636, 643, 648, 656, 673, 676, 677, 688, 696, 698, 700, 702, 705, 707, 713, 716, 717, 721, 724, 727, 729, 732, 734, 741, 742, 758, 760, 767, 768, 769, 778, 788, 790, 791, 792, 799, 816, 824, 833, 836, 838, 851, 868, 871, 878, 890, 893, 894, 904, 905, 916, 922, 930, 934, 935, 936, 937, 938, 940], [2, 3, 28, 32, 34, 38, 39, 46, 60, 85, 99, 104, 106, 110, 111, 115, 125, 128, 132, 133, 139, 142, 145, 146, 148, 154, 165, 169, 170, 172, 178, 190, 204, 205, 219, 228, 239, 240, 257, 259, 272, 280, 281, 283, 316, 318, 334, 350, 352, 355, 361, 363, 383, 399, 403, 407, 409, 413, 417, 426, 427, 430, 442, 445, 447, 450, 463, 484, 488, 501, 506, 508, 509, 510, 514, 528, 530, 543, 546, 556, 569, 573, 586, 588, 597, 610, 615, 625, 627, 630, 645, 651, 655, 667, 672, 682, 686, 694, 712, 719, 723, 728, 731, 739, 749, 751, 754, 771, 774, 781, 782, 783, 786, 800, 807, 808, 809, 810, 811, 815, 817, 819, 826, 831, 840, 841, 844, 852, 855, 862, 872, 897, 914, 919, 925], [135, 580, 793]]\n"
     ]
    }
   ],
   "source": [
    "communities_generator = community.girvan_newman(G)\n",
    "top_level_communities = next(communities_generator)\n",
    "next_level_communities = next(communities_generator)\n",
    "j=sorted(map(sorted, next_level_communities))\n",
    "print(j)"
   ]
  },
  {
   "cell_type": "code",
   "execution_count": 48,
   "metadata": {},
   "outputs": [
    {
     "name": "stdout",
     "output_type": "stream",
     "text": [
      "No of communities : 4\n"
     ]
    }
   ],
   "source": [
    "print(\"No of communities : \" + str(len(j)))"
   ]
  },
  {
   "cell_type": "code",
   "execution_count": 49,
   "metadata": {},
   "outputs": [
    {
     "name": "stdout",
     "output_type": "stream",
     "text": [
      "[frozenset({1, 4, 7, 14, 16, 19, 21, 23, 25, 26, 27, 29, 31, 36, 37, 41, 42, 43, 44, 48, 51, 52, 53, 54, 55, 56, 61, 62, 65, 67, 68, 69, 73, 74, 78, 80, 82, 83, 86, 88, 91, 98, 100, 101, 102, 103, 107, 108, 112, 116, 118, 119, 120, 123, 127, 129, 130, 134, 136, 140, 143, 144, 149, 151, 156, 157, 158, 161, 163, 164, 167, 168, 173, 175, 177, 179, 180, 181, 182, 184, 185, 187, 189, 191, 192, 194, 196, 198, 199, 202, 215, 216, 220, 221, 222, 223, 226, 229, 230, 237, 243, 244, 245, 246, 247, 248, 249, 250, 252, 253, 255, 256, 258, 261, 264, 266, 267, 269, 273, 274, 275, 276, 278, 279, 282, 284, 285, 286, 289, 290, 293, 294, 295, 296, 300, 302, 313, 319, 322, 323, 327, 328, 329, 331, 332, 335, 339, 343, 344, 345, 346, 347, 356, 358, 362, 364, 373, 377, 385, 387, 389, 392, 393, 394, 395, 398, 401, 402, 410, 412, 415, 416, 421, 422, 423, 424, 429, 431, 434, 435, 437, 438, 440, 441, 443, 444, 446, 452, 454, 456, 458, 459, 462, 465, 466, 469, 471, 477, 478, 482, 483, 485, 486, 489, 492, 493, 494, 496, 499, 500, 503, 504, 511, 512, 516, 517, 520, 524, 525, 531, 532, 533, 539, 540, 544, 547, 548, 549, 550, 551, 553, 554, 559, 568, 575, 576, 579, 581, 585, 587, 589, 591, 592, 594, 596, 599, 601, 602, 604, 605, 611, 613, 617, 618, 619, 620, 621, 623, 626, 628, 629, 631, 632, 633, 636, 637, 639, 641, 643, 646, 647, 648, 652, 653, 656, 659, 662, 664, 670, 673, 675, 676, 677, 679, 681, 683, 688, 689, 696, 698, 700, 702, 704, 705, 707, 708, 711, 713, 714, 716, 717, 718, 720, 721, 722, 726, 727, 729, 732, 734, 737, 740, 741, 742, 745, 748, 750, 755, 756, 758, 759, 760, 763, 767, 768, 769, 770, 777, 778, 785, 787, 788, 789, 791, 792, 794, 795, 797, 799, 803, 804, 806, 816, 820, 824, 825, 829, 830, 833, 836, 837, 838, 843, 846, 849, 850, 851, 853, 863, 868, 870, 871, 876, 878, 879, 880, 881, 884, 885, 886, 890, 892, 893, 894, 895, 896, 898, 900, 901, 904, 905, 906, 909, 916, 918, 920, 921, 922, 926, 929, 930, 932, 934, 935, 936, 937, 938, 939, 940, 942}), frozenset({0, 513, 5, 6, 9, 10, 11, 12, 13, 523, 15, 526, 17, 527, 529, 22, 534, 24, 535, 536, 537, 538, 541, 542, 40, 552, 558, 47, 560, 561, 565, 566, 567, 57, 58, 59, 572, 574, 63, 64, 521, 578, 522, 70, 71, 72, 582, 75, 76, 590, 79, 81, 84, 600, 89, 90, 93, 94, 95, 96, 607, 609, 606, 612, 614, 105, 622, 624, 113, 114, 117, 121, 122, 124, 638, 642, 644, 649, 137, 654, 657, 658, 147, 660, 150, 663, 665, 153, 666, 668, 669, 155, 159, 160, 678, 166, 685, 174, 176, 690, 692, 693, 183, 697, 186, 188, 703, 193, 706, 197, 710, 709, 200, 715, 206, 209, 212, 213, 214, 217, 730, 733, 736, 225, 738, 231, 232, 233, 234, 235, 744, 746, 747, 236, 238, 752, 242, 757, 762, 765, 766, 772, 773, 262, 263, 775, 776, 779, 268, 780, 270, 271, 784, 287, 291, 292, 805, 297, 298, 814, 304, 306, 307, 310, 822, 312, 311, 314, 315, 317, 832, 320, 834, 321, 324, 325, 326, 839, 842, 333, 845, 847, 337, 338, 341, 342, 861, 349, 353, 866, 867, 869, 359, 360, 874, 877, 369, 370, 882, 372, 888, 889, 378, 379, 380, 891, 381, 382, 384, 386, 388, 390, 902, 907, 396, 397, 910, 911, 400, 912, 915, 404, 405, 406, 917, 408, 411, 923, 928, 418, 931, 420, 933, 425, 428, 941, 436, 449, 451, 453, 455, 457, 464, 467, 468, 473, 479, 480, 487, 491, 495, 497, 498, 502, 505, 507}), frozenset({514, 2, 528, 530, 543, 32, 34, 546, 38, 39, 45, 46, 569, 60, 573, 586, 588, 595, 85, 597, 610, 99, 615, 104, 106, 110, 111, 625, 627, 630, 125, 128, 132, 645, 133, 139, 651, 142, 655, 145, 146, 148, 154, 672, 165, 169, 170, 172, 686, 178, 694, 190, 712, 204, 205, 719, 723, 724, 728, 219, 731, 739, 228, 749, 239, 240, 751, 754, 257, 771, 259, 774, 781, 782, 783, 272, 786, 790, 280, 281, 283, 800, 807, 808, 809, 810, 811, 815, 817, 819, 826, 316, 318, 831, 840, 841, 844, 334, 852, 855, 350, 862, 352, 355, 872, 361, 363, 383, 897, 399, 914, 403, 407, 919, 409, 413, 925, 417, 426, 427, 430, 442, 445, 447, 450, 481, 484, 488, 501, 506, 509, 510}), frozenset({3, 391, 682, 556, 28, 463, 432, 115, 667, 508}), frozenset({50, 699, 351}), frozenset({545, 20, 254}), frozenset({793, 580, 135}), frozenset({288, 66}), frozenset({835, 555})]\n"
     ]
    }
   ],
   "source": [
    "j=community.greedy_modularity_communities(G)\n",
    "print(j)"
   ]
  },
  {
   "cell_type": "code",
   "execution_count": 50,
   "metadata": {},
   "outputs": [
    {
     "name": "stdout",
     "output_type": "stream",
     "text": [
      "No of communities : 9\n"
     ]
    }
   ],
   "source": [
    "print(\"No of communities : \" + str(len(j)))"
   ]
  },
  {
   "cell_type": "markdown",
   "metadata": {},
   "source": [
    "### Pearson's Correlation Coefficient"
   ]
  },
  {
   "cell_type": "code",
   "execution_count": 51,
   "metadata": {},
   "outputs": [
    {
     "name": "stderr",
     "output_type": "stream",
     "text": [
      "/usr/lib/python3/dist-packages/ipykernel_launcher.py:1: FutureWarning: Method .as_matrix will be removed in a future version. Use .values instead.\n",
      "  \"\"\"Entry point for launching an IPython kernel.\n"
     ]
    },
    {
     "data": {
      "text/html": [
       "<div>\n",
       "<style scoped>\n",
       "    .dataframe tbody tr th:only-of-type {\n",
       "        vertical-align: middle;\n",
       "    }\n",
       "\n",
       "    .dataframe tbody tr th {\n",
       "        vertical-align: top;\n",
       "    }\n",
       "\n",
       "    .dataframe thead th {\n",
       "        text-align: right;\n",
       "    }\n",
       "</style>\n",
       "<table border=\"1\" class=\"dataframe\">\n",
       "  <thead>\n",
       "    <tr style=\"text-align: right;\">\n",
       "      <th></th>\n",
       "      <th>0</th>\n",
       "      <th>1</th>\n",
       "      <th>2</th>\n",
       "      <th>3</th>\n",
       "      <th>4</th>\n",
       "      <th>5</th>\n",
       "      <th>6</th>\n",
       "      <th>7</th>\n",
       "      <th>8</th>\n",
       "      <th>9</th>\n",
       "      <th>...</th>\n",
       "      <th>933</th>\n",
       "      <th>934</th>\n",
       "      <th>935</th>\n",
       "      <th>936</th>\n",
       "      <th>937</th>\n",
       "      <th>938</th>\n",
       "      <th>939</th>\n",
       "      <th>940</th>\n",
       "      <th>941</th>\n",
       "      <th>942</th>\n",
       "    </tr>\n",
       "  </thead>\n",
       "  <tbody>\n",
       "    <tr>\n",
       "      <th>0</th>\n",
       "      <td>0.000000</td>\n",
       "      <td>-0.422394</td>\n",
       "      <td>-0.827935</td>\n",
       "      <td>-0.683412</td>\n",
       "      <td>0.968161</td>\n",
       "      <td>0.952747</td>\n",
       "      <td>0.962546</td>\n",
       "      <td>0.955337</td>\n",
       "      <td>0.725210</td>\n",
       "      <td>0.952417</td>\n",
       "      <td>...</td>\n",
       "      <td>0.961466</td>\n",
       "      <td>0.352578</td>\n",
       "      <td>0.067156</td>\n",
       "      <td>0.023877</td>\n",
       "      <td>0.277354</td>\n",
       "      <td>0.450409</td>\n",
       "      <td>0.889650</td>\n",
       "      <td>0.347263</td>\n",
       "      <td>0.891442</td>\n",
       "      <td>0.967829</td>\n",
       "    </tr>\n",
       "    <tr>\n",
       "      <th>1</th>\n",
       "      <td>-0.422394</td>\n",
       "      <td>0.000000</td>\n",
       "      <td>0.659221</td>\n",
       "      <td>0.735536</td>\n",
       "      <td>-0.477174</td>\n",
       "      <td>-0.436865</td>\n",
       "      <td>-0.513998</td>\n",
       "      <td>-0.442527</td>\n",
       "      <td>0.141602</td>\n",
       "      <td>-0.469581</td>\n",
       "      <td>...</td>\n",
       "      <td>-0.503005</td>\n",
       "      <td>0.464919</td>\n",
       "      <td>0.734077</td>\n",
       "      <td>0.764713</td>\n",
       "      <td>0.529626</td>\n",
       "      <td>0.381222</td>\n",
       "      <td>-0.263543</td>\n",
       "      <td>0.493526</td>\n",
       "      <td>-0.397895</td>\n",
       "      <td>-0.440830</td>\n",
       "    </tr>\n",
       "    <tr>\n",
       "      <th>2</th>\n",
       "      <td>-0.827935</td>\n",
       "      <td>0.659221</td>\n",
       "      <td>0.000000</td>\n",
       "      <td>0.907543</td>\n",
       "      <td>-0.846395</td>\n",
       "      <td>-0.813516</td>\n",
       "      <td>-0.839049</td>\n",
       "      <td>-0.789678</td>\n",
       "      <td>-0.400892</td>\n",
       "      <td>-0.817567</td>\n",
       "      <td>...</td>\n",
       "      <td>-0.834570</td>\n",
       "      <td>-0.151684</td>\n",
       "      <td>0.183869</td>\n",
       "      <td>0.227483</td>\n",
       "      <td>-0.049600</td>\n",
       "      <td>-0.267745</td>\n",
       "      <td>-0.624670</td>\n",
       "      <td>-0.105081</td>\n",
       "      <td>-0.663330</td>\n",
       "      <td>-0.837331</td>\n",
       "    </tr>\n",
       "    <tr>\n",
       "      <th>3</th>\n",
       "      <td>-0.683412</td>\n",
       "      <td>0.735536</td>\n",
       "      <td>0.907543</td>\n",
       "      <td>0.000000</td>\n",
       "      <td>-0.701947</td>\n",
       "      <td>-0.696311</td>\n",
       "      <td>-0.718233</td>\n",
       "      <td>-0.634564</td>\n",
       "      <td>-0.212210</td>\n",
       "      <td>-0.705637</td>\n",
       "      <td>...</td>\n",
       "      <td>-0.714714</td>\n",
       "      <td>0.072402</td>\n",
       "      <td>0.362182</td>\n",
       "      <td>0.370270</td>\n",
       "      <td>0.174874</td>\n",
       "      <td>-0.043156</td>\n",
       "      <td>-0.473945</td>\n",
       "      <td>0.125415</td>\n",
       "      <td>-0.534245</td>\n",
       "      <td>-0.684784</td>\n",
       "    </tr>\n",
       "    <tr>\n",
       "      <th>4</th>\n",
       "      <td>0.968161</td>\n",
       "      <td>-0.477174</td>\n",
       "      <td>-0.846395</td>\n",
       "      <td>-0.701947</td>\n",
       "      <td>0.000000</td>\n",
       "      <td>0.940820</td>\n",
       "      <td>0.965552</td>\n",
       "      <td>0.964758</td>\n",
       "      <td>0.681348</td>\n",
       "      <td>0.943493</td>\n",
       "      <td>...</td>\n",
       "      <td>0.962624</td>\n",
       "      <td>0.333720</td>\n",
       "      <td>0.018708</td>\n",
       "      <td>-0.043440</td>\n",
       "      <td>0.257523</td>\n",
       "      <td>0.431526</td>\n",
       "      <td>0.874249</td>\n",
       "      <td>0.325211</td>\n",
       "      <td>0.888137</td>\n",
       "      <td>0.974783</td>\n",
       "    </tr>\n",
       "  </tbody>\n",
       "</table>\n",
       "<p>5 rows × 943 columns</p>\n",
       "</div>"
      ],
      "text/plain": [
       "        0         1         2         3         4         5         6    \\\n",
       "0  0.000000 -0.422394 -0.827935 -0.683412  0.968161  0.952747  0.962546   \n",
       "1 -0.422394  0.000000  0.659221  0.735536 -0.477174 -0.436865 -0.513998   \n",
       "2 -0.827935  0.659221  0.000000  0.907543 -0.846395 -0.813516 -0.839049   \n",
       "3 -0.683412  0.735536  0.907543  0.000000 -0.701947 -0.696311 -0.718233   \n",
       "4  0.968161 -0.477174 -0.846395 -0.701947  0.000000  0.940820  0.965552   \n",
       "\n",
       "        7         8         9      ...          933       934       935  \\\n",
       "0  0.955337  0.725210  0.952417    ...     0.961466  0.352578  0.067156   \n",
       "1 -0.442527  0.141602 -0.469581    ...    -0.503005  0.464919  0.734077   \n",
       "2 -0.789678 -0.400892 -0.817567    ...    -0.834570 -0.151684  0.183869   \n",
       "3 -0.634564 -0.212210 -0.705637    ...    -0.714714  0.072402  0.362182   \n",
       "4  0.964758  0.681348  0.943493    ...     0.962624  0.333720  0.018708   \n",
       "\n",
       "        936       937       938       939       940       941       942  \n",
       "0  0.023877  0.277354  0.450409  0.889650  0.347263  0.891442  0.967829  \n",
       "1  0.764713  0.529626  0.381222 -0.263543  0.493526 -0.397895 -0.440830  \n",
       "2  0.227483 -0.049600 -0.267745 -0.624670 -0.105081 -0.663330 -0.837331  \n",
       "3  0.370270  0.174874 -0.043156 -0.473945  0.125415 -0.534245 -0.684784  \n",
       "4 -0.043440  0.257523  0.431526  0.874249  0.325211  0.888137  0.974783  \n",
       "\n",
       "[5 rows x 943 columns]"
      ]
     },
     "execution_count": 51,
     "metadata": {},
     "output_type": "execute_result"
    }
   ],
   "source": [
    "user_similarity = 1 - pairwise_distances( ratings_matrix.as_matrix(), metric=\"correlation\" )\n",
    "np.fill_diagonal( user_similarity, 0 ) #Filling diagonals with 0s for future use when sorting is done\n",
    "ratings_matrix = pd.DataFrame( user_similarity )\n",
    "ratings_matrix.head(5)"
   ]
  },
  {
   "cell_type": "code",
   "execution_count": 52,
   "metadata": {},
   "outputs": [],
   "source": [
    "G=nx.Graph()\n",
    "for i in range(len(ratings_matrix.columns)):\n",
    "    for j in range(len(ratings_matrix.index)):\n",
    "        if(ratings_matrix.loc[i,j]>=0.50):\n",
    "            G.add_edge(i,j,weight=ratings_matrix.loc[i,j])"
   ]
  },
  {
   "cell_type": "code",
   "execution_count": null,
   "metadata": {},
   "outputs": [
    {
     "name": "stderr",
     "output_type": "stream",
     "text": [
      "/home/dell/.local/lib/python3.6/site-packages/networkx/drawing/nx_pylab.py:611: MatplotlibDeprecationWarning: isinstance(..., numbers.Number)\n",
      "  if cb.is_numlike(alpha):\n"
     ]
    },
    {
     "data": {
      "image/png": "[encoded data removed]",
      "text/plain": [
       "<Figure size 432x288 with 1 Axes>"
      ]
     },
     "metadata": {},
     "output_type": "display_data"
    },
    {
     "data": {
      "text/plain": [
       "0.4936497107978557"
      ]
     },
     "execution_count": 53,
     "metadata": {},
     "output_type": "execute_result"
    }
   ],
   "source": [
    "nx.draw_circular(G)\n",
    "plt.show()\n",
    "nx.density(G)"
   ]
  },
  {
   "cell_type": "code",
   "execution_count": null,
   "metadata": {},
   "outputs": [],
   "source": [
    "communities_generator = community.girvan_newman(G)\n",
    "top_level_communities = next(communities_generator)\n",
    "next_level_communities = next(communities_generator)\n",
    "j=sorted(map(sorted, next_level_communities))\n",
    "print(j)"
   ]
  },
  {
   "cell_type": "code",
   "execution_count": null,
   "metadata": {},
   "outputs": [],
   "source": [
    "print(\"No of communities : \" + str(len(j)))"
   ]
  },
  {
   "cell_type": "code",
   "execution_count": null,
   "metadata": {},
   "outputs": [],
   "source": []
  }
 ],
 "metadata": {
  "kernelspec": {
   "display_name": "Python 3",
   "language": "python",
   "name": "python3"
  },
  "language_info": {
   "codemirror_mode": {
    "name": "ipython",
    "version": 3
   },
   "file_extension": ".py",
   "mimetype": "text/x-python",
   "name": "python",
   "nbconvert_exporter": "python",
   "pygments_lexer": "ipython3",
   "version": "3.6.7"
  }
 },
 "nbformat": 4,
 "nbformat_minor": 2
}
