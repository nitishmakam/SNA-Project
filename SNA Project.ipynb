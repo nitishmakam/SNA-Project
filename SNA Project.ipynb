{
 "cells": [
  {
   "cell_type": "code",
   "execution_count": 1,
   "metadata": {},
   "outputs": [],
   "source": [
    "#SNA Project Part2"
   ]
  },
  {
   "cell_type": "code",
   "execution_count": 3,
   "metadata": {},
   "outputs": [],
   "source": [
    "import numpy as np\n",
    "import pandas as pd"
   ]
  },
  {
   "cell_type": "code",
   "execution_count": 14,
   "metadata": {},
   "outputs": [],
   "source": [
    "u_cols=[\"user_id\",\"age\",\"sex\",\"occupation\",\"zip_code\"]\n",
    "r_cols=[\"user_id\",\"movie_id\",\"rating\",\"timestamp\"]\n",
    "m_cols=[\"movie_id\",\"title\",\"release_date\",\"video_release_date\",\"imdb_url\",\"unknown\",\"Action\",\"Adventure\",\n",
    "       \"Animation\",\"Children\\'s\",\"Comedy\",\"Crime\",\"Documentary\",\"Drama\",\"Fantasy\",\"Film-Noir\",\"Horror\",\"Musical\",\n",
    "       \"Mystery\",\"Romance\",\"Sci-Fi\",\"Thriller\",\"War\",\"Western\"]\n",
    "# 1.Users Dataset\n",
    "users=pd.read_csv(\"u.user\",sep='|',names=u_cols,parse_dates=True)\n",
    "#2. Rating dataset\n",
    "ratings=pd.read_csv(\"u.data\",sep='\\t',names=r_cols)\n",
    "#3. Movies Dataset\n",
    "movies=pd.read_csv(\"u.item\",sep='|',names=m_cols,encoding=\"latin-1\")"
   ]
  },
  {
   "cell_type": "code",
   "execution_count": null,
   "metadata": {},
   "outputs": [],
   "source": []
  }
 ],
 "metadata": {
  "kernelspec": {
   "display_name": "Python 3",
   "language": "python",
   "name": "python3"
  },
  "language_info": {
   "codemirror_mode": {
    "name": "ipython",
    "version": 3
   },
   "file_extension": ".py",
   "mimetype": "text/x-python",
   "name": "python",
   "nbconvert_exporter": "python",
   "pygments_lexer": "ipython3",
   "version": "3.6.6"
  }
 },
 "nbformat": 4,
 "nbformat_minor": 2
}
